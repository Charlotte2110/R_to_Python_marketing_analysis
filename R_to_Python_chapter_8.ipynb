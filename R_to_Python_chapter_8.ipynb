{
 "cells": [
  {
   "cell_type": "markdown",
   "metadata": {},
   "source": [
    "<h1><center> R to Python<br><br>Marketing Research and Analytics<br><br>CHAPTER 8: Reducing Data Complexity</center></h1>"
   ]
  },
  {
   "cell_type": "markdown",
   "metadata": {},
   "source": [
    "This tutorial aims at providing the python code for the book *R for Marketing Research and Analytics* (Chapman, Christopher N., McDonnell Feit, Elea). We will follow the chapters of the book and provide a Python version of the R code presented in the book.\n",
    "<br>In this tutorial, we tackle chapter 8 of the book. Please look at the other tutorials for other chapters."
   ]
  },
  {
   "cell_type": "markdown",
   "metadata": {},
   "source": [
    "<font color=crimson>**Reducing Data Complexity**</font>:\n",
    "<br>In this chapter, we study 3 common methods for complexity reduction.\n",
    "1. **Principal Component Analysis (PCA)**: find uncorrelated linear dimensions that capture maximal variance in the data.\n",
    "2. **Exploratory factor Analysis (EFA)**: capture variance with a small number of dimensions while seeking to make dimensions interpretable in terms of original variables.\n",
    "3. **Multidimensional scaling (MDS)**: maps similarities among observations in terms of a low dimension space (e.g. 2-dimensional plot)."
   ]
  },
  {
   "cell_type": "markdown",
   "metadata": {},
   "source": [
    "## STEP 1: Importing the required libraries"
   ]
  },
  {
   "cell_type": "code",
   "execution_count": 1,
   "metadata": {},
   "outputs": [
    {
     "name": "stderr",
     "output_type": "stream",
     "text": [
      "C:\\Users\\cdague\\AppData\\Local\\Continuum\\anaconda2\\lib\\site-packages\\statsmodels\\compat\\pandas.py:56: FutureWarning: The pandas.core.datetools module is deprecated and will be removed in a future version. Please use the pandas.tseries module instead.\n",
      "  from pandas.core import datetools\n"
     ]
    }
   ],
   "source": [
    "#Libraries for data analysis and wrangling\n",
    "import pandas as pd\n",
    "import numpy as np\n",
    "import random as rnd\n",
    "import datetime\n",
    "from datetime import date\n",
    "from dateutil.relativedelta import relativedelta\n",
    "import calendar\n",
    "from sklearn.feature_selection import chi2\n",
    "from io import StringIO\n",
    "import scipy as sp\n",
    "from scipy import stats\n",
    "import astropy\n",
    "from astropy import stats\n",
    "from statsmodels.distributions.empirical_distribution import ECDF\n",
    "import statsmodels.api as sm\n",
    "from statsmodels.formula.api import ols\n",
    "from statsmodels.stats.multicomp import pairwise_tukeyhsd\n",
    "#Libraries for data visualization\n",
    "import seaborn as sns\n",
    "import matplotlib.pyplot as plt\n",
    "#Below code allows for the graphs to be plotted directly under the coding cell\n",
    "%matplotlib inline \n",
    "from matplotlib.pylab import rcParams\n",
    "rcParams['figure.figsize'] = 11, 7"
   ]
  },
  {
   "cell_type": "markdown",
   "metadata": {},
   "source": [
    "## STEP 2: Importing the dataset for brand data"
   ]
  },
  {
   "cell_type": "code",
   "execution_count": 3,
   "metadata": {},
   "outputs": [],
   "source": [
    "#Import csv file \n",
    "brand_df=pd.read_csv('brand.csv')"
   ]
  },
  {
   "cell_type": "markdown",
   "metadata": {},
   "source": [
    "## STEP 3: Preliminary data inspection"
   ]
  },
  {
   "cell_type": "code",
   "execution_count": 4,
   "metadata": {},
   "outputs": [
    {
     "data": {
      "text/plain": [
       "(1000, 10)"
      ]
     },
     "execution_count": 4,
     "metadata": {},
     "output_type": "execute_result"
    }
   ],
   "source": [
    "brand_df.shape"
   ]
  },
  {
   "cell_type": "code",
   "execution_count": 5,
   "metadata": {},
   "outputs": [
    {
     "data": {
      "text/html": [
       "<div>\n",
       "<style>\n",
       "    .dataframe thead tr:only-child th {\n",
       "        text-align: right;\n",
       "    }\n",
       "\n",
       "    .dataframe thead th {\n",
       "        text-align: left;\n",
       "    }\n",
       "\n",
       "    .dataframe tbody tr th {\n",
       "        vertical-align: top;\n",
       "    }\n",
       "</style>\n",
       "<table border=\"1\" class=\"dataframe\">\n",
       "  <thead>\n",
       "    <tr style=\"text-align: right;\">\n",
       "      <th></th>\n",
       "      <th>perform</th>\n",
       "      <th>leader</th>\n",
       "      <th>latest</th>\n",
       "      <th>fun</th>\n",
       "      <th>serious</th>\n",
       "      <th>bargain</th>\n",
       "      <th>value</th>\n",
       "      <th>trendy</th>\n",
       "      <th>rebuy</th>\n",
       "    </tr>\n",
       "  </thead>\n",
       "  <tbody>\n",
       "    <tr>\n",
       "      <th>count</th>\n",
       "      <td>1000.000000</td>\n",
       "      <td>1000.000000</td>\n",
       "      <td>1000.000000</td>\n",
       "      <td>1000.00000</td>\n",
       "      <td>1000.000000</td>\n",
       "      <td>1000.000000</td>\n",
       "      <td>1000.00000</td>\n",
       "      <td>1000.000000</td>\n",
       "      <td>1000.000000</td>\n",
       "    </tr>\n",
       "    <tr>\n",
       "      <th>mean</th>\n",
       "      <td>4.488000</td>\n",
       "      <td>4.417000</td>\n",
       "      <td>6.195000</td>\n",
       "      <td>6.06800</td>\n",
       "      <td>4.323000</td>\n",
       "      <td>4.259000</td>\n",
       "      <td>4.33700</td>\n",
       "      <td>5.220000</td>\n",
       "      <td>3.727000</td>\n",
       "    </tr>\n",
       "    <tr>\n",
       "      <th>std</th>\n",
       "      <td>3.203454</td>\n",
       "      <td>2.608432</td>\n",
       "      <td>3.078059</td>\n",
       "      <td>2.74425</td>\n",
       "      <td>2.778199</td>\n",
       "      <td>2.667027</td>\n",
       "      <td>2.39858</td>\n",
       "      <td>2.742101</td>\n",
       "      <td>2.544592</td>\n",
       "    </tr>\n",
       "    <tr>\n",
       "      <th>min</th>\n",
       "      <td>1.000000</td>\n",
       "      <td>1.000000</td>\n",
       "      <td>1.000000</td>\n",
       "      <td>1.00000</td>\n",
       "      <td>1.000000</td>\n",
       "      <td>1.000000</td>\n",
       "      <td>1.00000</td>\n",
       "      <td>1.000000</td>\n",
       "      <td>1.000000</td>\n",
       "    </tr>\n",
       "    <tr>\n",
       "      <th>25%</th>\n",
       "      <td>1.000000</td>\n",
       "      <td>2.000000</td>\n",
       "      <td>4.000000</td>\n",
       "      <td>4.00000</td>\n",
       "      <td>2.000000</td>\n",
       "      <td>2.000000</td>\n",
       "      <td>2.00000</td>\n",
       "      <td>3.000000</td>\n",
       "      <td>1.000000</td>\n",
       "    </tr>\n",
       "    <tr>\n",
       "      <th>50%</th>\n",
       "      <td>4.000000</td>\n",
       "      <td>4.000000</td>\n",
       "      <td>7.000000</td>\n",
       "      <td>6.00000</td>\n",
       "      <td>4.000000</td>\n",
       "      <td>4.000000</td>\n",
       "      <td>4.00000</td>\n",
       "      <td>5.000000</td>\n",
       "      <td>3.000000</td>\n",
       "    </tr>\n",
       "    <tr>\n",
       "      <th>75%</th>\n",
       "      <td>7.000000</td>\n",
       "      <td>6.000000</td>\n",
       "      <td>9.000000</td>\n",
       "      <td>8.00000</td>\n",
       "      <td>6.000000</td>\n",
       "      <td>6.000000</td>\n",
       "      <td>6.00000</td>\n",
       "      <td>7.000000</td>\n",
       "      <td>5.000000</td>\n",
       "    </tr>\n",
       "    <tr>\n",
       "      <th>max</th>\n",
       "      <td>10.000000</td>\n",
       "      <td>10.000000</td>\n",
       "      <td>10.000000</td>\n",
       "      <td>10.00000</td>\n",
       "      <td>10.000000</td>\n",
       "      <td>10.000000</td>\n",
       "      <td>10.00000</td>\n",
       "      <td>10.000000</td>\n",
       "      <td>10.000000</td>\n",
       "    </tr>\n",
       "  </tbody>\n",
       "</table>\n",
       "</div>"
      ],
      "text/plain": [
       "           perform       leader       latest         fun      serious  \\\n",
       "count  1000.000000  1000.000000  1000.000000  1000.00000  1000.000000   \n",
       "mean      4.488000     4.417000     6.195000     6.06800     4.323000   \n",
       "std       3.203454     2.608432     3.078059     2.74425     2.778199   \n",
       "min       1.000000     1.000000     1.000000     1.00000     1.000000   \n",
       "25%       1.000000     2.000000     4.000000     4.00000     2.000000   \n",
       "50%       4.000000     4.000000     7.000000     6.00000     4.000000   \n",
       "75%       7.000000     6.000000     9.000000     8.00000     6.000000   \n",
       "max      10.000000    10.000000    10.000000    10.00000    10.000000   \n",
       "\n",
       "           bargain       value       trendy        rebuy  \n",
       "count  1000.000000  1000.00000  1000.000000  1000.000000  \n",
       "mean      4.259000     4.33700     5.220000     3.727000  \n",
       "std       2.667027     2.39858     2.742101     2.544592  \n",
       "min       1.000000     1.00000     1.000000     1.000000  \n",
       "25%       2.000000     2.00000     3.000000     1.000000  \n",
       "50%       4.000000     4.00000     5.000000     3.000000  \n",
       "75%       6.000000     6.00000     7.000000     5.000000  \n",
       "max      10.000000    10.00000    10.000000    10.000000  "
      ]
     },
     "execution_count": 5,
     "metadata": {},
     "output_type": "execute_result"
    }
   ],
   "source": [
    "brand_df.describe()"
   ]
  },
  {
   "cell_type": "code",
   "execution_count": 6,
   "metadata": {},
   "outputs": [
    {
     "data": {
      "text/html": [
       "<div>\n",
       "<style>\n",
       "    .dataframe thead tr:only-child th {\n",
       "        text-align: right;\n",
       "    }\n",
       "\n",
       "    .dataframe thead th {\n",
       "        text-align: left;\n",
       "    }\n",
       "\n",
       "    .dataframe tbody tr th {\n",
       "        vertical-align: top;\n",
       "    }\n",
       "</style>\n",
       "<table border=\"1\" class=\"dataframe\">\n",
       "  <thead>\n",
       "    <tr style=\"text-align: right;\">\n",
       "      <th></th>\n",
       "      <th>brand</th>\n",
       "    </tr>\n",
       "  </thead>\n",
       "  <tbody>\n",
       "    <tr>\n",
       "      <th>count</th>\n",
       "      <td>1000</td>\n",
       "    </tr>\n",
       "    <tr>\n",
       "      <th>unique</th>\n",
       "      <td>10</td>\n",
       "    </tr>\n",
       "    <tr>\n",
       "      <th>top</th>\n",
       "      <td>j</td>\n",
       "    </tr>\n",
       "    <tr>\n",
       "      <th>freq</th>\n",
       "      <td>100</td>\n",
       "    </tr>\n",
       "  </tbody>\n",
       "</table>\n",
       "</div>"
      ],
      "text/plain": [
       "       brand\n",
       "count   1000\n",
       "unique    10\n",
       "top        j\n",
       "freq     100"
      ]
     },
     "execution_count": 6,
     "metadata": {},
     "output_type": "execute_result"
    }
   ],
   "source": [
    "brand_df.describe(include=['O']) #10 brands"
   ]
  },
  {
   "cell_type": "code",
   "execution_count": 7,
   "metadata": {},
   "outputs": [
    {
     "name": "stdout",
     "output_type": "stream",
     "text": [
      "<class 'pandas.core.frame.DataFrame'>\n",
      "RangeIndex: 1000 entries, 0 to 999\n",
      "Data columns (total 10 columns):\n",
      "perform    1000 non-null int64\n",
      "leader     1000 non-null int64\n",
      "latest     1000 non-null int64\n",
      "fun        1000 non-null int64\n",
      "serious    1000 non-null int64\n",
      "bargain    1000 non-null int64\n",
      "value      1000 non-null int64\n",
      "trendy     1000 non-null int64\n",
      "rebuy      1000 non-null int64\n",
      "brand      1000 non-null object\n",
      "dtypes: int64(9), object(1)\n",
      "memory usage: 78.2+ KB\n"
     ]
    }
   ],
   "source": [
    "brand_df.info()"
   ]
  },
  {
   "cell_type": "markdown",
   "metadata": {},
   "source": [
    "**Classification of variables**\n",
    "- Categorical variable: brand\n",
    "- Discrete variables: perform, leader, latest, fun, serious, value, trendy, rebuy"
   ]
  },
  {
   "cell_type": "code",
   "execution_count": 8,
   "metadata": {},
   "outputs": [
    {
     "data": {
      "text/plain": [
       "j    100\n",
       "h    100\n",
       "i    100\n",
       "f    100\n",
       "g    100\n",
       "d    100\n",
       "e    100\n",
       "b    100\n",
       "c    100\n",
       "a    100\n",
       "Name: brand, dtype: int64"
      ]
     },
     "execution_count": 8,
     "metadata": {},
     "output_type": "execute_result"
    }
   ],
   "source": [
    "brand_df['brand'].value_counts() #All brands have same number of occurence (100 occurences)"
   ]
  },
  {
   "cell_type": "markdown",
   "metadata": {},
   "source": [
    "## STEP 4: Rescaling the Data"
   ]
  },
  {
   "cell_type": "markdown",
   "metadata": {},
   "source": [
    "<font color=blue>**The Maths behind it**</font>: **Feature scaling**\n",
    "<br>Feature scaling is a method used to standardize the range of independent variables or features in the data. We usually use one of the main four methods as described below:\n",
    "1. **Rescaling**: $x{\\_}sc = \\frac{x - min(x)}{max(x)-min(x)}$\n",
    "2. **Mean normalization**: $x{\\_}sc = \\frac{x - mean(x)}{max(x)-min(x)}$\n",
    "3. **Standardization**: makes the values of each feature in the data to have zero mean and unit variance. $$x{\\_}sc = \\frac{x - \\overline{x}}{\\sigma},$$ where $\\overline{x}$ is the mean of the feature vector and $\\sigma$ its standard deviation.\n",
    "4. **Scaling to unit length**: $x{\\_}sc = \\frac{x}{\\| \\mathbf{x} \\|}$\n",
    "\n",
    "*To go further*: https://en.wikipedia.org/wiki/Feature_scaling"
   ]
  },
  {
   "cell_type": "markdown",
   "metadata": {},
   "source": [
    "<font color=red>R code</font>: *Rescaling data*\n",
    "<br>$brand.sc<-brand{\\_}df$\n",
    "<br>$brand.sc[,1:9]<-scale(brand{\\_}df[,1:9])$"
   ]
  },
  {
   "cell_type": "code",
   "execution_count": 9,
   "metadata": {},
   "outputs": [],
   "source": [
    "#Python rescale the data\n",
    "from sklearn.preprocessing import StandardScaler\n",
    "sc = StandardScaler()\n",
    "brand_sc=brand_df[:]\n",
    "brand_sc.iloc[:, range(0,9)]=sc.fit_transform(brand_sc.iloc[:,range(0,9)])"
   ]
  },
  {
   "cell_type": "markdown",
   "metadata": {},
   "source": [
    "<font color=green>**Cracking the code**</font>: **sklearn.preprocessing.StandardScaler**\n",
    "<br>Standardize features by removing the mean and scaling to unit variance.\n",
    "<br>**Syntax**: $from\\,sklearn.preprocessing\\,import\\,StandardScaler$ \n",
    "<br>**Reference**: http://scikit-learn.org/stable/modules/generated/sklearn.preprocessing.StandardScaler.html "
   ]
  },
  {
   "cell_type": "code",
   "execution_count": 10,
   "metadata": {},
   "outputs": [
    {
     "data": {
      "text/html": [
       "<div>\n",
       "<style>\n",
       "    .dataframe thead tr:only-child th {\n",
       "        text-align: right;\n",
       "    }\n",
       "\n",
       "    .dataframe thead th {\n",
       "        text-align: left;\n",
       "    }\n",
       "\n",
       "    .dataframe tbody tr th {\n",
       "        vertical-align: top;\n",
       "    }\n",
       "</style>\n",
       "<table border=\"1\" class=\"dataframe\">\n",
       "  <thead>\n",
       "    <tr style=\"text-align: right;\">\n",
       "      <th></th>\n",
       "      <th>perform</th>\n",
       "      <th>leader</th>\n",
       "      <th>latest</th>\n",
       "      <th>fun</th>\n",
       "      <th>serious</th>\n",
       "      <th>bargain</th>\n",
       "      <th>value</th>\n",
       "      <th>trendy</th>\n",
       "      <th>rebuy</th>\n",
       "    </tr>\n",
       "  </thead>\n",
       "  <tbody>\n",
       "    <tr>\n",
       "      <th>count</th>\n",
       "      <td>1.000000e+03</td>\n",
       "      <td>1.000000e+03</td>\n",
       "      <td>1.000000e+03</td>\n",
       "      <td>1.000000e+03</td>\n",
       "      <td>1.000000e+03</td>\n",
       "      <td>1.000000e+03</td>\n",
       "      <td>1.000000e+03</td>\n",
       "      <td>1.000000e+03</td>\n",
       "      <td>1.000000e+03</td>\n",
       "    </tr>\n",
       "    <tr>\n",
       "      <th>mean</th>\n",
       "      <td>-5.240253e-16</td>\n",
       "      <td>2.368106e-16</td>\n",
       "      <td>-3.069767e-16</td>\n",
       "      <td>8.874013e-16</td>\n",
       "      <td>-7.295553e-17</td>\n",
       "      <td>-6.918910e-16</td>\n",
       "      <td>-3.277378e-16</td>\n",
       "      <td>-3.196610e-16</td>\n",
       "      <td>1.816325e-16</td>\n",
       "    </tr>\n",
       "    <tr>\n",
       "      <th>std</th>\n",
       "      <td>1.000500e+00</td>\n",
       "      <td>1.000500e+00</td>\n",
       "      <td>1.000500e+00</td>\n",
       "      <td>1.000500e+00</td>\n",
       "      <td>1.000500e+00</td>\n",
       "      <td>1.000500e+00</td>\n",
       "      <td>1.000500e+00</td>\n",
       "      <td>1.000500e+00</td>\n",
       "      <td>1.000500e+00</td>\n",
       "    </tr>\n",
       "    <tr>\n",
       "      <th>min</th>\n",
       "      <td>-1.089370e+00</td>\n",
       "      <td>-1.310638e+00</td>\n",
       "      <td>-1.688596e+00</td>\n",
       "      <td>-1.847695e+00</td>\n",
       "      <td>-1.196697e+00</td>\n",
       "      <td>-1.222571e+00</td>\n",
       "      <td>-1.391936e+00</td>\n",
       "      <td>-1.539736e+00</td>\n",
       "      <td>-1.072221e+00</td>\n",
       "    </tr>\n",
       "    <tr>\n",
       "      <th>25%</th>\n",
       "      <td>-1.089370e+00</td>\n",
       "      <td>-9.270741e-01</td>\n",
       "      <td>-7.134685e-01</td>\n",
       "      <td>-7.539528e-01</td>\n",
       "      <td>-8.365716e-01</td>\n",
       "      <td>-8.474344e-01</td>\n",
       "      <td>-9.748142e-01</td>\n",
       "      <td>-8.100032e-01</td>\n",
       "      <td>-1.072221e+00</td>\n",
       "    </tr>\n",
       "    <tr>\n",
       "      <th>50%</th>\n",
       "      <td>-1.524118e-01</td>\n",
       "      <td>-1.599462e-01</td>\n",
       "      <td>2.616593e-01</td>\n",
       "      <td>-2.479148e-02</td>\n",
       "      <td>-1.163205e-01</td>\n",
       "      <td>-9.716048e-02</td>\n",
       "      <td>-1.405701e-01</td>\n",
       "      <td>-8.027059e-02</td>\n",
       "      <td>-2.858470e-01</td>\n",
       "    </tr>\n",
       "    <tr>\n",
       "      <th>75%</th>\n",
       "      <td>7.845460e-01</td>\n",
       "      <td>6.071818e-01</td>\n",
       "      <td>9.117445e-01</td>\n",
       "      <td>7.043698e-01</td>\n",
       "      <td>6.039305e-01</td>\n",
       "      <td>6.531135e-01</td>\n",
       "      <td>6.936739e-01</td>\n",
       "      <td>6.494620e-01</td>\n",
       "      <td>5.005271e-01</td>\n",
       "    </tr>\n",
       "    <tr>\n",
       "      <th>max</th>\n",
       "      <td>1.721504e+00</td>\n",
       "      <td>2.141438e+00</td>\n",
       "      <td>1.236787e+00</td>\n",
       "      <td>1.433531e+00</td>\n",
       "      <td>2.044433e+00</td>\n",
       "      <td>2.153661e+00</td>\n",
       "      <td>2.362162e+00</td>\n",
       "      <td>1.744061e+00</td>\n",
       "      <td>2.466462e+00</td>\n",
       "    </tr>\n",
       "  </tbody>\n",
       "</table>\n",
       "</div>"
      ],
      "text/plain": [
       "            perform        leader        latest           fun       serious  \\\n",
       "count  1.000000e+03  1.000000e+03  1.000000e+03  1.000000e+03  1.000000e+03   \n",
       "mean  -5.240253e-16  2.368106e-16 -3.069767e-16  8.874013e-16 -7.295553e-17   \n",
       "std    1.000500e+00  1.000500e+00  1.000500e+00  1.000500e+00  1.000500e+00   \n",
       "min   -1.089370e+00 -1.310638e+00 -1.688596e+00 -1.847695e+00 -1.196697e+00   \n",
       "25%   -1.089370e+00 -9.270741e-01 -7.134685e-01 -7.539528e-01 -8.365716e-01   \n",
       "50%   -1.524118e-01 -1.599462e-01  2.616593e-01 -2.479148e-02 -1.163205e-01   \n",
       "75%    7.845460e-01  6.071818e-01  9.117445e-01  7.043698e-01  6.039305e-01   \n",
       "max    1.721504e+00  2.141438e+00  1.236787e+00  1.433531e+00  2.044433e+00   \n",
       "\n",
       "            bargain         value        trendy         rebuy  \n",
       "count  1.000000e+03  1.000000e+03  1.000000e+03  1.000000e+03  \n",
       "mean  -6.918910e-16 -3.277378e-16 -3.196610e-16  1.816325e-16  \n",
       "std    1.000500e+00  1.000500e+00  1.000500e+00  1.000500e+00  \n",
       "min   -1.222571e+00 -1.391936e+00 -1.539736e+00 -1.072221e+00  \n",
       "25%   -8.474344e-01 -9.748142e-01 -8.100032e-01 -1.072221e+00  \n",
       "50%   -9.716048e-02 -1.405701e-01 -8.027059e-02 -2.858470e-01  \n",
       "75%    6.531135e-01  6.936739e-01  6.494620e-01  5.005271e-01  \n",
       "max    2.153661e+00  2.362162e+00  1.744061e+00  2.466462e+00  "
      ]
     },
     "execution_count": 10,
     "metadata": {},
     "output_type": "execute_result"
    }
   ],
   "source": [
    "#Check the standardization\n",
    "brand_sc.describe()"
   ]
  },
  {
   "cell_type": "code",
   "execution_count": 11,
   "metadata": {},
   "outputs": [
    {
     "data": {
      "text/plain": [
       "perform    0\n",
       "leader     0\n",
       "latest     0\n",
       "fun        0\n",
       "serious    0\n",
       "bargain    0\n",
       "value      0\n",
       "trendy     0\n",
       "rebuy      0\n",
       "dtype: int32"
      ]
     },
     "execution_count": 11,
     "metadata": {},
     "output_type": "execute_result"
    }
   ],
   "source": [
    "brand_sc.loc[:, \"perform\":\"rebuy\" ].apply(np.mean, axis=0).astype(int)"
   ]
  },
  {
   "cell_type": "code",
   "execution_count": 12,
   "metadata": {},
   "outputs": [
    {
     "data": {
      "text/plain": [
       "perform    1.0\n",
       "leader     1.0\n",
       "latest     1.0\n",
       "fun        1.0\n",
       "serious    1.0\n",
       "bargain    1.0\n",
       "value      1.0\n",
       "trendy     1.0\n",
       "rebuy      1.0\n",
       "dtype: float64"
      ]
     },
     "execution_count": 12,
     "metadata": {},
     "output_type": "execute_result"
    }
   ],
   "source": [
    "brand_sc.loc[:, \"perform\":\"rebuy\" ].apply(np.std, axis=0)"
   ]
  },
  {
   "cell_type": "code",
   "execution_count": 13,
   "metadata": {},
   "outputs": [
    {
     "data": {
      "text/plain": [
       "<matplotlib.axes._subplots.AxesSubplot at 0x14fc35c0>"
      ]
     },
     "execution_count": 13,
     "metadata": {},
     "output_type": "execute_result"
    },
    {
     "data": {
      "image/png": "[encoded data removed]",
      "text/plain": [
       "<matplotlib.figure.Figure at 0x14fc39e8>"
      ]
     },
     "metadata": {},
     "output_type": "display_data"
    }
   ],
   "source": [
    "#Initial investigation of correlation between features\n",
    "sns.heatmap(brand_df.loc[:, \"perform\":\"rebuy\"].corr(),\n",
    "            annot=True,\n",
    "            cmap='YlGnBu',\n",
    "            vmin=0, \n",
    "            vmax=1)"
   ]
  },
  {
   "cell_type": "code",
   "execution_count": 14,
   "metadata": {},
   "outputs": [],
   "source": [
    "#Aggregate mean ratings by brand\n",
    "brand_mean=brand_sc.groupby('brand').mean()"
   ]
  },
  {
   "cell_type": "code",
   "execution_count": 15,
   "metadata": {},
   "outputs": [
    {
     "data": {
      "text/plain": [
       "Text(0.5,1,u'Brand attributes')"
      ]
     },
     "execution_count": 15,
     "metadata": {},
     "output_type": "execute_result"
    },
    {
     "data": {
      "image/png": "[encoded data removed]",
      "text/plain": [
       "<matplotlib.figure.Figure at 0x15247b70>"
      ]
     },
     "metadata": {},
     "output_type": "display_data"
    }
   ],
   "source": [
    "#Cluster map to see the similarities between the brands (group the brands by similarities)\n",
    "sns.clustermap(brand_mean,\n",
    "            cmap='YlGnBu')\n",
    "plt.title('Brand attributes')"
   ]
  },
  {
   "cell_type": "markdown",
   "metadata": {},
   "source": [
    "<font color=green>**Cracking the code**</font>: **sns.clustermap**\n",
    "<br>Plot a matrix dataset as a hierarchically-clustered heatmap.\n",
    "<br>**Syntax**: $sns.clustermap(data,\\,method)$ \n",
    "<br>**Reference**: https://seaborn.pydata.org/generated/seaborn.clustermap.html"
   ]
  },
  {
   "cell_type": "markdown",
   "metadata": {},
   "source": [
    "## STEP 5: Principal Component Analysis (PCA)"
   ]
  },
  {
   "cell_type": "markdown",
   "metadata": {},
   "source": [
    "<font color=crimson>**Principal Component Analysis (PCA)**</font>:\n",
    "<br>PCA rotates the dataset in such a way that the rotated features are statistically uncorrelated. PCA combines multiple predictor variables into a smaller set of variables, which are weighted linear combinations of the original dataset. the smaller set of variables, called the **principal components**, explains most of the variability of the full set of variables, reducing the dimension of the data.\n",
    "<br>**Key concepts**:\n",
    "- principal components are calculated so as to minimize correlation between components, thereby reducinng redundancy.\n",
    "- one of the main application of PCA is dimensionality reduction for visualization purpose.\n",
    "\n",
    "*Example*: for two variables $X_1$ and $X_2$, we define two principal components $Z_1$, $Z_2$ as follows:\n",
    "\n",
    "$$Z_{i}=w_{i,1}X_{1}+w_{i,2}X_{2},\\,\\,i\\in \\{1,2\\},$$\n",
    "where the weights $w_{i,1},\\,w_{i,2}$ are called the *component loadings*.\n",
    "<br>$Z_{1}$ is the linear combination that best explains the variation in the data while $Z_{2}$ explains the remaining.\n",
    "\n",
    "<br>**Downside of PCA**: it can be hard to interpret the meaning of the principal components."
   ]
  },
  {
   "cell_type": "markdown",
   "metadata": {},
   "source": [
    "<font color=red>R code</font>: *PCA: prcomp*\n",
    "<br>$my.pca <- prcomp(my.vars)$\n",
    "<br>$summary(my.pca)$\n",
    "<br>prcomp chooses the optimal number of principal components (unlike Python where we have to specify it)."
   ]
  },
  {
   "cell_type": "code",
   "execution_count": 16,
   "metadata": {},
   "outputs": [],
   "source": [
    "#PCA in Python: need to specify how many components we want to keep when creating PCA object\n",
    "from sklearn.decomposition import PCA"
   ]
  },
  {
   "cell_type": "code",
   "execution_count": 17,
   "metadata": {},
   "outputs": [],
   "source": [
    "pca=PCA(n_components=9)"
   ]
  },
  {
   "cell_type": "code",
   "execution_count": 18,
   "metadata": {},
   "outputs": [],
   "source": [
    "#Fit the PCA model to the dataset and transform it\n",
    "brand_pc=pca.fit(brand_sc.iloc[:,0:9])"
   ]
  },
  {
   "cell_type": "markdown",
   "metadata": {},
   "source": [
    "<font color=green>**Cracking the code**</font>: **sklearn.decomposition.PCA**\n",
    "<br>Linear dimensionality reduction using Singular Value Decomposition of the data to project it to a lower dimensional space.\n",
    "<br>**Syntax**: $sklearn.decomposition.PCA(n{\\_}components)$, if $n{\\_}components$ is not defined, then all components are kept.\n",
    "<br>**Reference**: http://scikit-learn.org/stable/modules/generated/sklearn.decomposition.PCA.html"
   ]
  },
  {
   "cell_type": "markdown",
   "metadata": {},
   "source": [
    "##### Elbow method: Amount of variance that each PC explains"
   ]
  },
  {
   "cell_type": "markdown",
   "metadata": {},
   "source": [
    "<font color=red>R code</font>: *scree plot*\n",
    "<br>A *scree plot()* of a PCA solution shows the successive variance acccounted by each component.This is the default plot for a PCA.\n",
    "<br>$plot(brand.pc,\\,type=\"l\")$"
   ]
  },
  {
   "cell_type": "code",
   "execution_count": 19,
   "metadata": {},
   "outputs": [
    {
     "data": {
      "text/plain": [
       "[<matplotlib.lines.Line2D at 0x15c17898>]"
      ]
     },
     "execution_count": 19,
     "metadata": {},
     "output_type": "execute_result"
    },
    {
     "data": {
      "image/png": "[encoded data removed]",
      "text/plain": [
       "<matplotlib.figure.Figure at 0x15b853c8>"
      ]
     },
     "metadata": {},
     "output_type": "display_data"
    }
   ],
   "source": [
    "var=pca.explained_variance_ratio_\n",
    "plt.plot(var) #Elbow occurs at either 3rd or 4th component"
   ]
  },
  {
   "cell_type": "markdown",
   "metadata": {},
   "source": [
    "<font color=green>**Cracking the code**</font>: **pca.explained_variance_ratio_**\n",
    "<br>This returns the percentage of variance explained  by each of the selected components.\n",
    "<br>**Syntax**: $model.explained{\\_}variance{\\_}ratio{\\_}$\n",
    "<br>**Reference**: http://scikit-learn.org/stable/modules/generated/sklearn.decomposition.PCA.html#sklearn.decomposition.PCA"
   ]
  },
  {
   "cell_type": "code",
   "execution_count": 22,
   "metadata": {},
   "outputs": [
    {
     "data": {
      "text/plain": [
       "[<matplotlib.lines.Line2D at 0x1b80ba58>]"
      ]
     },
     "execution_count": 22,
     "metadata": {},
     "output_type": "execute_result"
    },
    {
     "data": {
      "image/png": "[encoded data removed]",
      "text/plain": [
       "<matplotlib.figure.Figure at 0x1b6c4cc0>"
      ]
     },
     "metadata": {},
     "output_type": "display_data"
    }
   ],
   "source": [
    "#Cumulative variance explained\n",
    "var1=np.cumsum(np.round(pca.explained_variance_ratio_, decimals=4)*100)\n",
    "plt.plot(var1)"
   ]
  },
  {
   "cell_type": "code",
   "execution_count": 23,
   "metadata": {},
   "outputs": [
    {
     "name": "stdout",
     "output_type": "stream",
     "text": [
      "[[ 1.01036278 -1.62300786  1.81527558]\n",
      " [-1.53720937 -1.83677187 -2.00276587]\n",
      " [ 1.21200083 -2.30192495  0.69760145]\n",
      " ...\n",
      " [-1.42307927 -2.09564259  1.43414192]\n",
      " [-2.08552324 -1.19425256 -1.27692351]\n",
      " [-1.50570199  0.47303273 -0.73876216]]\n"
     ]
    }
   ],
   "source": [
    "#We decide to  choose only 3 components as the first 2-3 components explain most of the variance\n",
    "pca=PCA(n_components=3)\n",
    "pca.fit(brand_sc.iloc[:,0:9])\n",
    "brand_pc1=pca.fit_transform(brand_sc.iloc[:,0:9])\n",
    "print(brand_pc1)"
   ]
  },
  {
   "cell_type": "markdown",
   "metadata": {},
   "source": [
    "##### Plot the first two principal components"
   ]
  },
  {
   "cell_type": "markdown",
   "metadata": {},
   "source": [
    "<font color=red>R code</font>: *biplot*\n",
    "<br>A biplot() of the first two principal components reveals how the rating adjectives are related.\n",
    "<br>$biplot(brand.pc)$"
   ]
  },
  {
   "cell_type": "code",
   "execution_count": 25,
   "metadata": {},
   "outputs": [],
   "source": [
    "def myplot(score,coeff,labels=None):\n",
    "    xs = score[:,0]\n",
    "    ys = score[:,1]\n",
    "    n = coeff.shape[0]\n",
    "    scalex = 1.0/(xs.max() - xs.min())\n",
    "    scaley = 1.0/(ys.max() - ys.min())\n",
    "    plt.scatter(xs * scalex,ys * scaley)\n",
    "    for i in range(n):\n",
    "        plt.arrow(0, 0, coeff[i,0], coeff[i,1],color = 'r',alpha = 0.5)\n",
    "        if labels is None:\n",
    "            plt.text(coeff[i,0]* 1.15, coeff[i,1] * 1.15, \"Var\"+str(i+1), color = 'g', ha = 'center', va = 'center')\n",
    "        else:\n",
    "            plt.text(coeff[i,0]* 1.15, coeff[i,1] * 1.15, labels[i], color = 'g', ha = 'center', va = 'center')\n",
    "    plt.xlim(-1,1)\n",
    "    plt.ylim(-1,1)\n",
    "    plt.xlabel(\"PC{}\".format(1))\n",
    "    plt.ylabel(\"PC{}\".format(2))\n",
    "    plt.grid()"
   ]
  },
  {
   "cell_type": "code",
   "execution_count": 26,
   "metadata": {},
   "outputs": [
    {
     "data": {
      "image/png": "[encoded data removed]",
      "text/plain": [
       "<matplotlib.figure.Figure at 0x1b61ba58>"
      ]
     },
     "metadata": {},
     "output_type": "display_data"
    }
   ],
   "source": [
    "#Call the function. Use only the 2 PCs.\n",
    "myplot(brand_pc1[:,0:2],np.transpose(pca.components_[0:2, :]), brand_sc.columns.values)\n",
    "plt.show()"
   ]
  },
  {
   "cell_type": "code",
   "execution_count": 27,
   "metadata": {},
   "outputs": [],
   "source": [
    "#Do the principal components analysis with the mean dataset\n",
    "pca=PCA(n_components=3)\n",
    "pca.fit(brand_mean)\n",
    "brand_mu_pc=pca.fit_transform(brand_mean)"
   ]
  },
  {
   "cell_type": "code",
   "execution_count": 28,
   "metadata": {},
   "outputs": [],
   "source": [
    "#Perceptual map and brand positioning\n",
    "def myplot1(score,coeff,labels=None):\n",
    "    xs = score[:,0]\n",
    "    ys = score[:,1]\n",
    "    n = coeff.shape[0]\n",
    "    scalex = 1.0/(xs.max() - xs.min())\n",
    "    scaley = 1.0/(ys.max() - ys.min())\n",
    "    plt.scatter(xs * scalex,ys * scaley, alpha=0.5)\n",
    "    for i in range(n):\n",
    "        plt.arrow(0, 0, coeff[i,0], coeff[i,1],color = 'r',alpha = 0.5)\n",
    "        if labels is None:\n",
    "            plt.text(coeff[i,0]* 1.15, coeff[i,1] * 1.15, \"Var\"+str(i+1), color = 'g', ha = 'center', va = 'center')\n",
    "        else:\n",
    "            plt.text(coeff[i,0]* 1.15, coeff[i,1] * 1.15, labels[i], color = 'g', ha = 'center', va = 'center')\n",
    "    plt.xlim(-1,1)\n",
    "    plt.ylim(-1,1)\n",
    "    plt.xlabel(\"PC{}\".format(1))\n",
    "    plt.ylabel(\"PC{}\".format(2))\n",
    "    plt.grid()"
   ]
  },
  {
   "cell_type": "code",
   "execution_count": 29,
   "metadata": {},
   "outputs": [
    {
     "data": {
      "image/png": "[encoded data removed]",
      "text/plain": [
       "<matplotlib.figure.Figure at 0x1ba408d0>"
      ]
     },
     "metadata": {},
     "output_type": "display_data"
    }
   ],
   "source": [
    "myplot1(brand_mu_pc[:,0:2],np.transpose(pca.components_[0:2, :]), brand_mean.columns.values)\n",
    "plt.show()"
   ]
  },
  {
   "cell_type": "markdown",
   "metadata": {},
   "source": [
    "## STEP 6: Exploratory Factor Analysis (EFA)"
   ]
  },
  {
   "cell_type": "markdown",
   "metadata": {},
   "source": [
    "<font color=crimson>**Exploratory Factor Analysis (EFA)**</font>:\n",
    "<br>Factor Analysis attempts to bring intercorrelated variables together under more general, underlying variables. *Factors* are thought of as *latent variables* that cannot be observed (e.g. stress, intelligence, creativity,...) and are imperfectly reflected through their relationship to other observed variables.\n",
    "<br>The output of EFA is somewhat similar to that of PCA: a matrix of factors (or principal components) and their association with the observed variables. However, unlike PCA, EFA attempts to find **solutions that are optimally interpretable** in terms of the original variables.\n",
    "<br>As for PCA, the first step of EFA is to determine the number of factors. This can be done using the elbow method and retaining factors where the eigenvalue is greater than 1.0"
   ]
  },
  {
   "cell_type": "markdown",
   "metadata": {},
   "source": [
    "<font color=blue>**The Maths behind it**</font>: **Eigenvalues and Eigenvectors**\n",
    "<br>Let $\\mathbb{A}$ be a matrix. \n",
    "<br>**Eigenvalues**: The number $\\lambda$ is an eigenvalue of $\\mathbb{A}$ if and only if $\\mathbb{A}-\\lambda \\mathbb{1}$ is singular ($\\mathbb{1}$ the identity matrix), that is:\n",
    "$$\\lambda\\,eigenvalue\\,of\\, \\mathbb{A} \\iff det(\\mathbb{A}-\\lambda \\mathbb{1})=0$$\n",
    "$det(\\mathbb{A}-\\lambda \\mathbb{1})=0$ is called the **characteristic equation**.\n",
    "<br>**Eigenvectors**: to find an eigenvector $x$ of $\\mathbb{A}$, for each $\\lambda$ solve $(\\mathbb{A}-\\lambda \\mathbb{1})x=0$ or $\\mathbb{A}x = \\lambda x$\n",
    "<br>*To go further*: http://math.mit.edu/~gs/linearalgebra/ila0601.pdf"
   ]
  },
  {
   "cell_type": "markdown",
   "metadata": {},
   "source": [
    "#### Determine the optimal number of factors"
   ]
  },
  {
   "cell_type": "markdown",
   "metadata": {},
   "source": [
    "<font color=red>R code</font>: *optimal number of factors*\n",
    "<br>$nScree(brand.sc[,1:9])$\n",
    "<br>or we can examine the eigenvalues on a correlation matrix\n",
    "<br>$eigen(cor(brand.sc[,1:9]))$"
   ]
  },
  {
   "cell_type": "code",
   "execution_count": null,
   "metadata": {},
   "outputs": [],
   "source": [
    "#In Python, there does not exist a function such as nScree, hence we use the eigenvalue method"
   ]
  },
  {
   "cell_type": "code",
   "execution_count": 21,
   "metadata": {},
   "outputs": [
    {
     "data": {
      "text/html": [
       "<div>\n",
       "<style>\n",
       "    .dataframe thead tr:only-child th {\n",
       "        text-align: right;\n",
       "    }\n",
       "\n",
       "    .dataframe thead th {\n",
       "        text-align: left;\n",
       "    }\n",
       "\n",
       "    .dataframe tbody tr th {\n",
       "        vertical-align: top;\n",
       "    }\n",
       "</style>\n",
       "<table border=\"1\" class=\"dataframe\">\n",
       "  <thead>\n",
       "    <tr style=\"text-align: right;\">\n",
       "      <th></th>\n",
       "      <th>perform</th>\n",
       "      <th>leader</th>\n",
       "      <th>latest</th>\n",
       "      <th>fun</th>\n",
       "      <th>serious</th>\n",
       "      <th>bargain</th>\n",
       "      <th>value</th>\n",
       "      <th>trendy</th>\n",
       "      <th>rebuy</th>\n",
       "    </tr>\n",
       "  </thead>\n",
       "  <tbody>\n",
       "    <tr>\n",
       "      <th>perform</th>\n",
       "      <td>1.000000</td>\n",
       "      <td>0.500202</td>\n",
       "      <td>-0.122446</td>\n",
       "      <td>-0.256332</td>\n",
       "      <td>0.359172</td>\n",
       "      <td>0.057129</td>\n",
       "      <td>0.101946</td>\n",
       "      <td>0.008733</td>\n",
       "      <td>0.306659</td>\n",
       "    </tr>\n",
       "    <tr>\n",
       "      <th>leader</th>\n",
       "      <td>0.500202</td>\n",
       "      <td>1.000000</td>\n",
       "      <td>0.026890</td>\n",
       "      <td>-0.290358</td>\n",
       "      <td>0.571215</td>\n",
       "      <td>0.033094</td>\n",
       "      <td>0.118310</td>\n",
       "      <td>0.066512</td>\n",
       "      <td>0.208700</td>\n",
       "    </tr>\n",
       "    <tr>\n",
       "      <th>latest</th>\n",
       "      <td>-0.122446</td>\n",
       "      <td>0.026890</td>\n",
       "      <td>1.000000</td>\n",
       "      <td>0.245154</td>\n",
       "      <td>0.009952</td>\n",
       "      <td>-0.254419</td>\n",
       "      <td>-0.342714</td>\n",
       "      <td>0.627628</td>\n",
       "      <td>-0.397180</td>\n",
       "    </tr>\n",
       "    <tr>\n",
       "      <th>fun</th>\n",
       "      <td>-0.256332</td>\n",
       "      <td>-0.290358</td>\n",
       "      <td>0.245154</td>\n",
       "      <td>1.000000</td>\n",
       "      <td>-0.281097</td>\n",
       "      <td>-0.066553</td>\n",
       "      <td>-0.145218</td>\n",
       "      <td>0.127974</td>\n",
       "      <td>-0.237161</td>\n",
       "    </tr>\n",
       "    <tr>\n",
       "      <th>serious</th>\n",
       "      <td>0.359172</td>\n",
       "      <td>0.571215</td>\n",
       "      <td>0.009952</td>\n",
       "      <td>-0.281097</td>\n",
       "      <td>1.000000</td>\n",
       "      <td>-0.002656</td>\n",
       "      <td>0.023757</td>\n",
       "      <td>0.121009</td>\n",
       "      <td>0.180703</td>\n",
       "    </tr>\n",
       "    <tr>\n",
       "      <th>bargain</th>\n",
       "      <td>0.057129</td>\n",
       "      <td>0.033094</td>\n",
       "      <td>-0.254419</td>\n",
       "      <td>-0.066553</td>\n",
       "      <td>-0.002656</td>\n",
       "      <td>1.000000</td>\n",
       "      <td>0.739627</td>\n",
       "      <td>-0.350534</td>\n",
       "      <td>0.467381</td>\n",
       "    </tr>\n",
       "    <tr>\n",
       "      <th>value</th>\n",
       "      <td>0.101946</td>\n",
       "      <td>0.118310</td>\n",
       "      <td>-0.342714</td>\n",
       "      <td>-0.145218</td>\n",
       "      <td>0.023757</td>\n",
       "      <td>0.739627</td>\n",
       "      <td>1.000000</td>\n",
       "      <td>-0.434535</td>\n",
       "      <td>0.505962</td>\n",
       "    </tr>\n",
       "    <tr>\n",
       "      <th>trendy</th>\n",
       "      <td>0.008733</td>\n",
       "      <td>0.066512</td>\n",
       "      <td>0.627628</td>\n",
       "      <td>0.127974</td>\n",
       "      <td>0.121009</td>\n",
       "      <td>-0.350534</td>\n",
       "      <td>-0.434535</td>\n",
       "      <td>1.000000</td>\n",
       "      <td>-0.298246</td>\n",
       "    </tr>\n",
       "    <tr>\n",
       "      <th>rebuy</th>\n",
       "      <td>0.306659</td>\n",
       "      <td>0.208700</td>\n",
       "      <td>-0.397180</td>\n",
       "      <td>-0.237161</td>\n",
       "      <td>0.180703</td>\n",
       "      <td>0.467381</td>\n",
       "      <td>0.505962</td>\n",
       "      <td>-0.298246</td>\n",
       "      <td>1.000000</td>\n",
       "    </tr>\n",
       "  </tbody>\n",
       "</table>\n",
       "</div>"
      ],
      "text/plain": [
       "          perform    leader    latest       fun   serious   bargain     value  \\\n",
       "perform  1.000000  0.500202 -0.122446 -0.256332  0.359172  0.057129  0.101946   \n",
       "leader   0.500202  1.000000  0.026890 -0.290358  0.571215  0.033094  0.118310   \n",
       "latest  -0.122446  0.026890  1.000000  0.245154  0.009952 -0.254419 -0.342714   \n",
       "fun     -0.256332 -0.290358  0.245154  1.000000 -0.281097 -0.066553 -0.145218   \n",
       "serious  0.359172  0.571215  0.009952 -0.281097  1.000000 -0.002656  0.023757   \n",
       "bargain  0.057129  0.033094 -0.254419 -0.066553 -0.002656  1.000000  0.739627   \n",
       "value    0.101946  0.118310 -0.342714 -0.145218  0.023757  0.739627  1.000000   \n",
       "trendy   0.008733  0.066512  0.627628  0.127974  0.121009 -0.350534 -0.434535   \n",
       "rebuy    0.306659  0.208700 -0.397180 -0.237161  0.180703  0.467381  0.505962   \n",
       "\n",
       "           trendy     rebuy  \n",
       "perform  0.008733  0.306659  \n",
       "leader   0.066512  0.208700  \n",
       "latest   0.627628 -0.397180  \n",
       "fun      0.127974 -0.237161  \n",
       "serious  0.121009  0.180703  \n",
       "bargain -0.350534  0.467381  \n",
       "value   -0.434535  0.505962  \n",
       "trendy   1.000000 -0.298246  \n",
       "rebuy   -0.298246  1.000000  "
      ]
     },
     "execution_count": 21,
     "metadata": {},
     "output_type": "execute_result"
    }
   ],
   "source": [
    "#Correlation matrix\n",
    "cov=brand_sc.iloc[:, 0:9].corr()\n",
    "cov"
   ]
  },
  {
   "cell_type": "code",
   "execution_count": 22,
   "metadata": {},
   "outputs": [
    {
     "data": {
      "text/plain": [
       "array([2.97929556, 2.09655168, 1.07925487, 0.72721099, 0.63754592,\n",
       "       0.53484323, 0.39010444, 0.24314689, 0.31204642])"
      ]
     },
     "execution_count": 22,
     "metadata": {},
     "output_type": "execute_result"
    }
   ],
   "source": [
    "#Eigenvalues of the correlation matrix\n",
    "eigvals, eigvecs = np.linalg.eig(cov)\n",
    "eigvals"
   ]
  },
  {
   "cell_type": "markdown",
   "metadata": {},
   "source": [
    "<font color=orange>**Let's do some interpretation**</font>:\n",
    "<br>The first three eigenvalues are greater than 1 so we decide to perform analysis with 3 factors"
   ]
  },
  {
   "cell_type": "markdown",
   "metadata": {},
   "source": [
    "#### Implement Exploratory Factor Analysis"
   ]
  },
  {
   "cell_type": "markdown",
   "metadata": {},
   "source": [
    "<font color=red>R code</font>: *factanal*\n",
    "<br>$factanal(brand.sc[,1:9],\\,factors=3)$"
   ]
  },
  {
   "cell_type": "code",
   "execution_count": 23,
   "metadata": {},
   "outputs": [
    {
     "data": {
      "text/plain": [
       "FactorAnalysis(copy=True, iterated_power=3, max_iter=1000, n_components=3,\n",
       "        noise_variance_init=None, random_state=0, svd_method='randomized',\n",
       "        tol=0.01)"
      ]
     },
     "execution_count": 23,
     "metadata": {},
     "output_type": "execute_result"
    }
   ],
   "source": [
    "from sklearn.decomposition import FactorAnalysis\n",
    "fa=FactorAnalysis(n_components=3)\n",
    "fa.fit(brand_sc.iloc[:, 0:9])"
   ]
  },
  {
   "cell_type": "markdown",
   "metadata": {},
   "source": [
    "<font color=green>**Cracking the code**</font>: **sklearn.decomposition.FactorAnalysis**\n",
    "<br>Performs Factor Analysis with Gaussian latent variables.\n",
    "<br>**Syntax**: $sklearn.decomposition.FactorAnalysis(n{\\_}components)$\n",
    "<br>**Reference**: http://scikit-learn.org/stable/modules/generated/sklearn.decomposition.FactorAnalysis.html"
   ]
  },
  {
   "cell_type": "code",
   "execution_count": 34,
   "metadata": {},
   "outputs": [
    {
     "data": {
      "text/html": [
       "<div>\n",
       "<style>\n",
       "    .dataframe thead tr:only-child th {\n",
       "        text-align: right;\n",
       "    }\n",
       "\n",
       "    .dataframe thead th {\n",
       "        text-align: left;\n",
       "    }\n",
       "\n",
       "    .dataframe tbody tr th {\n",
       "        vertical-align: top;\n",
       "    }\n",
       "</style>\n",
       "<table border=\"1\" class=\"dataframe\">\n",
       "  <thead>\n",
       "    <tr style=\"text-align: right;\">\n",
       "      <th></th>\n",
       "      <th>perform</th>\n",
       "      <th>leader</th>\n",
       "      <th>latest</th>\n",
       "      <th>fun</th>\n",
       "      <th>serious</th>\n",
       "      <th>bargain</th>\n",
       "      <th>value</th>\n",
       "      <th>trendy</th>\n",
       "      <th>rebuy</th>\n",
       "    </tr>\n",
       "  </thead>\n",
       "  <tbody>\n",
       "    <tr>\n",
       "      <th>0</th>\n",
       "      <td>0.170643</td>\n",
       "      <td>0.061587</td>\n",
       "      <td>-0.858825</td>\n",
       "      <td>-0.269700</td>\n",
       "      <td>0.027767</td>\n",
       "      <td>0.572699</td>\n",
       "      <td>0.668141</td>\n",
       "      <td>-0.687795</td>\n",
       "      <td>0.572353</td>\n",
       "    </tr>\n",
       "    <tr>\n",
       "      <th>1</th>\n",
       "      <td>-0.236606</td>\n",
       "      <td>-0.424637</td>\n",
       "      <td>-0.377155</td>\n",
       "      <td>0.076980</td>\n",
       "      <td>-0.295387</td>\n",
       "      <td>-0.534012</td>\n",
       "      <td>-0.535555</td>\n",
       "      <td>-0.129406</td>\n",
       "      <td>-0.296603</td>\n",
       "    </tr>\n",
       "    <tr>\n",
       "      <th>2</th>\n",
       "      <td>0.541128</td>\n",
       "      <td>0.697429</td>\n",
       "      <td>-0.118785</td>\n",
       "      <td>-0.366896</td>\n",
       "      <td>0.617974</td>\n",
       "      <td>-0.312095</td>\n",
       "      <td>-0.231923</td>\n",
       "      <td>0.122562</td>\n",
       "      <td>0.120207</td>\n",
       "    </tr>\n",
       "  </tbody>\n",
       "</table>\n",
       "</div>"
      ],
      "text/plain": [
       "    perform    leader    latest       fun   serious   bargain     value  \\\n",
       "0  0.170643  0.061587 -0.858825 -0.269700  0.027767  0.572699  0.668141   \n",
       "1 -0.236606 -0.424637 -0.377155  0.076980 -0.295387 -0.534012 -0.535555   \n",
       "2  0.541128  0.697429 -0.118785 -0.366896  0.617974 -0.312095 -0.231923   \n",
       "\n",
       "     trendy     rebuy  \n",
       "0 -0.687795  0.572353  \n",
       "1 -0.129406 -0.296603  \n",
       "2  0.122562  0.120207  "
      ]
     },
     "execution_count": 34,
     "metadata": {},
     "output_type": "execute_result"
    }
   ],
   "source": [
    "#Display the results\n",
    "factors = pd.DataFrame(fa.components_, columns = brand_sc.iloc[:,0:9].columns.values.tolist())\n",
    "factors"
   ]
  },
  {
   "cell_type": "markdown",
   "metadata": {},
   "source": [
    "#### Heatmap of item-factor loading"
   ]
  },
  {
   "cell_type": "code",
   "execution_count": 38,
   "metadata": {},
   "outputs": [
    {
     "data": {
      "image/png": "[encoded data removed]",
      "text/plain": [
       "<matplotlib.figure.Figure at 0x19ad0128>"
      ]
     },
     "metadata": {},
     "output_type": "display_data"
    }
   ],
   "source": [
    "sns.heatmap(factors,\n",
    "           annot=True,\n",
    "           cmap='YlGnBu')\n",
    "plt.title('Heatmap of item-factor loading\\n')\n",
    "plt.xlabel('Brand adjectives')\n",
    "plt.ylabel('Factors')\n",
    "plt.show()"
   ]
  },
  {
   "cell_type": "markdown",
   "metadata": {},
   "source": [
    "## STEP 7: Multidimensional Scaling (MDS)"
   ]
  },
  {
   "cell_type": "markdown",
   "metadata": {},
   "source": [
    "<font color=crimson>**Multidimensional Scaling (MDS)**</font>:\n",
    "<br>Unlike PCA and EFA, MDS finds lower dimensional representations of data by working with *distances* (also called *similarities*). It creates a map that best preserves all the observed similarities between items. There exists two cases for performing MDS: metric data and non-metric data.\n",
    "<br>**Metric MDS**: can simply compute the *euclidean distances* to measure similarities between items.\n",
    "<br>**Non-metric MDS**: in such a case, we cannot use the euclidean distance as a measure of similarity. In R, you can use the *daisy()* function to cope with this issue.\n",
    "<br>*Reference*: https://ncss-wpengine.netdna-ssl.com/wp-content/themes/ncss/pdf/Procedures/NCSS/Multidimensional_Scaling.pdf"
   ]
  },
  {
   "cell_type": "markdown",
   "metadata": {},
   "source": [
    "#### Metric MDS"
   ]
  },
  {
   "cell_type": "markdown",
   "metadata": {},
   "source": [
    "<font color=red>R code</font>: *Metric MDS: dist() and cmdscale()* \n",
    "<br>$brand.dist <- dist(brand.mean)$\n",
    "<br>$brand.mds <- cmdscale(brand.dist)$"
   ]
  },
  {
   "cell_type": "code",
   "execution_count": 43,
   "metadata": {},
   "outputs": [],
   "source": [
    "#Import the useful libraries\n",
    "from sklearn import manifold\n",
    "from sklearn.metrics import euclidean_distances"
   ]
  },
  {
   "cell_type": "code",
   "execution_count": 46,
   "metadata": {},
   "outputs": [],
   "source": [
    "#compute the Euclidean distance between points\n",
    "similarities=euclidean_distances(brand_mean)"
   ]
  },
  {
   "cell_type": "code",
   "execution_count": 51,
   "metadata": {},
   "outputs": [
    {
     "data": {
      "text/plain": [
       "MDS(dissimilarity='precomputed', eps=1e-09, max_iter=3000, metric=True,\n",
       "  n_components=2, n_init=4, n_jobs=1, random_state=None, verbose=0)"
      ]
     },
     "execution_count": 51,
     "metadata": {},
     "output_type": "execute_result"
    }
   ],
   "source": [
    "mds = manifold.MDS(n_components=2, max_iter=3000, eps=1e-9,\n",
    "                   dissimilarity=\"precomputed\", n_jobs=1)\n",
    "mds.fit(similarities)"
   ]
  },
  {
   "cell_type": "markdown",
   "metadata": {},
   "source": [
    "#### Non-metric MDS"
   ]
  },
  {
   "cell_type": "markdown",
   "metadata": {},
   "source": [
    "<font color=red>R code</font>: *Non-Metric MDS*\n",
    "<br>$brand.rank<-data.frame(lapply(brand.mean,\\,function(x)\\,ordered(rank(x))))$\n",
    "<br>$brand.dist.r<-daisy(brand.rank,\\,metric=\"gower\")$\n",
    "<br>$brand.mds.r<-isoMDS(brand.dist.r)$"
   ]
  }
 ],
 "metadata": {
  "kernelspec": {
   "display_name": "Python 2",
   "language": "python",
   "name": "python2"
  },
  "language_info": {
   "codemirror_mode": {
    "name": "ipython",
    "version": 2
   },
   "file_extension": ".py",
   "mimetype": "text/x-python",
   "name": "python",
   "nbconvert_exporter": "python",
   "pygments_lexer": "ipython2",
   "version": "2.7.15"
  }
 },
 "nbformat": 4,
 "nbformat_minor": 2
}
