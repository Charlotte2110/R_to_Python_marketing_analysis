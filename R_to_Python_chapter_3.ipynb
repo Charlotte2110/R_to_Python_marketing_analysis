{
 "cells": [
  {
   "cell_type": "markdown",
   "metadata": {},
   "source": [
    "<h1><center> R to Python<br><br>Marketing Research and Analytics<br><br>CHAPTER 3: Describing Data </center></h1>"
   ]
  },
  {
   "cell_type": "markdown",
   "metadata": {},
   "source": [
    "This tutorial aims at providing the python code for the book *R for Marketing Research and Analytics* (Chapman, Christopher N., McDonnell Feit, Elea). We will follow the chapters of the book and provide a Python version of the R code presented in the book.\n",
    "<br>In this tutorial, we tackle chapter 3 of the book. Please look at the other tutorials for other chapters."
   ]
  },
  {
   "cell_type": "markdown",
   "metadata": {},
   "source": [
    "## STEP 1: Importing the required libraries"
   ]
  },
  {
   "cell_type": "code",
   "execution_count": 59,
   "metadata": {},
   "outputs": [],
   "source": [
    "#Libraries for data analysis and wrangling\n",
    "import pandas as pd\n",
    "import numpy as np\n",
    "import random as rnd\n",
    "import datetime\n",
    "from datetime import date\n",
    "from dateutil.relativedelta import relativedelta\n",
    "import calendar\n",
    "from sklearn.feature_selection import chi2\n",
    "from io import StringIO\n",
    "import scipy as sp\n",
    "from scipy import stats\n",
    "import astropy\n",
    "from astropy import stats\n",
    "from statsmodels.distributions.empirical_distribution import ECDF\n",
    "#Libraries for data visualization\n",
    "import seaborn as sns\n",
    "import matplotlib.pyplot as plt\n",
    "#Below code allows for the graphs to be plotted directly under the coding cell\n",
    "%matplotlib inline \n",
    "from matplotlib.pylab import rcParams\n",
    "rcParams['figure.figsize'] = 11, 7"
   ]
  },
  {
   "cell_type": "markdown",
   "metadata": {},
   "source": [
    "## STEP 2: Creating the dataset for store data\n",
    "<br>**Description of the dataset**:\n",
    "This dataset represents observations of total sales by week for two products at a chain of stores.\n",
    "<br><br>**Description of the variables**:\n",
    "- *storeNum* : ID of the store (from 1 to 20)\n",
    "- *Year* : year number (year 1 or 2)\n",
    "- *Week* : week number\n",
    "- *p1sales* : sales of product 1\n",
    "- *p2sales* : sales of product 2\n",
    "- *p1price* : price of product 1\n",
    "- *p2price* : price of product 2\n",
    "- *p1prom* : promotion of product 1\n",
    "- *p2prom* : promotion of product 2\n",
    "- *country* : country "
   ]
  },
  {
   "cell_type": "code",
   "execution_count": 77,
   "metadata": {},
   "outputs": [],
   "source": [
    "#Python: Create the number of stores\n",
    "k_stores =20"
   ]
  },
  {
   "cell_type": "code",
   "execution_count": 5,
   "metadata": {},
   "outputs": [],
   "source": [
    "#Python: Create the number of weeks variables (2 years data)\n",
    "k_weeks = 104"
   ]
  },
  {
   "cell_type": "code",
   "execution_count": 6,
   "metadata": {},
   "outputs": [],
   "source": [
    "#Create an empty dataframe that we will fill afterwards\n",
    "columns_names=['storeNum', 'Year', 'Week', 'p1sales', 'p2sales', 'p1price', 'p2price', \n",
    "               'p1prom', 'p2prom', 'country']\n",
    "store_df=pd.DataFrame(columns=columns_names)"
   ]
  },
  {
   "cell_type": "code",
   "execution_count": 7,
   "metadata": {},
   "outputs": [],
   "source": [
    "#Create the storeNum variable\n",
    "store_num=range(101,(101+k_stores))*(k_weeks)\n",
    "store_df['storeNum']=store_num"
   ]
  },
  {
   "cell_type": "code",
   "execution_count": 9,
   "metadata": {},
   "outputs": [],
   "source": [
    "#Create the country variable\n",
    "store_cty=[\"US\", \"US\", \"US\", \"DE\", \"DE\", \"DE\", \"DE\", \"DE\", \"GB\", \"GB\", \"GB\", \"BR\", \"BR\", \n",
    "           \"JP\", \"JP\", \"JP\", \"JP\", \"AU\", \"CN\", \"CN\"] * k_weeks\n",
    "store_df['country']=store_cty"
   ]
  },
  {
   "cell_type": "markdown",
   "metadata": {},
   "source": [
    "<font color=red>R code</font>: *rep() function*\n",
    "<br>$store{\\_}df\\$Week <- rep(1:52, times=k.stores*2)$"
   ]
  },
  {
   "cell_type": "code",
   "execution_count": 10,
   "metadata": {},
   "outputs": [],
   "source": [
    "#Python: Create the weeks variable\n",
    "#range(begin, end) is exclusive for end. Hence, when we want to list numbers from 1 to 52 we need to enter range(1,53)\n",
    "store_weeks=range(1,53) \n",
    "store_weeks_tot=np.repeat(store_weeks, k_stores*2)\n",
    "store_df['Week']=store_weeks_tot"
   ]
  },
  {
   "cell_type": "markdown",
   "metadata": {},
   "source": [
    "<font color=green>**Cracking the code**</font>: **$np.repeat$** \n",
    "<br>This function allows you to repeat elements of an array a defined number of times.\n",
    "<br>**Syntax**: $np.repeat(elements{\\_}to{\\_}repeat, num{\\_}repetitions)$\n",
    "<br>**Reference**: https://docs.scipy.org/doc/numpy/reference/generated/numpy.repeat.html"
   ]
  },
  {
   "cell_type": "code",
   "execution_count": 14,
   "metadata": {},
   "outputs": [],
   "source": [
    "#Create the Year variable\n",
    "store_year=np.repeat([1,2], k_stores) #Output: [list of 20 1s, list of 20 2s]\n",
    "store_year_tot=np.tile(store_year, k_weeks/2) #Output: [store_year repeated 52 times]\n",
    "store_df['Year']=store_year_tot"
   ]
  },
  {
   "cell_type": "markdown",
   "metadata": {},
   "source": [
    "<font color=green>**Cracking the code**</font>: **$np.tile$** \n",
    "<br>This function allows you to repeat an array a defined number of times.\n",
    "<br>**Syntax**: $np.tile(array, num{\\_}repetitions)$\n",
    "<br>**Reference**: https://docs.scipy.org/doc/numpy/reference/generated/numpy.tile.html"
   ]
  },
  {
   "cell_type": "code",
   "execution_count": 17,
   "metadata": {},
   "outputs": [],
   "source": [
    "#Create the promotion variables with a binomial distribution"
   ]
  },
  {
   "cell_type": "markdown",
   "metadata": {},
   "source": [
    "<font color=blue>**The Maths behind it**</font>: **Binomial distribution**\n",
    "<br>Discrete probability distribution of the number of successes in a sequence of n **independent experiments**, each asking a yes-no question, and each with a 0-1 outcome. If the random variable X follows a binomial distribution with parameters  n ∈ ℕ and p ∈ [0,1], we write X ~ B(n, p). Below is a summary of the characteristics\n",
    "- Two possible outcomes: 0 = failure, 1 = success\n",
    "- n : number of independent experiments. \n",
    "- p : probability of success. \n",
    "- Expectation: $E[X] = np$, Variance: $Var(X) = np(1-p)$\n",
    "- For m successes of event X in n total trials with *p = proba of one success*\n",
    "$$P(X=m) = \\binom{n}{m}p^{m}(1-p)^{n-m}= \\frac{n!}{m!(n-m)!}p^{m}(1-p)^{n-m}$$\n",
    "<br>*Example*: Probability that a couple has one boy out of 5 children.\n",
    "- Success= having a boy.\n",
    "- $p = 0.5, n = 5, m = 1$\n",
    "<br>$P(X = 1) = \\frac{5!}{1!(5-1)!}0.5^{1}(1-0.5)^{5-1}\\approx 16\\%$\n",
    "<br>*To go further*: http://mathworld.wolfram.com/BinomialDistribution.html"
   ]
  },
  {
   "cell_type": "markdown",
   "metadata": {},
   "source": [
    "<font color=red>R code</font>: *Binomial distribution*\n",
    "<br>$rbinom(n=nrow(store{\\_}df),\\,size=1,\\,p=0.1)$"
   ]
  },
  {
   "cell_type": "code",
   "execution_count": null,
   "metadata": {},
   "outputs": [],
   "source": [
    "rows, col=store_df.shape\n",
    "store_df['p1prom']=np.random.binomial(1, 0.1, rows)\n",
    "store_df['p2prom']=np.random.binomial(1, 0.15, rows)"
   ]
  },
  {
   "cell_type": "markdown",
   "metadata": {},
   "source": [
    "<font color=green>**Cracking the code**</font>: **$np.random.binomial$**\n",
    "<br>This function draws samples from a binomial distribution.\n",
    "<br>**Syntax**: $np.random.binomial(n, p, size)$, n = number of successes, p = probability of success, size = number of experiments.\n",
    "<br>**Reference**: https://docs.scipy.org/doc/numpy/reference/generated/numpy.random.binomial.html"
   ]
  },
  {
   "cell_type": "code",
   "execution_count": null,
   "metadata": {},
   "outputs": [],
   "source": [
    "#Create the prices variables: draw randomly numbers from a list of 5 prices"
   ]
  },
  {
   "cell_type": "markdown",
   "metadata": {},
   "source": [
    "<font color=red>R code</font>: *Random drawing from a list*\n",
    "<br>$sample(x=c(2.19, 2.29, 2.49, 2.79, 2.99),size=nrow(store{\\_}df), replace=TRUE)$"
   ]
  },
  {
   "cell_type": "code",
   "execution_count": 18,
   "metadata": {},
   "outputs": [],
   "source": [
    "#List of prices for each product\n",
    "price1=[2.19, 2.29, 2.49, 2.79, 2.99]\n",
    "price2=[2.29, 2.49, 2.59, 2.99, 3.19]"
   ]
  },
  {
   "cell_type": "code",
   "execution_count": 19,
   "metadata": {},
   "outputs": [],
   "source": [
    "#Randomly draw the prices for product 1 and 2\n",
    "store_df['p1price']=np.random.choice(price1, rows, replace=True)\n",
    "store_df['p2price']=np.random.choice(price2, rows, replace=True)"
   ]
  },
  {
   "cell_type": "code",
   "execution_count": null,
   "metadata": {},
   "outputs": [],
   "source": [
    "#Create the sales variables using a Poisson distribution"
   ]
  },
  {
   "cell_type": "markdown",
   "metadata": {},
   "source": [
    "<font color=blue>**The Maths behind it**</font>: **Poisson distribution**\n",
    "<br>The Poisson distribution is the limit of the binomial distribution for large N. Discrete probability distribution that expresses the probability of a given number of events occurring in a fixed interval of time or space. \n",
    "<br>*Probability of events*: an event can occur several times in an interval. The average number of events in an interval is noted as $\\lambda$, this is the event rate. Probability of observing $k$ events in an interval is given by the equation: $$P(k\\,events\\,in\\,interval) = e^{-\\lambda}\\frac{\\lambda^{k}}{k!}$$\n",
    "<br><br>*Examples of events following a Poisson distribution*:\n",
    "- Number of emergency calls recorded at a hospital in a day\n",
    "- Number of customers arriving at a salon in an hour\n",
    "- Number of suicides reported in a particular city\n",
    "- Number of printing errors at each page of the book\n",
    "\n",
    "*To go further*: http://mathworld.wolfram.com/PoissonDistribution.html"
   ]
  },
  {
   "cell_type": "markdown",
   "metadata": {},
   "source": [
    "<font color=red>R code</font>: *Poisson distribution*\n",
    "<br>$rpois(n=nrow(store{\\_}df),\\,lamda=120)$"
   ]
  },
  {
   "cell_type": "code",
   "execution_count": 21,
   "metadata": {},
   "outputs": [],
   "source": [
    "#STEP 1: default sales in absence of promotion\n",
    "tmp_sales1=np.random.poisson(lam=120, size=rows)\n",
    "tmp_sales2=np.random.poisson(lam=100, size=rows)"
   ]
  },
  {
   "cell_type": "markdown",
   "metadata": {},
   "source": [
    "<font color=green>**Cracking the code**</font>: **$np.random.poisson$**\n",
    "<br>This function draws samples from a poisson distribution. \n",
    "<br>**Syntax**: $np.random.poisson(lam= lambda, size = output\\,shape)$\n",
    "<br>**Reference**: https://docs.scipy.org/doc/numpy/reference/generated/numpy.random.poisson.html"
   ]
  },
  {
   "cell_type": "code",
   "execution_count": 22,
   "metadata": {},
   "outputs": [],
   "source": [
    "#STEP 2 : scale sales according to the ratio of log(price)\n",
    "tmp_sales1=tmp_sales1*np.log(store_df['p2price'])/np.log(store_df['p1price'])\n",
    "tmp_sales2=tmp_sales2*np.log(store_df['p1price'])/np.log(store_df['p2price'])"
   ]
  },
  {
   "cell_type": "code",
   "execution_count": 23,
   "metadata": {},
   "outputs": [],
   "source": [
    "#STEP 3: decide arbitrarily that sales get a 30% lift for prod1 and 40% for prod2 when promoted\n",
    "store_df['p1sales']=(tmp_sales1 * (1+store_df['p1prom']*0.3)).astype(int)\n",
    "store_df['p2sales']=(tmp_sales2 * (1+store_df['p2prom']*0.4)).astype(int)"
   ]
  },
  {
   "cell_type": "markdown",
   "metadata": {},
   "source": [
    "## STEP 3: Summarize a dataframe"
   ]
  },
  {
   "cell_type": "markdown",
   "metadata": {},
   "source": [
    "<font color=red>R code</font>: *shape of dataset*\n",
    "<br>$dim(store{\\_}df)$"
   ]
  },
  {
   "cell_type": "code",
   "execution_count": 73,
   "metadata": {},
   "outputs": [
    {
     "data": {
      "text/plain": [
       "(2080, 10)"
      ]
     },
     "execution_count": 73,
     "metadata": {},
     "output_type": "execute_result"
    }
   ],
   "source": [
    "#Python code \n",
    "store_df.shape"
   ]
  },
  {
   "cell_type": "markdown",
   "metadata": {},
   "source": [
    "<font color=red>R code</font>: *types of variables*\n",
    "<br>$str(store{\\_}df)$"
   ]
  },
  {
   "cell_type": "code",
   "execution_count": 72,
   "metadata": {},
   "outputs": [
    {
     "name": "stdout",
     "output_type": "stream",
     "text": [
      "<class 'pandas.core.frame.DataFrame'>\n",
      "RangeIndex: 2080 entries, 0 to 2079\n",
      "Data columns (total 10 columns):\n",
      "storeNum    2080 non-null int64\n",
      "Year        2080 non-null int32\n",
      "Week        2080 non-null int32\n",
      "p1sales     2080 non-null int32\n",
      "p2sales     2080 non-null int32\n",
      "p1price     2080 non-null float64\n",
      "p2price     2080 non-null float64\n",
      "p1prom      2080 non-null int32\n",
      "p2prom      2080 non-null int32\n",
      "country     2080 non-null object\n",
      "dtypes: float64(2), int32(6), int64(1), object(1)\n",
      "memory usage: 113.8+ KB\n"
     ]
    }
   ],
   "source": [
    "#Python code\n",
    "store_df.info()"
   ]
  },
  {
   "cell_type": "markdown",
   "metadata": {},
   "source": [
    "<font color=red>R code</font>: *summary statistics*\n",
    "<br>$summary(store{\\_}df)$"
   ]
  },
  {
   "cell_type": "code",
   "execution_count": 24,
   "metadata": {},
   "outputs": [
    {
     "data": {
      "text/html": [
       "<div>\n",
       "<style>\n",
       "    .dataframe thead tr:only-child th {\n",
       "        text-align: right;\n",
       "    }\n",
       "\n",
       "    .dataframe thead th {\n",
       "        text-align: left;\n",
       "    }\n",
       "\n",
       "    .dataframe tbody tr th {\n",
       "        vertical-align: top;\n",
       "    }\n",
       "</style>\n",
       "<table border=\"1\" class=\"dataframe\">\n",
       "  <thead>\n",
       "    <tr style=\"text-align: right;\">\n",
       "      <th></th>\n",
       "      <th>storeNum</th>\n",
       "      <th>Year</th>\n",
       "      <th>Week</th>\n",
       "      <th>p1sales</th>\n",
       "      <th>p2sales</th>\n",
       "      <th>p1price</th>\n",
       "      <th>p2price</th>\n",
       "      <th>p1prom</th>\n",
       "      <th>p2prom</th>\n",
       "    </tr>\n",
       "  </thead>\n",
       "  <tbody>\n",
       "    <tr>\n",
       "      <th>count</th>\n",
       "      <td>2080.000000</td>\n",
       "      <td>2080.00000</td>\n",
       "      <td>2080.00000</td>\n",
       "      <td>2080.000000</td>\n",
       "      <td>2080.000000</td>\n",
       "      <td>2080.000000</td>\n",
       "      <td>2080.000000</td>\n",
       "      <td>2080.000000</td>\n",
       "      <td>2080.000000</td>\n",
       "    </tr>\n",
       "    <tr>\n",
       "      <th>mean</th>\n",
       "      <td>110.500000</td>\n",
       "      <td>1.50000</td>\n",
       "      <td>26.50000</td>\n",
       "      <td>133.323077</td>\n",
       "      <td>100.430288</td>\n",
       "      <td>2.546827</td>\n",
       "      <td>2.716058</td>\n",
       "      <td>0.093750</td>\n",
       "      <td>0.150000</td>\n",
       "    </tr>\n",
       "    <tr>\n",
       "      <th>std</th>\n",
       "      <td>5.767668</td>\n",
       "      <td>0.50012</td>\n",
       "      <td>15.01194</td>\n",
       "      <td>28.218611</td>\n",
       "      <td>24.876181</td>\n",
       "      <td>0.303881</td>\n",
       "      <td>0.330978</td>\n",
       "      <td>0.291551</td>\n",
       "      <td>0.357157</td>\n",
       "    </tr>\n",
       "    <tr>\n",
       "      <th>min</th>\n",
       "      <td>101.000000</td>\n",
       "      <td>1.00000</td>\n",
       "      <td>1.00000</td>\n",
       "      <td>71.000000</td>\n",
       "      <td>53.000000</td>\n",
       "      <td>2.190000</td>\n",
       "      <td>2.290000</td>\n",
       "      <td>0.000000</td>\n",
       "      <td>0.000000</td>\n",
       "    </tr>\n",
       "    <tr>\n",
       "      <th>25%</th>\n",
       "      <td>105.750000</td>\n",
       "      <td>1.00000</td>\n",
       "      <td>13.75000</td>\n",
       "      <td>113.000000</td>\n",
       "      <td>83.000000</td>\n",
       "      <td>2.290000</td>\n",
       "      <td>2.490000</td>\n",
       "      <td>0.000000</td>\n",
       "      <td>0.000000</td>\n",
       "    </tr>\n",
       "    <tr>\n",
       "      <th>50%</th>\n",
       "      <td>110.500000</td>\n",
       "      <td>1.50000</td>\n",
       "      <td>26.50000</td>\n",
       "      <td>130.000000</td>\n",
       "      <td>96.000000</td>\n",
       "      <td>2.490000</td>\n",
       "      <td>2.590000</td>\n",
       "      <td>0.000000</td>\n",
       "      <td>0.000000</td>\n",
       "    </tr>\n",
       "    <tr>\n",
       "      <th>75%</th>\n",
       "      <td>115.250000</td>\n",
       "      <td>2.00000</td>\n",
       "      <td>39.25000</td>\n",
       "      <td>150.000000</td>\n",
       "      <td>114.000000</td>\n",
       "      <td>2.790000</td>\n",
       "      <td>2.990000</td>\n",
       "      <td>0.000000</td>\n",
       "      <td>0.000000</td>\n",
       "    </tr>\n",
       "    <tr>\n",
       "      <th>max</th>\n",
       "      <td>120.000000</td>\n",
       "      <td>2.00000</td>\n",
       "      <td>52.00000</td>\n",
       "      <td>282.000000</td>\n",
       "      <td>218.000000</td>\n",
       "      <td>2.990000</td>\n",
       "      <td>3.190000</td>\n",
       "      <td>1.000000</td>\n",
       "      <td>1.000000</td>\n",
       "    </tr>\n",
       "  </tbody>\n",
       "</table>\n",
       "</div>"
      ],
      "text/plain": [
       "          storeNum        Year        Week      p1sales      p2sales  \\\n",
       "count  2080.000000  2080.00000  2080.00000  2080.000000  2080.000000   \n",
       "mean    110.500000     1.50000    26.50000   133.323077   100.430288   \n",
       "std       5.767668     0.50012    15.01194    28.218611    24.876181   \n",
       "min     101.000000     1.00000     1.00000    71.000000    53.000000   \n",
       "25%     105.750000     1.00000    13.75000   113.000000    83.000000   \n",
       "50%     110.500000     1.50000    26.50000   130.000000    96.000000   \n",
       "75%     115.250000     2.00000    39.25000   150.000000   114.000000   \n",
       "max     120.000000     2.00000    52.00000   282.000000   218.000000   \n",
       "\n",
       "           p1price      p2price       p1prom       p2prom  \n",
       "count  2080.000000  2080.000000  2080.000000  2080.000000  \n",
       "mean      2.546827     2.716058     0.093750     0.150000  \n",
       "std       0.303881     0.330978     0.291551     0.357157  \n",
       "min       2.190000     2.290000     0.000000     0.000000  \n",
       "25%       2.290000     2.490000     0.000000     0.000000  \n",
       "50%       2.490000     2.590000     0.000000     0.000000  \n",
       "75%       2.790000     2.990000     0.000000     0.000000  \n",
       "max       2.990000     3.190000     1.000000     1.000000  "
      ]
     },
     "execution_count": 24,
     "metadata": {},
     "output_type": "execute_result"
    }
   ],
   "source": [
    "#Python code: Summary statistics for numerical variables\n",
    "store_df.describe()"
   ]
  },
  {
   "cell_type": "code",
   "execution_count": 33,
   "metadata": {},
   "outputs": [
    {
     "data": {
      "text/html": [
       "<div>\n",
       "<style>\n",
       "    .dataframe thead tr:only-child th {\n",
       "        text-align: right;\n",
       "    }\n",
       "\n",
       "    .dataframe thead th {\n",
       "        text-align: left;\n",
       "    }\n",
       "\n",
       "    .dataframe tbody tr th {\n",
       "        vertical-align: top;\n",
       "    }\n",
       "</style>\n",
       "<table border=\"1\" class=\"dataframe\">\n",
       "  <thead>\n",
       "    <tr style=\"text-align: right;\">\n",
       "      <th></th>\n",
       "      <th>country</th>\n",
       "    </tr>\n",
       "  </thead>\n",
       "  <tbody>\n",
       "    <tr>\n",
       "      <th>count</th>\n",
       "      <td>2080</td>\n",
       "    </tr>\n",
       "    <tr>\n",
       "      <th>unique</th>\n",
       "      <td>7</td>\n",
       "    </tr>\n",
       "    <tr>\n",
       "      <th>top</th>\n",
       "      <td>DE</td>\n",
       "    </tr>\n",
       "    <tr>\n",
       "      <th>freq</th>\n",
       "      <td>520</td>\n",
       "    </tr>\n",
       "  </tbody>\n",
       "</table>\n",
       "</div>"
      ],
      "text/plain": [
       "       country\n",
       "count     2080\n",
       "unique       7\n",
       "top         DE\n",
       "freq       520"
      ]
     },
     "execution_count": 33,
     "metadata": {},
     "output_type": "execute_result"
    }
   ],
   "source": [
    "#Summarize categorical variables\n",
    "store_df.describe(include=['O'])"
   ]
  },
  {
   "cell_type": "markdown",
   "metadata": {},
   "source": [
    "<font color=red>R code</font>: *display head of dataset*\n",
    "<br>$head(store{\\_}df)$"
   ]
  },
  {
   "cell_type": "code",
   "execution_count": 25,
   "metadata": {},
   "outputs": [
    {
     "data": {
      "text/html": [
       "<div>\n",
       "<style>\n",
       "    .dataframe thead tr:only-child th {\n",
       "        text-align: right;\n",
       "    }\n",
       "\n",
       "    .dataframe thead th {\n",
       "        text-align: left;\n",
       "    }\n",
       "\n",
       "    .dataframe tbody tr th {\n",
       "        vertical-align: top;\n",
       "    }\n",
       "</style>\n",
       "<table border=\"1\" class=\"dataframe\">\n",
       "  <thead>\n",
       "    <tr style=\"text-align: right;\">\n",
       "      <th></th>\n",
       "      <th>storeNum</th>\n",
       "      <th>Year</th>\n",
       "      <th>Week</th>\n",
       "      <th>p1sales</th>\n",
       "      <th>p2sales</th>\n",
       "      <th>p1price</th>\n",
       "      <th>p2price</th>\n",
       "      <th>p1prom</th>\n",
       "      <th>p2prom</th>\n",
       "      <th>country</th>\n",
       "    </tr>\n",
       "  </thead>\n",
       "  <tbody>\n",
       "    <tr>\n",
       "      <th>0</th>\n",
       "      <td>101</td>\n",
       "      <td>1</td>\n",
       "      <td>1</td>\n",
       "      <td>128</td>\n",
       "      <td>83</td>\n",
       "      <td>2.19</td>\n",
       "      <td>2.49</td>\n",
       "      <td>0</td>\n",
       "      <td>0</td>\n",
       "      <td>US</td>\n",
       "    </tr>\n",
       "    <tr>\n",
       "      <th>1</th>\n",
       "      <td>102</td>\n",
       "      <td>1</td>\n",
       "      <td>1</td>\n",
       "      <td>158</td>\n",
       "      <td>71</td>\n",
       "      <td>2.79</td>\n",
       "      <td>3.19</td>\n",
       "      <td>0</td>\n",
       "      <td>0</td>\n",
       "      <td>US</td>\n",
       "    </tr>\n",
       "    <tr>\n",
       "      <th>2</th>\n",
       "      <td>103</td>\n",
       "      <td>1</td>\n",
       "      <td>1</td>\n",
       "      <td>119</td>\n",
       "      <td>125</td>\n",
       "      <td>2.99</td>\n",
       "      <td>3.19</td>\n",
       "      <td>0</td>\n",
       "      <td>1</td>\n",
       "      <td>US</td>\n",
       "    </tr>\n",
       "    <tr>\n",
       "      <th>3</th>\n",
       "      <td>104</td>\n",
       "      <td>1</td>\n",
       "      <td>1</td>\n",
       "      <td>95</td>\n",
       "      <td>115</td>\n",
       "      <td>2.79</td>\n",
       "      <td>2.29</td>\n",
       "      <td>0</td>\n",
       "      <td>0</td>\n",
       "      <td>DE</td>\n",
       "    </tr>\n",
       "    <tr>\n",
       "      <th>4</th>\n",
       "      <td>105</td>\n",
       "      <td>1</td>\n",
       "      <td>1</td>\n",
       "      <td>98</td>\n",
       "      <td>111</td>\n",
       "      <td>2.99</td>\n",
       "      <td>2.59</td>\n",
       "      <td>0</td>\n",
       "      <td>0</td>\n",
       "      <td>DE</td>\n",
       "    </tr>\n",
       "    <tr>\n",
       "      <th>5</th>\n",
       "      <td>106</td>\n",
       "      <td>1</td>\n",
       "      <td>1</td>\n",
       "      <td>106</td>\n",
       "      <td>136</td>\n",
       "      <td>2.79</td>\n",
       "      <td>2.49</td>\n",
       "      <td>0</td>\n",
       "      <td>1</td>\n",
       "      <td>DE</td>\n",
       "    </tr>\n",
       "    <tr>\n",
       "      <th>6</th>\n",
       "      <td>107</td>\n",
       "      <td>1</td>\n",
       "      <td>1</td>\n",
       "      <td>103</td>\n",
       "      <td>102</td>\n",
       "      <td>2.79</td>\n",
       "      <td>2.49</td>\n",
       "      <td>0</td>\n",
       "      <td>0</td>\n",
       "      <td>DE</td>\n",
       "    </tr>\n",
       "    <tr>\n",
       "      <th>7</th>\n",
       "      <td>108</td>\n",
       "      <td>1</td>\n",
       "      <td>1</td>\n",
       "      <td>176</td>\n",
       "      <td>84</td>\n",
       "      <td>2.19</td>\n",
       "      <td>2.99</td>\n",
       "      <td>0</td>\n",
       "      <td>0</td>\n",
       "      <td>DE</td>\n",
       "    </tr>\n",
       "    <tr>\n",
       "      <th>8</th>\n",
       "      <td>109</td>\n",
       "      <td>1</td>\n",
       "      <td>1</td>\n",
       "      <td>94</td>\n",
       "      <td>127</td>\n",
       "      <td>2.99</td>\n",
       "      <td>2.49</td>\n",
       "      <td>0</td>\n",
       "      <td>0</td>\n",
       "      <td>GB</td>\n",
       "    </tr>\n",
       "    <tr>\n",
       "      <th>9</th>\n",
       "      <td>110</td>\n",
       "      <td>1</td>\n",
       "      <td>1</td>\n",
       "      <td>177</td>\n",
       "      <td>71</td>\n",
       "      <td>2.29</td>\n",
       "      <td>2.99</td>\n",
       "      <td>0</td>\n",
       "      <td>0</td>\n",
       "      <td>GB</td>\n",
       "    </tr>\n",
       "  </tbody>\n",
       "</table>\n",
       "</div>"
      ],
      "text/plain": [
       "   storeNum  Year  Week  p1sales  p2sales  p1price  p2price  p1prom  p2prom  \\\n",
       "0       101     1     1      128       83     2.19     2.49       0       0   \n",
       "1       102     1     1      158       71     2.79     3.19       0       0   \n",
       "2       103     1     1      119      125     2.99     3.19       0       1   \n",
       "3       104     1     1       95      115     2.79     2.29       0       0   \n",
       "4       105     1     1       98      111     2.99     2.59       0       0   \n",
       "5       106     1     1      106      136     2.79     2.49       0       1   \n",
       "6       107     1     1      103      102     2.79     2.49       0       0   \n",
       "7       108     1     1      176       84     2.19     2.99       0       0   \n",
       "8       109     1     1       94      127     2.99     2.49       0       0   \n",
       "9       110     1     1      177       71     2.29     2.99       0       0   \n",
       "\n",
       "  country  \n",
       "0      US  \n",
       "1      US  \n",
       "2      US  \n",
       "3      DE  \n",
       "4      DE  \n",
       "5      DE  \n",
       "6      DE  \n",
       "7      DE  \n",
       "8      GB  \n",
       "9      GB  "
      ]
     },
     "execution_count": 25,
     "metadata": {},
     "output_type": "execute_result"
    }
   ],
   "source": [
    "#Python code\n",
    "store_df.head(10)"
   ]
  },
  {
   "cell_type": "markdown",
   "metadata": {},
   "source": [
    "<font color=red>R code</font>: *display tail of dataset*\n",
    "<br>$tail(store{\\_}df)$"
   ]
  },
  {
   "cell_type": "code",
   "execution_count": 26,
   "metadata": {},
   "outputs": [
    {
     "data": {
      "text/html": [
       "<div>\n",
       "<style>\n",
       "    .dataframe thead tr:only-child th {\n",
       "        text-align: right;\n",
       "    }\n",
       "\n",
       "    .dataframe thead th {\n",
       "        text-align: left;\n",
       "    }\n",
       "\n",
       "    .dataframe tbody tr th {\n",
       "        vertical-align: top;\n",
       "    }\n",
       "</style>\n",
       "<table border=\"1\" class=\"dataframe\">\n",
       "  <thead>\n",
       "    <tr style=\"text-align: right;\">\n",
       "      <th></th>\n",
       "      <th>storeNum</th>\n",
       "      <th>Year</th>\n",
       "      <th>Week</th>\n",
       "      <th>p1sales</th>\n",
       "      <th>p2sales</th>\n",
       "      <th>p1price</th>\n",
       "      <th>p2price</th>\n",
       "      <th>p1prom</th>\n",
       "      <th>p2prom</th>\n",
       "      <th>country</th>\n",
       "    </tr>\n",
       "  </thead>\n",
       "  <tbody>\n",
       "    <tr>\n",
       "      <th>2070</th>\n",
       "      <td>111</td>\n",
       "      <td>2</td>\n",
       "      <td>52</td>\n",
       "      <td>162</td>\n",
       "      <td>106</td>\n",
       "      <td>2.19</td>\n",
       "      <td>2.29</td>\n",
       "      <td>1</td>\n",
       "      <td>0</td>\n",
       "      <td>GB</td>\n",
       "    </tr>\n",
       "    <tr>\n",
       "      <th>2071</th>\n",
       "      <td>112</td>\n",
       "      <td>2</td>\n",
       "      <td>52</td>\n",
       "      <td>91</td>\n",
       "      <td>129</td>\n",
       "      <td>2.99</td>\n",
       "      <td>2.29</td>\n",
       "      <td>0</td>\n",
       "      <td>0</td>\n",
       "      <td>BR</td>\n",
       "    </tr>\n",
       "    <tr>\n",
       "      <th>2072</th>\n",
       "      <td>113</td>\n",
       "      <td>2</td>\n",
       "      <td>52</td>\n",
       "      <td>139</td>\n",
       "      <td>86</td>\n",
       "      <td>2.49</td>\n",
       "      <td>2.99</td>\n",
       "      <td>0</td>\n",
       "      <td>0</td>\n",
       "      <td>BR</td>\n",
       "    </tr>\n",
       "    <tr>\n",
       "      <th>2073</th>\n",
       "      <td>114</td>\n",
       "      <td>2</td>\n",
       "      <td>52</td>\n",
       "      <td>132</td>\n",
       "      <td>103</td>\n",
       "      <td>2.49</td>\n",
       "      <td>2.49</td>\n",
       "      <td>1</td>\n",
       "      <td>0</td>\n",
       "      <td>JP</td>\n",
       "    </tr>\n",
       "    <tr>\n",
       "      <th>2074</th>\n",
       "      <td>115</td>\n",
       "      <td>2</td>\n",
       "      <td>52</td>\n",
       "      <td>125</td>\n",
       "      <td>112</td>\n",
       "      <td>2.99</td>\n",
       "      <td>2.99</td>\n",
       "      <td>0</td>\n",
       "      <td>0</td>\n",
       "      <td>JP</td>\n",
       "    </tr>\n",
       "    <tr>\n",
       "      <th>2075</th>\n",
       "      <td>116</td>\n",
       "      <td>2</td>\n",
       "      <td>52</td>\n",
       "      <td>119</td>\n",
       "      <td>109</td>\n",
       "      <td>2.29</td>\n",
       "      <td>2.29</td>\n",
       "      <td>0</td>\n",
       "      <td>0</td>\n",
       "      <td>JP</td>\n",
       "    </tr>\n",
       "    <tr>\n",
       "      <th>2076</th>\n",
       "      <td>117</td>\n",
       "      <td>2</td>\n",
       "      <td>52</td>\n",
       "      <td>100</td>\n",
       "      <td>105</td>\n",
       "      <td>2.79</td>\n",
       "      <td>2.29</td>\n",
       "      <td>0</td>\n",
       "      <td>0</td>\n",
       "      <td>JP</td>\n",
       "    </tr>\n",
       "    <tr>\n",
       "      <th>2077</th>\n",
       "      <td>118</td>\n",
       "      <td>2</td>\n",
       "      <td>52</td>\n",
       "      <td>182</td>\n",
       "      <td>99</td>\n",
       "      <td>2.29</td>\n",
       "      <td>3.19</td>\n",
       "      <td>0</td>\n",
       "      <td>1</td>\n",
       "      <td>AU</td>\n",
       "    </tr>\n",
       "    <tr>\n",
       "      <th>2078</th>\n",
       "      <td>119</td>\n",
       "      <td>2</td>\n",
       "      <td>52</td>\n",
       "      <td>199</td>\n",
       "      <td>103</td>\n",
       "      <td>2.19</td>\n",
       "      <td>2.99</td>\n",
       "      <td>1</td>\n",
       "      <td>1</td>\n",
       "      <td>CN</td>\n",
       "    </tr>\n",
       "    <tr>\n",
       "      <th>2079</th>\n",
       "      <td>120</td>\n",
       "      <td>2</td>\n",
       "      <td>52</td>\n",
       "      <td>118</td>\n",
       "      <td>96</td>\n",
       "      <td>2.29</td>\n",
       "      <td>2.29</td>\n",
       "      <td>0</td>\n",
       "      <td>0</td>\n",
       "      <td>CN</td>\n",
       "    </tr>\n",
       "  </tbody>\n",
       "</table>\n",
       "</div>"
      ],
      "text/plain": [
       "      storeNum  Year  Week  p1sales  p2sales  p1price  p2price  p1prom  \\\n",
       "2070       111     2    52      162      106     2.19     2.29       1   \n",
       "2071       112     2    52       91      129     2.99     2.29       0   \n",
       "2072       113     2    52      139       86     2.49     2.99       0   \n",
       "2073       114     2    52      132      103     2.49     2.49       1   \n",
       "2074       115     2    52      125      112     2.99     2.99       0   \n",
       "2075       116     2    52      119      109     2.29     2.29       0   \n",
       "2076       117     2    52      100      105     2.79     2.29       0   \n",
       "2077       118     2    52      182       99     2.29     3.19       0   \n",
       "2078       119     2    52      199      103     2.19     2.99       1   \n",
       "2079       120     2    52      118       96     2.29     2.29       0   \n",
       "\n",
       "      p2prom country  \n",
       "2070       0      GB  \n",
       "2071       0      BR  \n",
       "2072       0      BR  \n",
       "2073       0      JP  \n",
       "2074       0      JP  \n",
       "2075       0      JP  \n",
       "2076       0      JP  \n",
       "2077       1      AU  \n",
       "2078       1      CN  \n",
       "2079       0      CN  "
      ]
     },
     "execution_count": 26,
     "metadata": {},
     "output_type": "execute_result"
    }
   ],
   "source": [
    "#Python code\n",
    "store_df.tail(10)"
   ]
  },
  {
   "cell_type": "markdown",
   "metadata": {},
   "source": [
    "<font color=red>R code</font>: *display a few sets of random rows*\n",
    "<br>$some(store{\\_}df)$"
   ]
  },
  {
   "cell_type": "code",
   "execution_count": 27,
   "metadata": {},
   "outputs": [
    {
     "data": {
      "text/html": [
       "<div>\n",
       "<style>\n",
       "    .dataframe thead tr:only-child th {\n",
       "        text-align: right;\n",
       "    }\n",
       "\n",
       "    .dataframe thead th {\n",
       "        text-align: left;\n",
       "    }\n",
       "\n",
       "    .dataframe tbody tr th {\n",
       "        vertical-align: top;\n",
       "    }\n",
       "</style>\n",
       "<table border=\"1\" class=\"dataframe\">\n",
       "  <thead>\n",
       "    <tr style=\"text-align: right;\">\n",
       "      <th></th>\n",
       "      <th>storeNum</th>\n",
       "      <th>Year</th>\n",
       "      <th>Week</th>\n",
       "      <th>p1sales</th>\n",
       "      <th>p2sales</th>\n",
       "      <th>p1price</th>\n",
       "      <th>p2price</th>\n",
       "      <th>p1prom</th>\n",
       "      <th>p2prom</th>\n",
       "      <th>country</th>\n",
       "    </tr>\n",
       "  </thead>\n",
       "  <tbody>\n",
       "    <tr>\n",
       "      <th>1055</th>\n",
       "      <td>116</td>\n",
       "      <td>1</td>\n",
       "      <td>27</td>\n",
       "      <td>118</td>\n",
       "      <td>121</td>\n",
       "      <td>2.79</td>\n",
       "      <td>2.59</td>\n",
       "      <td>0</td>\n",
       "      <td>0</td>\n",
       "      <td>JP</td>\n",
       "    </tr>\n",
       "    <tr>\n",
       "      <th>118</th>\n",
       "      <td>119</td>\n",
       "      <td>2</td>\n",
       "      <td>3</td>\n",
       "      <td>170</td>\n",
       "      <td>67</td>\n",
       "      <td>2.19</td>\n",
       "      <td>2.99</td>\n",
       "      <td>0</td>\n",
       "      <td>0</td>\n",
       "      <td>CN</td>\n",
       "    </tr>\n",
       "    <tr>\n",
       "      <th>782</th>\n",
       "      <td>103</td>\n",
       "      <td>2</td>\n",
       "      <td>20</td>\n",
       "      <td>107</td>\n",
       "      <td>111</td>\n",
       "      <td>2.49</td>\n",
       "      <td>2.29</td>\n",
       "      <td>0</td>\n",
       "      <td>0</td>\n",
       "      <td>US</td>\n",
       "    </tr>\n",
       "    <tr>\n",
       "      <th>774</th>\n",
       "      <td>115</td>\n",
       "      <td>1</td>\n",
       "      <td>20</td>\n",
       "      <td>99</td>\n",
       "      <td>120</td>\n",
       "      <td>2.99</td>\n",
       "      <td>2.59</td>\n",
       "      <td>0</td>\n",
       "      <td>1</td>\n",
       "      <td>JP</td>\n",
       "    </tr>\n",
       "    <tr>\n",
       "      <th>1258</th>\n",
       "      <td>119</td>\n",
       "      <td>1</td>\n",
       "      <td>32</td>\n",
       "      <td>87</td>\n",
       "      <td>112</td>\n",
       "      <td>2.79</td>\n",
       "      <td>2.29</td>\n",
       "      <td>0</td>\n",
       "      <td>0</td>\n",
       "      <td>CN</td>\n",
       "    </tr>\n",
       "    <tr>\n",
       "      <th>1369</th>\n",
       "      <td>110</td>\n",
       "      <td>1</td>\n",
       "      <td>35</td>\n",
       "      <td>125</td>\n",
       "      <td>106</td>\n",
       "      <td>2.29</td>\n",
       "      <td>2.29</td>\n",
       "      <td>0</td>\n",
       "      <td>0</td>\n",
       "      <td>GB</td>\n",
       "    </tr>\n",
       "    <tr>\n",
       "      <th>699</th>\n",
       "      <td>120</td>\n",
       "      <td>1</td>\n",
       "      <td>18</td>\n",
       "      <td>157</td>\n",
       "      <td>66</td>\n",
       "      <td>2.49</td>\n",
       "      <td>3.19</td>\n",
       "      <td>0</td>\n",
       "      <td>0</td>\n",
       "      <td>CN</td>\n",
       "    </tr>\n",
       "    <tr>\n",
       "      <th>1059</th>\n",
       "      <td>120</td>\n",
       "      <td>1</td>\n",
       "      <td>27</td>\n",
       "      <td>169</td>\n",
       "      <td>109</td>\n",
       "      <td>2.19</td>\n",
       "      <td>2.49</td>\n",
       "      <td>1</td>\n",
       "      <td>1</td>\n",
       "      <td>CN</td>\n",
       "    </tr>\n",
       "    <tr>\n",
       "      <th>790</th>\n",
       "      <td>111</td>\n",
       "      <td>2</td>\n",
       "      <td>20</td>\n",
       "      <td>120</td>\n",
       "      <td>86</td>\n",
       "      <td>2.99</td>\n",
       "      <td>3.19</td>\n",
       "      <td>0</td>\n",
       "      <td>0</td>\n",
       "      <td>GB</td>\n",
       "    </tr>\n",
       "    <tr>\n",
       "      <th>847</th>\n",
       "      <td>108</td>\n",
       "      <td>1</td>\n",
       "      <td>22</td>\n",
       "      <td>116</td>\n",
       "      <td>122</td>\n",
       "      <td>2.49</td>\n",
       "      <td>2.29</td>\n",
       "      <td>0</td>\n",
       "      <td>0</td>\n",
       "      <td>DE</td>\n",
       "    </tr>\n",
       "  </tbody>\n",
       "</table>\n",
       "</div>"
      ],
      "text/plain": [
       "      storeNum  Year  Week  p1sales  p2sales  p1price  p2price  p1prom  \\\n",
       "1055       116     1    27      118      121     2.79     2.59       0   \n",
       "118        119     2     3      170       67     2.19     2.99       0   \n",
       "782        103     2    20      107      111     2.49     2.29       0   \n",
       "774        115     1    20       99      120     2.99     2.59       0   \n",
       "1258       119     1    32       87      112     2.79     2.29       0   \n",
       "1369       110     1    35      125      106     2.29     2.29       0   \n",
       "699        120     1    18      157       66     2.49     3.19       0   \n",
       "1059       120     1    27      169      109     2.19     2.49       1   \n",
       "790        111     2    20      120       86     2.99     3.19       0   \n",
       "847        108     1    22      116      122     2.49     2.29       0   \n",
       "\n",
       "      p2prom country  \n",
       "1055       0      JP  \n",
       "118        0      CN  \n",
       "782        0      US  \n",
       "774        1      JP  \n",
       "1258       0      CN  \n",
       "1369       0      GB  \n",
       "699        0      CN  \n",
       "1059       1      CN  \n",
       "790        0      GB  \n",
       "847        0      DE  "
      ]
     },
     "execution_count": 27,
     "metadata": {},
     "output_type": "execute_result"
    }
   ],
   "source": [
    "#Python code\n",
    "store_df.sample(10)"
   ]
  },
  {
   "cell_type": "code",
   "execution_count": 29,
   "metadata": {},
   "outputs": [],
   "source": [
    "#Apply function to summarize variables"
   ]
  },
  {
   "cell_type": "code",
   "execution_count": 30,
   "metadata": {},
   "outputs": [
    {
     "data": {
      "text/plain": [
       "p1sales    133.323077\n",
       "p2sales    100.430288\n",
       "p1price      2.546827\n",
       "p2price      2.716058\n",
       "dtype: float64"
      ]
     },
     "execution_count": 30,
     "metadata": {},
     "output_type": "execute_result"
    }
   ],
   "source": [
    "store_df.loc[:, \"p1sales\":\"p2price\" ].apply(np.mean, axis=0)"
   ]
  },
  {
   "cell_type": "markdown",
   "metadata": {},
   "source": [
    "<font color=red>R code</font>: *summarize a defined set of variables*\n",
    "<br>$apply(store{\\_}df[\\,,2:9]\\,, 2, function(x)\\{mean(x)-median(x)\\})$"
   ]
  },
  {
   "cell_type": "code",
   "execution_count": 75,
   "metadata": {},
   "outputs": [
    {
     "data": {
      "text/plain": [
       "p1sales    3.323077\n",
       "p2sales    4.430288\n",
       "p1price    0.056827\n",
       "p2price    0.126058\n",
       "p1prom     0.093750\n",
       "p2prom     0.150000\n",
       "dtype: float64"
      ]
     },
     "execution_count": 75,
     "metadata": {},
     "output_type": "execute_result"
    }
   ],
   "source": [
    "#Python code\n",
    "store_df.loc[:, \"p1sales\":\"p2prom\"].apply(lambda x: np.mean(x)-np.median(x), axis=0)"
   ]
  },
  {
   "cell_type": "markdown",
   "metadata": {},
   "source": [
    "## STEP 4: Summarize a variable"
   ]
  },
  {
   "cell_type": "markdown",
   "metadata": {},
   "source": [
    "### 1. Discrete variable"
   ]
  },
  {
   "cell_type": "markdown",
   "metadata": {},
   "source": [
    "<font color=red>R code</font>:  *count number of occurrences of each choice*\n",
    "<br>$table(store{\\_}df\\$p1price)$"
   ]
  },
  {
   "cell_type": "code",
   "execution_count": 34,
   "metadata": {},
   "outputs": [
    {
     "data": {
      "text/plain": [
       "2.19    458\n",
       "2.99    422\n",
       "2.49    408\n",
       "2.79    406\n",
       "2.29    386\n",
       "Name: p1price, dtype: int64"
      ]
     },
     "execution_count": 34,
     "metadata": {},
     "output_type": "execute_result"
    }
   ],
   "source": [
    "store_df['p1price'].value_counts()"
   ]
  },
  {
   "cell_type": "code",
   "execution_count": null,
   "metadata": {},
   "outputs": [],
   "source": [
    "store_df['p2price'].value_counts()"
   ]
  },
  {
   "cell_type": "markdown",
   "metadata": {},
   "source": [
    "<font color=red>R code</font>:  *crosstabs*\n",
    "<br>$table(store{\\_}df\\$p1price,\\, store{\\_}df\\$p1prom)$"
   ]
  },
  {
   "cell_type": "code",
   "execution_count": 76,
   "metadata": {},
   "outputs": [
    {
     "data": {
      "text/html": [
       "<div>\n",
       "<style>\n",
       "    .dataframe thead tr:only-child th {\n",
       "        text-align: right;\n",
       "    }\n",
       "\n",
       "    .dataframe thead th {\n",
       "        text-align: left;\n",
       "    }\n",
       "\n",
       "    .dataframe tbody tr th {\n",
       "        vertical-align: top;\n",
       "    }\n",
       "</style>\n",
       "<table border=\"1\" class=\"dataframe\">\n",
       "  <thead>\n",
       "    <tr style=\"text-align: right;\">\n",
       "      <th>p1prom</th>\n",
       "      <th>0</th>\n",
       "      <th>1</th>\n",
       "      <th>All</th>\n",
       "    </tr>\n",
       "    <tr>\n",
       "      <th>p1price</th>\n",
       "      <th></th>\n",
       "      <th></th>\n",
       "      <th></th>\n",
       "    </tr>\n",
       "  </thead>\n",
       "  <tbody>\n",
       "    <tr>\n",
       "      <th>2.19</th>\n",
       "      <td>418</td>\n",
       "      <td>40</td>\n",
       "      <td>458</td>\n",
       "    </tr>\n",
       "    <tr>\n",
       "      <th>2.29</th>\n",
       "      <td>353</td>\n",
       "      <td>33</td>\n",
       "      <td>386</td>\n",
       "    </tr>\n",
       "    <tr>\n",
       "      <th>2.49</th>\n",
       "      <td>365</td>\n",
       "      <td>43</td>\n",
       "      <td>408</td>\n",
       "    </tr>\n",
       "    <tr>\n",
       "      <th>2.79</th>\n",
       "      <td>368</td>\n",
       "      <td>38</td>\n",
       "      <td>406</td>\n",
       "    </tr>\n",
       "    <tr>\n",
       "      <th>2.99</th>\n",
       "      <td>381</td>\n",
       "      <td>41</td>\n",
       "      <td>422</td>\n",
       "    </tr>\n",
       "    <tr>\n",
       "      <th>All</th>\n",
       "      <td>1885</td>\n",
       "      <td>195</td>\n",
       "      <td>2080</td>\n",
       "    </tr>\n",
       "  </tbody>\n",
       "</table>\n",
       "</div>"
      ],
      "text/plain": [
       "p1prom      0    1   All\n",
       "p1price                 \n",
       "2.19      418   40   458\n",
       "2.29      353   33   386\n",
       "2.49      365   43   408\n",
       "2.79      368   38   406\n",
       "2.99      381   41   422\n",
       "All      1885  195  2080"
      ]
     },
     "execution_count": 76,
     "metadata": {},
     "output_type": "execute_result"
    }
   ],
   "source": [
    "#Python code\n",
    "pd.crosstab(store_df['p1price'], store_df['p1prom'],margins=True)"
   ]
  },
  {
   "cell_type": "code",
   "execution_count": 36,
   "metadata": {},
   "outputs": [],
   "source": [
    "p1_table=pd.crosstab(store_df['p1price'], store_df['p1prom'],margins=True)"
   ]
  },
  {
   "cell_type": "code",
   "execution_count": 37,
   "metadata": {},
   "outputs": [],
   "source": [
    "p2_table=pd.crosstab(store_df['p2price'], store_df['p2prom'],margins=True)"
   ]
  },
  {
   "cell_type": "markdown",
   "metadata": {},
   "source": [
    "<font color=green>**Cracking the code**</font>: **$pd.crosstab$**\n",
    "<br>This function computes a cross-tabulation of two (or more) factors. \n",
    "<br>**Syntax**: $pd.crosstab(index, columns, margins=True)$, where index = values to group by in the rows, columns = values to group by in the columns, margins = True: add row/columns subtotals.\n",
    "<br>**Reference**: http://pandas.pydata.org/pandas-docs/version/0.21/generated/pandas.crosstab.html"
   ]
  },
  {
   "cell_type": "code",
   "execution_count": 38,
   "metadata": {},
   "outputs": [
    {
     "data": {
      "text/plain": [
       "p1price\n",
       "2.19    0.087336\n",
       "2.29    0.085492\n",
       "2.49    0.105392\n",
       "2.79    0.093596\n",
       "2.99    0.097156\n",
       "All     0.093750\n",
       "dtype: float64"
      ]
     },
     "execution_count": 38,
     "metadata": {},
     "output_type": "execute_result"
    }
   ],
   "source": [
    "p1_table.loc[:, 1]/(p1_table.loc[:, 0]+p1_table.loc[:,1])"
   ]
  },
  {
   "cell_type": "code",
   "execution_count": 39,
   "metadata": {},
   "outputs": [
    {
     "data": {
      "text/plain": [
       "p2price\n",
       "2.29    0.170370\n",
       "2.49    0.124105\n",
       "2.59    0.167500\n",
       "2.99    0.125000\n",
       "3.19    0.165865\n",
       "All     0.150000\n",
       "dtype: float64"
      ]
     },
     "execution_count": 39,
     "metadata": {},
     "output_type": "execute_result"
    }
   ],
   "source": [
    "p2_table.loc[:, 1]/(p2_table.loc[:, 0]+p2_table.loc[:,1])"
   ]
  },
  {
   "cell_type": "markdown",
   "metadata": {},
   "source": [
    "### 2. Continuous variable"
   ]
  },
  {
   "cell_type": "markdown",
   "metadata": {},
   "source": [
    "<font color=red>R code</font>:  *Max, min, median, IQR ... functions*\n",
    "<br>- $max(store{\\_}df\\$p1sales)$\n",
    "<br>- $min(store{\\_}df\\$p1sales)$\n",
    "<br>- $median(store{\\_}df\\$p1sales)$\n",
    "<br>- $var(store{\\_}df\\$p1sales)$\n",
    "<br>- $sd(store{\\_}df\\$p1sales)$\n",
    "<br>- $mad(store{\\_}df\\$p1sales)$\n",
    "<br>- $IQR(store{\\_}df\\$p1sales)$\n",
    "<br>- $quantile(store{\\_}df\\$p1sales, probs=c(0.25,0.75))$"
   ]
  },
  {
   "cell_type": "code",
   "execution_count": 40,
   "metadata": {},
   "outputs": [
    {
     "data": {
      "text/plain": [
       "282"
      ]
     },
     "execution_count": 40,
     "metadata": {},
     "output_type": "execute_result"
    }
   ],
   "source": [
    "#Max of a variable\n",
    "store_df['p1sales'].max()"
   ]
  },
  {
   "cell_type": "code",
   "execution_count": 41,
   "metadata": {},
   "outputs": [
    {
     "data": {
      "text/plain": [
       "71"
      ]
     },
     "execution_count": 41,
     "metadata": {},
     "output_type": "execute_result"
    }
   ],
   "source": [
    "#Min of a variable\n",
    "store_df['p1sales'].min()"
   ]
  },
  {
   "cell_type": "code",
   "execution_count": 44,
   "metadata": {},
   "outputs": [
    {
     "data": {
      "text/plain": [
       "130.0"
      ]
     },
     "execution_count": 44,
     "metadata": {},
     "output_type": "execute_result"
    }
   ],
   "source": [
    "#Median of a variable\n",
    "store_df['p1sales'].median()"
   ]
  },
  {
   "cell_type": "code",
   "execution_count": 43,
   "metadata": {},
   "outputs": [
    {
     "data": {
      "text/plain": [
       "796.2899914899942"
      ]
     },
     "execution_count": 43,
     "metadata": {},
     "output_type": "execute_result"
    }
   ],
   "source": [
    "#Variance of a variable\n",
    "store_df['p1sales'].var()"
   ]
  },
  {
   "cell_type": "code",
   "execution_count": 42,
   "metadata": {},
   "outputs": [
    {
     "data": {
      "text/plain": [
       "28.218610729268622"
      ]
     },
     "execution_count": 42,
     "metadata": {},
     "output_type": "execute_result"
    }
   ],
   "source": [
    "#Standard deviation of a variable\n",
    "store_df['p1sales'].std()"
   ]
  },
  {
   "cell_type": "code",
   "execution_count": 45,
   "metadata": {},
   "outputs": [
    {
     "data": {
      "text/plain": [
       "150.0"
      ]
     },
     "execution_count": 45,
     "metadata": {},
     "output_type": "execute_result"
    }
   ],
   "source": [
    "#Quantile of a variable\n",
    "store_df['p1sales'].quantile(0.75)"
   ]
  },
  {
   "cell_type": "code",
   "execution_count": 50,
   "metadata": {},
   "outputs": [
    {
     "data": {
      "text/plain": [
       "37.0"
      ]
     },
     "execution_count": 50,
     "metadata": {},
     "output_type": "execute_result"
    }
   ],
   "source": [
    "#IQR: Interquartile\n",
    "sp.stats.iqr(store_df['p1sales'])"
   ]
  },
  {
   "cell_type": "markdown",
   "metadata": {},
   "source": [
    "<font color=green>**Cracking the code**</font>: **$scipy.stats.iqr$**\n",
    "<br>This function computes the interquartile range (IQR) of the data. The IQR is the difference between the 75th and 25th percentile of the data. It is more robust to outliers than standard deviation or variance.\n",
    "<br>**Syntax**: $scipy.stats.iqr(variable)$\n",
    "<br>**Reference**: https://docs.scipy.org/doc/scipy-0.19.0/reference/generated/scipy.stats.iqr.html"
   ]
  },
  {
   "cell_type": "code",
   "execution_count": 49,
   "metadata": {},
   "outputs": [
    {
     "data": {
      "text/plain": [
       "18.0"
      ]
     },
     "execution_count": 49,
     "metadata": {},
     "output_type": "execute_result"
    }
   ],
   "source": [
    "#MAD: Mean Absolute Deviation\n",
    "astropy.stats.median_absolute_deviation(store_df['p1sales'])"
   ]
  },
  {
   "cell_type": "markdown",
   "metadata": {},
   "source": [
    "<font color=green>**Cracking the code**</font>: **$astropy.stats.median{\\_}absolute{\\_}deviation$**\n",
    "<br>This function calculates the mean absolute deviation (MAD). MAD is defined as median(abs(a-median(a)))\n",
    "<br>**Syntax**: $astropy.stats.median{\\_}absolute{\\_}deviation(data)$\n",
    "<br>**Reference**: http://docs.astropy.org/en/stable/api/astropy.stats.median_absolute_deviation.html"
   ]
  },
  {
   "cell_type": "markdown",
   "metadata": {},
   "source": [
    "## STEP 5: Data visualization"
   ]
  },
  {
   "cell_type": "markdown",
   "metadata": {},
   "source": [
    "### 1. Histogram (count)"
   ]
  },
  {
   "cell_type": "markdown",
   "metadata": {},
   "source": [
    "<font color=red>R code</font>: \n",
    "$$\n",
    "hist(store{\\_}df\\$p1sales,\\\\\n",
    "     \\> main = \"Product \\, 1 \\,Weekly \\,Sales \\,Frequencies,\\, All\\, stores\",\\\\\n",
    "     \\> xlab = \"Product \\,1 \\,Sales \\,(Units)\",\\\\\n",
    "     \\> ylab = \"Count\",\\\\\n",
    "      \\> breaks = 30,\\\\\n",
    "      \\> col = \"lightblue\")\n",
    "$$"
   ]
  },
  {
   "cell_type": "code",
   "execution_count": 51,
   "metadata": {},
   "outputs": [
    {
     "data": {
      "image/png": "[encoded data removed]",
      "text/plain": [
       "<matplotlib.figure.Figure at 0x137be8d0>"
      ]
     },
     "metadata": {},
     "output_type": "display_data"
    }
   ],
   "source": [
    "plt.hist(store_df['p1sales'], \n",
    "         bins=30, \n",
    "         color=\"darkred\")\n",
    "plt.xlabel(\"Product 1 Sales (Units)\")\n",
    "plt.ylabel(\"Count\")\n",
    "plt.title(\"Product 1 Weekly Sales Frequencies, All Stores\")\n",
    "plt.show()"
   ]
  },
  {
   "cell_type": "markdown",
   "metadata": {},
   "source": [
    "### 2. Histogram (frequency)"
   ]
  },
  {
   "cell_type": "markdown",
   "metadata": {},
   "source": [
    "<font color=red>R code</font>: \n",
    "$$\n",
    "hist(store{\\_}df\\$p1sales,\\\\\n",
    "     \\> main = \"Product \\, 1 \\,Weekly \\,Sales \\,Frequencies,\\, All\\, stores\",\\\\\n",
    "     \\> xlab = \"Product \\,1 \\,Sales \\,(Units)\",\\\\\n",
    "     \\> ylab = \"Count\",\\\\\n",
    "      \\> breaks = 30,\\\\\n",
    "      \\> freq = FALSE,\\\\\n",
    "      \\> col = \"lightblue\")\n",
    "$$\n",
    "freq = FALSE : use density instead of counts on Y axis"
   ]
  },
  {
   "cell_type": "code",
   "execution_count": 52,
   "metadata": {},
   "outputs": [
    {
     "data": {
      "image/png": "[encoded data removed]",
      "text/plain": [
       "<matplotlib.figure.Figure at 0x1409a668>"
      ]
     },
     "metadata": {},
     "output_type": "display_data"
    }
   ],
   "source": [
    "plt.hist(store_df['p1sales'], \n",
    "         bins=30, \n",
    "         density=True,\n",
    "         color=\"darkred\")\n",
    "plt.xlabel(\"Product 1 Sales (Units)\")\n",
    "plt.ylabel(\"Relative frequency\")\n",
    "plt.title(\"Product 1 Weekly Sales Frequencies, All Stores\")\n",
    "plt.show()"
   ]
  },
  {
   "cell_type": "markdown",
   "metadata": {},
   "source": [
    "### 3. Simple Boxplot"
   ]
  },
  {
   "cell_type": "markdown",
   "metadata": {},
   "source": [
    "<font color=red>R code</font>: \n",
    "$$\n",
    "boxplot(store{\\_}df\\$p2sales,\\\\\n",
    "     \\> main = \"Weekly \\, Sales \\,of \\,P2,\\, All\\, stores\",\\\\\n",
    "     \\> xlab = \"Weekly\\,Sales\",\\\\\n",
    "     \\> ylab = \"P2\",\\\\\n",
    "      \\>horizontal = TRUE)\n",
    "$$"
   ]
  },
  {
   "cell_type": "code",
   "execution_count": 53,
   "metadata": {},
   "outputs": [
    {
     "data": {
      "image/png": "[encoded data removed]",
      "text/plain": [
       "<matplotlib.figure.Figure at 0x14299cf8>"
      ]
     },
     "metadata": {},
     "output_type": "display_data"
    }
   ],
   "source": [
    "plt.boxplot(store_df['p2sales'],\n",
    "            vert=False)\n",
    "plt.xlabel(\"Weekly Sales\")\n",
    "plt.ylabel(\"P2\")\n",
    "plt.title(\"Weekly sales of P2, All Stores\")\n",
    "plt.show()"
   ]
  },
  {
   "cell_type": "markdown",
   "metadata": {},
   "source": [
    "### 4. Boxplot depending on a category"
   ]
  },
  {
   "cell_type": "markdown",
   "metadata": {},
   "source": [
    "<font color=red>R code</font>: \n",
    "$$\n",
    "boxplot(store{\\_}df\\$p2sales \\sim store{\\_}df\\$storeNum,\\\\\n",
    "     \\> main = \"Weekly \\, Sales \\,of \\,P2,\\, by\\, Store\",\\\\\n",
    "     \\> xlab = \"Weekly\\,Sales\",\\\\\n",
    "     \\> ylab = \"Store\",\\\\\n",
    "     \\>las =1, \\\\\n",
    "      \\>horizontal = TRUE)\n",
    "$$"
   ]
  },
  {
   "cell_type": "code",
   "execution_count": 54,
   "metadata": {},
   "outputs": [
    {
     "data": {
      "image/png": "[encoded data removed]",
      "text/plain": [
       "<matplotlib.figure.Figure at 0x1459f240>"
      ]
     },
     "metadata": {},
     "output_type": "display_data"
    }
   ],
   "source": [
    "sns.set_style(\"whitegrid\")\n",
    "sns.boxplot(x='p2sales',\n",
    "            y='storeNum',\n",
    "            data=store_df,\n",
    "            palette=\"Set3\",\n",
    "            orient=\"h\").grid(False)\n",
    "plt.xlabel(\"Weekly Unit Sales\")\n",
    "plt.ylabel(\"Store\")\n",
    "plt.title(\"Weekly sales of P2 by Store\")\n",
    "plt.show()"
   ]
  },
  {
   "cell_type": "markdown",
   "metadata": {},
   "source": [
    "### 5. QQplot to check normality"
   ]
  },
  {
   "cell_type": "markdown",
   "metadata": {},
   "source": [
    "<font color=red>R code</font>: <br>\n",
    "$qqnorm(store{\\_}df\\$p1sales)\\\\\n",
    "qqline(store{\\_}df\\$p1sales)$"
   ]
  },
  {
   "cell_type": "markdown",
   "metadata": {},
   "source": [
    "<font color=green>**Cracking the code**</font>: **$scipy.stats.probplot$**\n",
    "<br>Generates a probability plot of sample data against the quantiles of the normal distribution (by default).\n",
    "<br>**Interpretation**: If the blue points follow the red line then the sample is likely to follow a normal distribution.\n",
    "<br>**Syntax**: $scipy.stats.probplot(sample, dist='norm', fit=True, plot=plt)$, fit = True means that it will fit a least-squares regression (best-fit) line to the sample data.\n",
    "<br>**Reference**: https://docs.scipy.org/doc/scipy-0.16.1/reference/generated/scipy.stats.probplot.html"
   ]
  },
  {
   "cell_type": "code",
   "execution_count": 56,
   "metadata": {},
   "outputs": [
    {
     "data": {
      "text/plain": [
       "((array([-3.40305173, -3.15273159, -3.01392984, ...,  3.01392984,\n",
       "          3.15273159,  3.40305173]),\n",
       "  array([ 71,  73,  74, ..., 246, 269, 282])),\n",
       " (27.896972070970527, 133.3230769230769, 0.9873984854433246))"
      ]
     },
     "execution_count": 56,
     "metadata": {},
     "output_type": "execute_result"
    },
    {
     "data": {
      "image/png": "[encoded data removed]",
      "text/plain": [
       "<matplotlib.figure.Figure at 0x133499e8>"
      ]
     },
     "metadata": {},
     "output_type": "display_data"
    }
   ],
   "source": [
    "sp.stats.probplot(store_df['p1sales'], plot=plt)"
   ]
  },
  {
   "cell_type": "markdown",
   "metadata": {},
   "source": [
    "**Observation**: the blue dots do not follow the red line. "
   ]
  },
  {
   "cell_type": "markdown",
   "metadata": {},
   "source": [
    "**Solution**: usually to make a variable normally distributed we take its log."
   ]
  },
  {
   "cell_type": "code",
   "execution_count": 58,
   "metadata": {},
   "outputs": [
    {
     "data": {
      "text/plain": [
       "((array([-3.40305173, -3.15273159, -3.01392984, ...,  3.01392984,\n",
       "          3.15273159,  3.40305173]),\n",
       "  array([4.26267988, 4.29045944, 4.30406509, ..., 5.50533154, 5.59471138,\n",
       "         5.64190707])),\n",
       " (0.20854371378600667, 4.870983332389844, 0.999309760317738))"
      ]
     },
     "execution_count": 58,
     "metadata": {},
     "output_type": "execute_result"
    },
    {
     "data": {
      "image/png": "[encoded data removed]",
      "text/plain": [
       "<matplotlib.figure.Figure at 0x1459f1d0>"
      ]
     },
     "metadata": {},
     "output_type": "display_data"
    }
   ],
   "source": [
    "#Probplot taking the log of p1sales\n",
    "sp.stats.probplot(np.log(store_df['p1sales']), plot=plt)"
   ]
  },
  {
   "cell_type": "markdown",
   "metadata": {},
   "source": [
    "**Observation**: the blue points are much more aligned to the red line than previously."
   ]
  },
  {
   "cell_type": "markdown",
   "metadata": {},
   "source": [
    "### 6. Cumulative distribution"
   ]
  },
  {
   "cell_type": "markdown",
   "metadata": {},
   "source": [
    "<font color=red>R code</font>: <br>\n",
    "$$\n",
    "plot(ecdf(store{\\_}df\\$p1sales),\\\\\n",
    "     \\> main = \"Cumulative\\,distribution\\,of\\,P1\\,Weekly\\,Sales\",\\\\\n",
    "     \\> xlab = \"P1\\,Weekly\\,Sales\",\\\\\n",
    "     \\> ylab = \"Cumulative\\,proportion\",\\\\\n",
    "     \\>yaxt=\"n\")\n",
    "$$"
   ]
  },
  {
   "cell_type": "code",
   "execution_count": 63,
   "metadata": {},
   "outputs": [
    {
     "data": {
      "text/plain": [
       "<statsmodels.distributions.empirical_distribution.ECDF at 0x13c2c4e0>"
      ]
     },
     "execution_count": 63,
     "metadata": {},
     "output_type": "execute_result"
    }
   ],
   "source": [
    "ecdf=ECDF(store_df['p1sales'])"
   ]
  },
  {
   "cell_type": "code",
   "execution_count": 70,
   "metadata": {},
   "outputs": [
    {
     "data": {
      "text/plain": [
       "[<matplotlib.lines.Line2D at 0x14016400>]"
      ]
     },
     "execution_count": 70,
     "metadata": {},
     "output_type": "execute_result"
    },
    {
     "data": {
      "image/png": "[encoded data removed]",
      "text/plain": [
       "<matplotlib.figure.Figure at 0x13c2ceb8>"
      ]
     },
     "metadata": {},
     "output_type": "display_data"
    }
   ],
   "source": [
    "#PLot cumulative distribution of sales for product 1\n",
    "plt.plot(ecdf.x, ecdf.y)"
   ]
  },
  {
   "cell_type": "markdown",
   "metadata": {},
   "source": [
    "<font color=green>**Cracking the code**</font>: **$statsmodels.distributions.empirical{\\_}distribution.ECDF()$**\n",
    "<br>Return the empirical CDF of an array as a step function.\n",
    "<br>*Syntax*: $statsmodels.distributions.empirical{\\_}distribution.ECDF(variable)$\n",
    "<br>*Reference*: http://www.statsmodels.org/dev/generated/statsmodels.distributions.empirical_distribution.ECDF.html"
   ]
  },
  {
   "cell_type": "markdown",
   "metadata": {},
   "source": [
    "## STEP 6: Group by and aggregation"
   ]
  },
  {
   "cell_type": "markdown",
   "metadata": {},
   "source": [
    "<font color=red>R code</font>: *Group By*<br>\n",
    "$by(store{\\_}df\\$p1sales,\\,store{\\_}df\\$storeNum,\\,mean)$"
   ]
  },
  {
   "cell_type": "code",
   "execution_count": 64,
   "metadata": {},
   "outputs": [],
   "source": [
    "#Group data by country\n",
    "bycountry=store_df.groupby('country')"
   ]
  },
  {
   "cell_type": "code",
   "execution_count": 66,
   "metadata": {},
   "outputs": [
    {
     "data": {
      "text/html": [
       "<div>\n",
       "<style>\n",
       "    .dataframe thead tr:only-child th {\n",
       "        text-align: right;\n",
       "    }\n",
       "\n",
       "    .dataframe thead th {\n",
       "        text-align: left;\n",
       "    }\n",
       "\n",
       "    .dataframe tbody tr th {\n",
       "        vertical-align: top;\n",
       "    }\n",
       "</style>\n",
       "<table border=\"1\" class=\"dataframe\">\n",
       "  <thead>\n",
       "    <tr style=\"text-align: right;\">\n",
       "      <th></th>\n",
       "      <th>count</th>\n",
       "      <th>mean</th>\n",
       "      <th>std</th>\n",
       "      <th>min</th>\n",
       "      <th>25%</th>\n",
       "      <th>50%</th>\n",
       "      <th>75%</th>\n",
       "      <th>max</th>\n",
       "    </tr>\n",
       "    <tr>\n",
       "      <th>country</th>\n",
       "      <th></th>\n",
       "      <th></th>\n",
       "      <th></th>\n",
       "      <th></th>\n",
       "      <th></th>\n",
       "      <th></th>\n",
       "      <th></th>\n",
       "      <th></th>\n",
       "    </tr>\n",
       "  </thead>\n",
       "  <tbody>\n",
       "    <tr>\n",
       "      <th>AU</th>\n",
       "      <td>104.0</td>\n",
       "      <td>130.961538</td>\n",
       "      <td>25.114079</td>\n",
       "      <td>83.0</td>\n",
       "      <td>113.00</td>\n",
       "      <td>127.5</td>\n",
       "      <td>145.5</td>\n",
       "      <td>194.0</td>\n",
       "    </tr>\n",
       "    <tr>\n",
       "      <th>BR</th>\n",
       "      <td>208.0</td>\n",
       "      <td>132.076923</td>\n",
       "      <td>28.571190</td>\n",
       "      <td>78.0</td>\n",
       "      <td>111.75</td>\n",
       "      <td>129.0</td>\n",
       "      <td>152.0</td>\n",
       "      <td>214.0</td>\n",
       "    </tr>\n",
       "    <tr>\n",
       "      <th>CN</th>\n",
       "      <td>208.0</td>\n",
       "      <td>133.576923</td>\n",
       "      <td>26.747411</td>\n",
       "      <td>76.0</td>\n",
       "      <td>115.00</td>\n",
       "      <td>128.0</td>\n",
       "      <td>153.0</td>\n",
       "      <td>214.0</td>\n",
       "    </tr>\n",
       "    <tr>\n",
       "      <th>DE</th>\n",
       "      <td>520.0</td>\n",
       "      <td>135.238462</td>\n",
       "      <td>28.130868</td>\n",
       "      <td>71.0</td>\n",
       "      <td>115.75</td>\n",
       "      <td>133.0</td>\n",
       "      <td>152.0</td>\n",
       "      <td>282.0</td>\n",
       "    </tr>\n",
       "    <tr>\n",
       "      <th>GB</th>\n",
       "      <td>312.0</td>\n",
       "      <td>134.769231</td>\n",
       "      <td>28.449390</td>\n",
       "      <td>77.0</td>\n",
       "      <td>115.00</td>\n",
       "      <td>132.0</td>\n",
       "      <td>152.0</td>\n",
       "      <td>223.0</td>\n",
       "    </tr>\n",
       "    <tr>\n",
       "      <th>JP</th>\n",
       "      <td>416.0</td>\n",
       "      <td>132.127404</td>\n",
       "      <td>28.883574</td>\n",
       "      <td>78.0</td>\n",
       "      <td>111.00</td>\n",
       "      <td>130.0</td>\n",
       "      <td>147.0</td>\n",
       "      <td>246.0</td>\n",
       "    </tr>\n",
       "    <tr>\n",
       "      <th>US</th>\n",
       "      <td>312.0</td>\n",
       "      <td>131.727564</td>\n",
       "      <td>28.910987</td>\n",
       "      <td>73.0</td>\n",
       "      <td>110.00</td>\n",
       "      <td>126.5</td>\n",
       "      <td>150.0</td>\n",
       "      <td>269.0</td>\n",
       "    </tr>\n",
       "  </tbody>\n",
       "</table>\n",
       "</div>"
      ],
      "text/plain": [
       "         count        mean        std   min     25%    50%    75%    max\n",
       "country                                                                 \n",
       "AU       104.0  130.961538  25.114079  83.0  113.00  127.5  145.5  194.0\n",
       "BR       208.0  132.076923  28.571190  78.0  111.75  129.0  152.0  214.0\n",
       "CN       208.0  133.576923  26.747411  76.0  115.00  128.0  153.0  214.0\n",
       "DE       520.0  135.238462  28.130868  71.0  115.75  133.0  152.0  282.0\n",
       "GB       312.0  134.769231  28.449390  77.0  115.00  132.0  152.0  223.0\n",
       "JP       416.0  132.127404  28.883574  78.0  111.00  130.0  147.0  246.0\n",
       "US       312.0  131.727564  28.910987  73.0  110.00  126.5  150.0  269.0"
      ]
     },
     "execution_count": 66,
     "metadata": {},
     "output_type": "execute_result"
    }
   ],
   "source": [
    "#Summary statistics with the grouped dataset\n",
    "bycountry['p1sales'].describe()"
   ]
  },
  {
   "cell_type": "code",
   "execution_count": 67,
   "metadata": {},
   "outputs": [
    {
     "data": {
      "text/html": [
       "<div>\n",
       "<style>\n",
       "    .dataframe thead tr:only-child th {\n",
       "        text-align: right;\n",
       "    }\n",
       "\n",
       "    .dataframe thead th {\n",
       "        text-align: left;\n",
       "    }\n",
       "\n",
       "    .dataframe tbody tr th {\n",
       "        vertical-align: top;\n",
       "    }\n",
       "</style>\n",
       "<table border=\"1\" class=\"dataframe\">\n",
       "  <thead>\n",
       "    <tr style=\"text-align: right;\">\n",
       "      <th></th>\n",
       "      <th>sum</th>\n",
       "      <th>mean</th>\n",
       "      <th>std</th>\n",
       "      <th>len</th>\n",
       "    </tr>\n",
       "    <tr>\n",
       "      <th>country</th>\n",
       "      <th></th>\n",
       "      <th></th>\n",
       "      <th></th>\n",
       "      <th></th>\n",
       "    </tr>\n",
       "  </thead>\n",
       "  <tbody>\n",
       "    <tr>\n",
       "      <th>AU</th>\n",
       "      <td>13620</td>\n",
       "      <td>130.961538</td>\n",
       "      <td>25.114079</td>\n",
       "      <td>104</td>\n",
       "    </tr>\n",
       "    <tr>\n",
       "      <th>BR</th>\n",
       "      <td>27472</td>\n",
       "      <td>132.076923</td>\n",
       "      <td>28.571190</td>\n",
       "      <td>208</td>\n",
       "    </tr>\n",
       "    <tr>\n",
       "      <th>CN</th>\n",
       "      <td>27784</td>\n",
       "      <td>133.576923</td>\n",
       "      <td>26.747411</td>\n",
       "      <td>208</td>\n",
       "    </tr>\n",
       "    <tr>\n",
       "      <th>DE</th>\n",
       "      <td>70324</td>\n",
       "      <td>135.238462</td>\n",
       "      <td>28.130868</td>\n",
       "      <td>520</td>\n",
       "    </tr>\n",
       "    <tr>\n",
       "      <th>GB</th>\n",
       "      <td>42048</td>\n",
       "      <td>134.769231</td>\n",
       "      <td>28.449390</td>\n",
       "      <td>312</td>\n",
       "    </tr>\n",
       "    <tr>\n",
       "      <th>JP</th>\n",
       "      <td>54965</td>\n",
       "      <td>132.127404</td>\n",
       "      <td>28.883574</td>\n",
       "      <td>416</td>\n",
       "    </tr>\n",
       "    <tr>\n",
       "      <th>US</th>\n",
       "      <td>41099</td>\n",
       "      <td>131.727564</td>\n",
       "      <td>28.910987</td>\n",
       "      <td>312</td>\n",
       "    </tr>\n",
       "  </tbody>\n",
       "</table>\n",
       "</div>"
      ],
      "text/plain": [
       "           sum        mean        std  len\n",
       "country                                   \n",
       "AU       13620  130.961538  25.114079  104\n",
       "BR       27472  132.076923  28.571190  208\n",
       "CN       27784  133.576923  26.747411  208\n",
       "DE       70324  135.238462  28.130868  520\n",
       "GB       42048  134.769231  28.449390  312\n",
       "JP       54965  132.127404  28.883574  416\n",
       "US       41099  131.727564  28.910987  312"
      ]
     },
     "execution_count": 67,
     "metadata": {},
     "output_type": "execute_result"
    }
   ],
   "source": [
    "#Apply multiple functions to the groups using agg()\n",
    "bycountry['p1sales'].agg([np.sum, np.mean,np.std, len])"
   ]
  }
 ],
 "metadata": {
  "kernelspec": {
   "display_name": "Python 2",
   "language": "python",
   "name": "python2"
  },
  "language_info": {
   "codemirror_mode": {
    "name": "ipython",
    "version": 2
   },
   "file_extension": ".py",
   "mimetype": "text/x-python",
   "name": "python",
   "nbconvert_exporter": "python",
   "pygments_lexer": "ipython2",
   "version": "2.7.15"
  }
 },
 "nbformat": 4,
 "nbformat_minor": 2
}
