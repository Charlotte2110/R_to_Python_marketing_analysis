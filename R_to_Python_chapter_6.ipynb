{
 "cells": [
  {
   "cell_type": "markdown",
   "metadata": {},
   "source": [
    "<h1><center> R to Python<br><br>Marketing Research and Analytics<br><br>CHAPTER 6: Comparing Groups: Statistical Tests</center></h1>"
   ]
  },
  {
   "cell_type": "markdown",
   "metadata": {},
   "source": [
    "This tutorial aims at providing the python code for the book *R for Marketing Research and Analytics* (Chapman, Christopher N., McDonnell Feit, Elea). We will follow the chapters of the book and provide a Python version of the R code presented in the book.\n",
    "<br>In this tutorial, we tackle chapter 6 of the book. Please look at the other tutorials for other chapters."
   ]
  },
  {
   "cell_type": "markdown",
   "metadata": {},
   "source": [
    "## STEP 1: Importing the required libraries"
   ]
  },
  {
   "cell_type": "code",
   "execution_count": 19,
   "metadata": {},
   "outputs": [],
   "source": [
    "#Libraries for data analysis and wrangling\n",
    "import pandas as pd\n",
    "import numpy as np\n",
    "import random as rnd\n",
    "import datetime\n",
    "from datetime import date\n",
    "from dateutil.relativedelta import relativedelta\n",
    "import calendar\n",
    "from sklearn.feature_selection import chi2\n",
    "from io import StringIO\n",
    "import scipy as sp\n",
    "from scipy import stats\n",
    "import astropy\n",
    "from astropy import stats\n",
    "from statsmodels.distributions.empirical_distribution import ECDF\n",
    "import statsmodels.api as sm\n",
    "from statsmodels.formula.api import ols\n",
    "from statsmodels.stats.multicomp import pairwise_tukeyhsd\n",
    "#Libraries for data visualization\n",
    "import seaborn as sns\n",
    "import matplotlib.pyplot as plt\n",
    "#Below code allows for the graphs to be plotted directly under the coding cell\n",
    "%matplotlib inline \n",
    "from matplotlib.pylab import rcParams\n",
    "rcParams['figure.figsize'] = 11, 7"
   ]
  },
  {
   "cell_type": "markdown",
   "metadata": {},
   "source": [
    "## STEP 2: Importing the dataset for consumer segment data"
   ]
  },
  {
   "cell_type": "code",
   "execution_count": 21,
   "metadata": {},
   "outputs": [],
   "source": [
    "#Import csv file \n",
    "seg_df = pd.read_csv('C:/Users/cdague/Documents/02_Data_science_WORK/01_Data_tutorials/02_Marketing_R_to_Python/seg_df.csv')"
   ]
  },
  {
   "cell_type": "code",
   "execution_count": 4,
   "metadata": {},
   "outputs": [
    {
     "data": {
      "text/html": [
       "<div>\n",
       "<style>\n",
       "    .dataframe thead tr:only-child th {\n",
       "        text-align: right;\n",
       "    }\n",
       "\n",
       "    .dataframe thead th {\n",
       "        text-align: left;\n",
       "    }\n",
       "\n",
       "    .dataframe tbody tr th {\n",
       "        vertical-align: top;\n",
       "    }\n",
       "</style>\n",
       "<table border=\"1\" class=\"dataframe\">\n",
       "  <thead>\n",
       "    <tr style=\"text-align: right;\">\n",
       "      <th></th>\n",
       "      <th>age</th>\n",
       "      <th>gender</th>\n",
       "      <th>income</th>\n",
       "      <th>kids</th>\n",
       "      <th>ownHome</th>\n",
       "      <th>subscribe</th>\n",
       "      <th>Segment</th>\n",
       "      <th>segIncome</th>\n",
       "    </tr>\n",
       "  </thead>\n",
       "  <tbody>\n",
       "    <tr>\n",
       "      <th>186</th>\n",
       "      <td>70.390748</td>\n",
       "      <td>Female</td>\n",
       "      <td>36115.561805</td>\n",
       "      <td>0</td>\n",
       "      <td>ownYes</td>\n",
       "      <td>subYes</td>\n",
       "      <td>Travelers</td>\n",
       "      <td>60352.471426</td>\n",
       "    </tr>\n",
       "    <tr>\n",
       "      <th>249</th>\n",
       "      <td>36.505823</td>\n",
       "      <td>Female</td>\n",
       "      <td>54060.747532</td>\n",
       "      <td>0</td>\n",
       "      <td>ownNo</td>\n",
       "      <td>subYes</td>\n",
       "      <td>Moving up</td>\n",
       "      <td>49992.546912</td>\n",
       "    </tr>\n",
       "    <tr>\n",
       "      <th>130</th>\n",
       "      <td>26.005623</td>\n",
       "      <td>Male</td>\n",
       "      <td>30119.948308</td>\n",
       "      <td>2</td>\n",
       "      <td>ownYes</td>\n",
       "      <td>subNo</td>\n",
       "      <td>Urban hip</td>\n",
       "      <td>20797.144176</td>\n",
       "    </tr>\n",
       "    <tr>\n",
       "      <th>102</th>\n",
       "      <td>24.808784</td>\n",
       "      <td>Female</td>\n",
       "      <td>16577.475780</td>\n",
       "      <td>1</td>\n",
       "      <td>ownNo</td>\n",
       "      <td>subNo</td>\n",
       "      <td>Urban hip</td>\n",
       "      <td>20797.144176</td>\n",
       "    </tr>\n",
       "    <tr>\n",
       "      <th>117</th>\n",
       "      <td>21.798879</td>\n",
       "      <td>Male</td>\n",
       "      <td>17495.712895</td>\n",
       "      <td>0</td>\n",
       "      <td>ownNo</td>\n",
       "      <td>subNo</td>\n",
       "      <td>Urban hip</td>\n",
       "      <td>20797.144176</td>\n",
       "    </tr>\n",
       "    <tr>\n",
       "      <th>125</th>\n",
       "      <td>24.706417</td>\n",
       "      <td>Male</td>\n",
       "      <td>16659.393411</td>\n",
       "      <td>0</td>\n",
       "      <td>ownNo</td>\n",
       "      <td>subYes</td>\n",
       "      <td>Urban hip</td>\n",
       "      <td>20797.144176</td>\n",
       "    </tr>\n",
       "    <tr>\n",
       "      <th>175</th>\n",
       "      <td>51.862592</td>\n",
       "      <td>Male</td>\n",
       "      <td>126722.193001</td>\n",
       "      <td>0</td>\n",
       "      <td>ownYes</td>\n",
       "      <td>subNo</td>\n",
       "      <td>Travelers</td>\n",
       "      <td>60352.471426</td>\n",
       "    </tr>\n",
       "    <tr>\n",
       "      <th>61</th>\n",
       "      <td>39.573336</td>\n",
       "      <td>Female</td>\n",
       "      <td>64802.766997</td>\n",
       "      <td>3</td>\n",
       "      <td>ownYes</td>\n",
       "      <td>subNo</td>\n",
       "      <td>Suburb mix</td>\n",
       "      <td>56195.586138</td>\n",
       "    </tr>\n",
       "    <tr>\n",
       "      <th>138</th>\n",
       "      <td>22.760903</td>\n",
       "      <td>Female</td>\n",
       "      <td>22080.931944</td>\n",
       "      <td>1</td>\n",
       "      <td>ownNo</td>\n",
       "      <td>subNo</td>\n",
       "      <td>Urban hip</td>\n",
       "      <td>20797.144176</td>\n",
       "    </tr>\n",
       "    <tr>\n",
       "      <th>199</th>\n",
       "      <td>67.633279</td>\n",
       "      <td>Male</td>\n",
       "      <td>68402.269802</td>\n",
       "      <td>0</td>\n",
       "      <td>ownYes</td>\n",
       "      <td>subNo</td>\n",
       "      <td>Travelers</td>\n",
       "      <td>60352.471426</td>\n",
       "    </tr>\n",
       "  </tbody>\n",
       "</table>\n",
       "</div>"
      ],
      "text/plain": [
       "           age  gender         income  kids ownHome subscribe     Segment  \\\n",
       "186  70.390748  Female   36115.561805     0  ownYes    subYes   Travelers   \n",
       "249  36.505823  Female   54060.747532     0   ownNo    subYes   Moving up   \n",
       "130  26.005623    Male   30119.948308     2  ownYes     subNo   Urban hip   \n",
       "102  24.808784  Female   16577.475780     1   ownNo     subNo   Urban hip   \n",
       "117  21.798879    Male   17495.712895     0   ownNo     subNo   Urban hip   \n",
       "125  24.706417    Male   16659.393411     0   ownNo    subYes   Urban hip   \n",
       "175  51.862592    Male  126722.193001     0  ownYes     subNo   Travelers   \n",
       "61   39.573336  Female   64802.766997     3  ownYes     subNo  Suburb mix   \n",
       "138  22.760903  Female   22080.931944     1   ownNo     subNo   Urban hip   \n",
       "199  67.633279    Male   68402.269802     0  ownYes     subNo   Travelers   \n",
       "\n",
       "        segIncome  \n",
       "186  60352.471426  \n",
       "249  49992.546912  \n",
       "130  20797.144176  \n",
       "102  20797.144176  \n",
       "117  20797.144176  \n",
       "125  20797.144176  \n",
       "175  60352.471426  \n",
       "61   56195.586138  \n",
       "138  20797.144176  \n",
       "199  60352.471426  "
      ]
     },
     "execution_count": 4,
     "metadata": {},
     "output_type": "execute_result"
    }
   ],
   "source": [
    "#Check dataset\n",
    "seg_df.sample(10)"
   ]
  },
  {
   "cell_type": "markdown",
   "metadata": {},
   "source": [
    "## STEP 3: Testing Group Frequencies: chi square test"
   ]
  },
  {
   "cell_type": "markdown",
   "metadata": {},
   "source": [
    "<font color=blue>**The Maths behind it**</font>: **Chi-Square Test of Independence**\n",
    "<br>The Chi-Square test of independence tests whether or not dristributions of categorical variables differ from each other. The question of interest is \"Are the two variables independent?\". <br>We have the following null and alternative hypothesis for this test.\n",
    "$$H_{0}: The\\,two\\,categorical\\,variables\\,are\\,independent$$\n",
    "$$H_{a}:The\\,two\\,categorical\\,variables\\,are\\,dependent$$\n",
    "The ch-square test statistic is calculated by using the formula:\n",
    "$$\\chi^2=\\sum\\frac{(O-E)^2}{E},$$\n",
    "\n",
    "where O is the observed frequency and E is the expected frequency under the null hypothesis.\n",
    "\n",
    "$$E=\\frac{row\\,total\\times column\\,total}{sample\\,size}$$\n",
    "<br>*To go further*: https://newonlinecourses.science.psu.edu/statprogram/node/158/ or http://www.statisticshowto.com/probability-and-statistics/chi-square/ or http://www.statisticssolutions.com/non-parametric-analysis-chi-square/"
   ]
  },
  {
   "cell_type": "markdown",
   "metadata": {},
   "source": [
    "#### Is there an equal number of respondents in each segment given N=300 observations?\n",
    "$H_{0}:$ There is no difference in segment sizes"
   ]
  },
  {
   "cell_type": "markdown",
   "metadata": {},
   "source": [
    "<font color=red>R code</font>: *Chi-Square test*\n",
    "<br>$chisq.test(table(seg{\\_}df\\$segment))$"
   ]
  },
  {
   "cell_type": "code",
   "execution_count": 5,
   "metadata": {},
   "outputs": [
    {
     "name": "stdout",
     "output_type": "stream",
     "text": [
      "Test statistic: 17.3333333333\n",
      "pvalue: 0.000603494834473\n"
     ]
    }
   ],
   "source": [
    "#Python code\n",
    "np.random.seed(10)\n",
    "import scipy.stats\n",
    "chi2, p = scipy.stats.chisquare(seg_df[\"Segment\"].value_counts())\n",
    "print(\"Test statistic: {}\\npvalue: {}\".format(chi2, p))"
   ]
  },
  {
   "cell_type": "markdown",
   "metadata": {},
   "source": [
    "<font color=orange>**Let's do some interpretation**</font>:\n",
    "<br>The p-value is smaller than 5%, hence we can reject the null hypothesis and say that our sample does notsupport the hypotheis that there is an identical number of customers in each segment."
   ]
  },
  {
   "cell_type": "markdown",
   "metadata": {},
   "source": [
    "#### Is subscription status independent from home ownership?\n",
    "$H_{0}:$ the factors are independent"
   ]
  },
  {
   "cell_type": "markdown",
   "metadata": {},
   "source": [
    "<font color=red>R code</font>: *Chi-Square test*\n",
    "<br>$chisq.test(table(seg{\\_}df\\$subscribe,\\,seg{\\_}df\\$ownHome))$"
   ]
  },
  {
   "cell_type": "code",
   "execution_count": 7,
   "metadata": {},
   "outputs": [
    {
     "name": "stdout",
     "output_type": "stream",
     "text": [
      "Test statistic: 2.65810452984\n",
      "p-value: 0.10302343824\n",
      "Degrees of Freedom: 1\n",
      "[[124.08 139.92]\n",
      " [ 16.92  19.08]]\n"
     ]
    }
   ],
   "source": [
    "#Python code\n",
    "#STEP 1: create the crosstab\n",
    "cont = pd.crosstab(seg_df[\"subscribe\"], seg_df[\"ownHome\"])\n",
    "#STEP 2: Apply the chi square test\n",
    "chi2, p, ddof, expected=scipy.stats.chi2_contingency(cont) #automatically use the Yates' correction for continuity\n",
    "print(\"Test statistic: {}\\np-value: {}\\nDegrees of Freedom: {}\".format(chi2, p, ddof))\n",
    "print(expected)"
   ]
  },
  {
   "cell_type": "markdown",
   "metadata": {},
   "source": [
    "<font color=orange>**Let's do some interpretation**</font>:\n",
    "<br>P-value is greater than 5%, hence we do not have enough evidence to reject the null hypothesis."
   ]
  },
  {
   "cell_type": "markdown",
   "metadata": {},
   "source": [
    "<font color=green>**Cracking the code**</font>: **scipy.stats.chi2_contingency**\n",
    "<br>Chi-square test of independence of variables in a contingency table.\n",
    "<br>**Syntax**: $scipy.stats.chi2{\\_}contingency(observed)$\n",
    "<br>**Reference**: https://docs.scipy.org/doc/scipy-0.15.1/reference/generated/scipy.stats.chi2_contingency.html"
   ]
  },
  {
   "cell_type": "markdown",
   "metadata": {},
   "source": [
    "## STEP 4: Testing Group Means: t test"
   ]
  },
  {
   "cell_type": "markdown",
   "metadata": {},
   "source": [
    "<font color=blue>**The Maths behind it**</font>: **T-test**\n",
    "<br>A t-test compares the mean of one sample against the mean of another sample (or against as specific value such as 0) and tells if they are different from each other. <br>They are three main types of t-test:\n",
    "- *Independent Samples t-test*: compares the mean for two groups.\n",
    "- *Paired sample t-test*: compares means from the same group at different times (e.g. 1 year apart)\n",
    "- *One sample t-test*: tests the mean of a single group against a defined value (e.g. against 0)\n",
    "\n",
    "We have the following null and alternative hypothesis for this test.\n",
    "$$H_{0}: The\\,means\\,of\\,the\\,two\\,groups\\,are\\,not\\,different$$\n",
    "$$H_{a}: The\\,means\\,of\\,the\\,two\\,groups\\,are\\,different$$\n",
    "\n",
    "*To go further*: https://onlinecourses.science.psu.edu/stat414/node/310/ and https://onlinecourses.science.psu.edu/stat414/node/271/ or http://www.statisticshowto.com/probability-and-statistics/t-test/"
   ]
  },
  {
   "cell_type": "markdown",
   "metadata": {},
   "source": [
    "#### Check for skew, discontinuities, outliers"
   ]
  },
  {
   "cell_type": "markdown",
   "metadata": {},
   "source": [
    "<font color=red>R code</font>: *Check for non-normal distributions*\n",
    "<br>$hist(seg{\\_}df\\$income)$\n",
    "<br>$with(seg{\\_}df,\\,hist(income[ownHome==``ownYes``]))$\n",
    "<br>$with(seg{\\_}df,\\,hist(income[ownHome==``ownNo``]))$"
   ]
  },
  {
   "cell_type": "code",
   "execution_count": 8,
   "metadata": {},
   "outputs": [
    {
     "data": {
      "text/plain": [
       "<matplotlib.axes._subplots.AxesSubplot at 0x14057ba8>"
      ]
     },
     "execution_count": 8,
     "metadata": {},
     "output_type": "execute_result"
    },
    {
     "data": {
      "image/png": "[encoded data removed]",
      "text/plain": [
       "<matplotlib.figure.Figure at 0x140579b0>"
      ]
     },
     "metadata": {},
     "output_type": "display_data"
    }
   ],
   "source": [
    "#Python code\n",
    "sns.distplot(seg_df[\"income\"])"
   ]
  },
  {
   "cell_type": "code",
   "execution_count": 9,
   "metadata": {},
   "outputs": [
    {
     "data": {
      "text/plain": [
       "<seaborn.axisgrid.FacetGrid at 0x141e3e48>"
      ]
     },
     "execution_count": 9,
     "metadata": {},
     "output_type": "execute_result"
    },
    {
     "data": {
      "image/png": "[encoded data removed]",
      "text/plain": [
       "<matplotlib.figure.Figure at 0x141166d8>"
      ]
     },
     "metadata": {},
     "output_type": "display_data"
    }
   ],
   "source": [
    "#Check by ownHome \n",
    "grid=sns.FacetGrid(seg_df,\n",
    "                   row='ownHome',\n",
    "                   margin_titles=True)\n",
    "grid.map(plt.hist, \"income\")"
   ]
  },
  {
   "cell_type": "markdown",
   "metadata": {},
   "source": [
    "#### T-test: is Home ownership overall related to differences in income across all segments?\n",
    "$H_{0}:$ the means of income between $ownHome == 0$ and $ownHome == 1$ are the same."
   ]
  },
  {
   "cell_type": "markdown",
   "metadata": {},
   "source": [
    "<font color=red>R code</font>: *Perform T-test*\n",
    "<br>$t.test(income \\sim ownHome,\\,data=seg{\\_}df)$"
   ]
  },
  {
   "cell_type": "code",
   "execution_count": 12,
   "metadata": {},
   "outputs": [
    {
     "data": {
      "text/plain": [
       "Ttest_indResult(statistic=4.491671542309504, pvalue=1.0231418517244394e-05)"
      ]
     },
     "execution_count": 12,
     "metadata": {},
     "output_type": "execute_result"
    }
   ],
   "source": [
    "#Python code\n",
    "ownHomeY=seg_df[seg_df[\"ownHome\"]==\"ownYes\"]\n",
    "ownHomeN=seg_df[seg_df[\"ownHome\"]==\"ownNo\"]\n",
    "scipy.stats.ttest_ind(ownHomeY[\"income\"],\n",
    "                      ownHomeN[\"income\"],\n",
    "                      equal_var=False)"
   ]
  },
  {
   "cell_type": "markdown",
   "metadata": {},
   "source": [
    "<font color=orange>**Let's do some interpretation**</font>:\n",
    "<br>P-value << 5%, we can reject the null hypothesis of no difference in income by Home ownership. "
   ]
  },
  {
   "cell_type": "code",
   "execution_count": 13,
   "metadata": {},
   "outputs": [
    {
     "data": {
      "text/plain": [
       "Ttest_indResult(statistic=-1.1712414149227623, pvalue=0.2463145733291851)"
      ]
     },
     "execution_count": 13,
     "metadata": {},
     "output_type": "execute_result"
    }
   ],
   "source": [
    "#Check for differences within the segment travelers\n",
    "scipy.stats.ttest_ind(ownHomeY[ownHomeY[\"Segment\"]==\"Travelers\"][\"income\"],\n",
    "                      ownHomeN[ownHomeN[\"Segment\"]==\"Travelers\"][\"income\"],\n",
    "                      equal_var=False)"
   ]
  },
  {
   "cell_type": "markdown",
   "metadata": {},
   "source": [
    "<font color=orange>**Let's do some interpretation**</font>:\n",
    "<br>P-value >> 5%, hence we cannot reject the null hypothesis, there is not significant difference in our data in mean income among those Travelers who own homes and who don't."
   ]
  },
  {
   "cell_type": "markdown",
   "metadata": {},
   "source": [
    "<font color=green>**Cracking the code**</font>: **scipy.stats.ttest_ind**\n",
    "<br>Calculate the T-test for the means of two independent samples of scores.\n",
    "<br>**Syntax**: $scipy.stats.ttest{\\_}ind(a,b)$\n",
    "<br>**Reference**: https://docs.scipy.org/doc/scipy/reference/generated/scipy.stats.ttest_ind.html"
   ]
  },
  {
   "cell_type": "markdown",
   "metadata": {},
   "source": [
    "## STEP 5: Testing Multiple Group Means: ANOVA"
   ]
  },
  {
   "cell_type": "markdown",
   "metadata": {},
   "source": [
    "<font color=blue>**The Maths behind it**</font>: **ANOVA test**\n",
    "<br>An ANOVA compares the means of multiple groups. Basically, it tests groups to check whether or not there are significant differences between them.\n",
    "<br>Several types of ANOVA:\n",
    "- One-way ANOVA: one factor (e.g. smoking status). Extension of t-test to 3 or more samples\n",
    "- Two-way ANOVA: two factors (e.g. gender and smoking status)\n",
    "- Three-way (higher factor) ANOVA: three or more factors (e.g. gender, smoking status, beer consumption)\n",
    "\n",
    "We have the following null and alternative hypothesis for this test.\n",
    "$$H_{0}: The\\,means\\,of\\,all\\,the\\,groups\\,are\\,equa\\,(no\\,difference)$$\n",
    "$$H_{a}: The\\,mean\\,of\\,at\\,least\\,one\\,group\\,is\\,different$$\n",
    "\n",
    "*To go further*: http://www-hsc.usc.edu/~eckel/biostat2/notes/notes7.pdf or http://www.statisticshowto.com/probability-and-statistics/hypothesis-testing/anova/"
   ]
  },
  {
   "cell_type": "markdown",
   "metadata": {},
   "source": [
    "<font color=red>R code</font>: *ANOVA*\n",
    "<br>$seg{\\_}aov{\\_own}<-aov(income \\sim ownHome,\\,data=seg{\\_}df)$\n",
    "<br>$anova(seg{\\_}aov{\\_own})$"
   ]
  },
  {
   "cell_type": "code",
   "execution_count": 15,
   "metadata": {},
   "outputs": [],
   "source": [
    "#Python code\n",
    "#Step 1: define the model\n",
    "mod=ols('income ~ ownHome',\n",
    "        data=seg_df).fit()"
   ]
  },
  {
   "cell_type": "code",
   "execution_count": 16,
   "metadata": {},
   "outputs": [
    {
     "name": "stdout",
     "output_type": "stream",
     "text": [
      "                sum_sq     df          F    PR(>F)\n",
      "ownHome   7.162816e+09    1.0  20.320463  0.000009\n",
      "Residual  1.050428e+11  298.0        NaN       NaN\n"
     ]
    }
   ],
   "source": [
    "#Step 2 : Compute anova\n",
    "aov_table=sm.stats.anova_lm(mod, typ=2)\n",
    "print(aov_table)"
   ]
  },
  {
   "cell_type": "markdown",
   "metadata": {},
   "source": [
    "<font color=orange>**Let's do some interpretation**</font>:\n",
    "<br>$Pr(>F)$ for *ownHome* is the p-value. In this case, $Pr(>F)<<$5%, hence there is significant variation in income between those who do and those who don't own an home."
   ]
  },
  {
   "cell_type": "markdown",
   "metadata": {},
   "source": [
    "<font color=green>**Cracking the code**</font>: **statsmodels.formula.api.ols**\n",
    "<br>Fit an OLS model.\n",
    "<br>**Syntax**: $statsmodels.formula.api.ols(formula, data)$\n",
    "<br>**Reference**: http://www.statsmodels.org/dev/example_formulas.html"
   ]
  },
  {
   "cell_type": "markdown",
   "metadata": {},
   "source": [
    "<font color=green>**Cracking the code**</font>: **statsmodels.stats.anova_lm**\n",
    "<br>ANOVA table for one or more fitted linear models.\n",
    "<br>**Syntax**: $statsmodels.stats.anova{\\_}lm(fitted{\\_}linear{\\_}model)$\n",
    "<br>**Reference**: http://www.statsmodels.org/dev/generated/statsmodels.stats.anova.anova_lm.html "
   ]
  },
  {
   "cell_type": "code",
   "execution_count": 17,
   "metadata": {},
   "outputs": [
    {
     "name": "stdout",
     "output_type": "stream",
     "text": [
      "                sum_sq     df          F        PR(>F)\n",
      "Segment   4.794625e+10    3.0  82.574339  8.276268e-39\n",
      "ownHome   5.685289e+07    1.0   0.293741  5.882424e-01\n",
      "Residual  5.709660e+10  295.0        NaN           NaN\n"
     ]
    }
   ],
   "source": [
    "#What happens when selecting both Segment and ownHome?\n",
    "#Define the model\n",
    "mod1=ols('income ~ Segment + ownHome',\n",
    "        data=seg_df).fit()\n",
    "#Compute anova\n",
    "aov_table1=sm.stats.anova_lm(mod1, typ=2)\n",
    "print(aov_table1)"
   ]
  },
  {
   "cell_type": "markdown",
   "metadata": {},
   "source": [
    "<font color=orange>**Let's do some interpretation**</font>:\n",
    "<br>$Pr(>F)$ for *Segment* is <<5%, hence it is a significant predictor. However, $Pr(>F)$ for *ownHome* is >>5%, hence home ownership is not a significant predictor. In fact, home ownership and segment are not independent, and the effect is captured sufficiently by segment membership alone. Is it possible that Home ownership is related to income in some segments and not in others? To test this, we need to integrate *interaction effects*"
   ]
  },
  {
   "cell_type": "code",
   "execution_count": 18,
   "metadata": {},
   "outputs": [
    {
     "name": "stdout",
     "output_type": "stream",
     "text": [
      "                       sum_sq     df          F        PR(>F)\n",
      "Segment          4.794625e+10    3.0  82.186182  1.424678e-38\n",
      "ownHome          5.685289e+07    1.0   0.292360  5.891243e-01\n",
      "Segment:ownHome  3.137242e+08    3.0   0.537765  6.567618e-01\n",
      "Residual         5.678288e+10  292.0        NaN           NaN\n"
     ]
    }
   ],
   "source": [
    "#Python code: interaction effect between segment and ownHome\n",
    "mod2=ols('income ~ Segment * ownHome',\n",
    "        data=seg_df).fit()\n",
    "#Compute anova\n",
    "aov_table2=sm.stats.anova_lm(mod2, typ=2)\n",
    "print(aov_table2) "
   ]
  },
  {
   "cell_type": "markdown",
   "metadata": {},
   "source": [
    "<font color=orange>**Let's do some interpretation**</font>:\n",
    "<br>Once again segment is a significant predictor while ownHome and the interaction parameters are not significant. Segment membership is the best predictor on its own."
   ]
  },
  {
   "cell_type": "markdown",
   "metadata": {},
   "source": [
    "#### Visualizing Group Confidence Intervals"
   ]
  },
  {
   "cell_type": "markdown",
   "metadata": {},
   "source": [
    "<font color=red>R code</font>: *Group Confidence Interval*\n",
    "<br>$seg{\\_}aov<-aov(income \\sim -1 + Segment,\\,data=seg{\\_}df)$\n",
    "<br>$glht(seg{\\_}aov)$"
   ]
  },
  {
   "cell_type": "code",
   "execution_count": 20,
   "metadata": {},
   "outputs": [
    {
     "name": "stdout",
     "output_type": "stream",
     "text": [
      "       Multiple Comparison of Means - Tukey HSD,FWER=0.05       \n",
      "================================================================\n",
      "  group1     group2     meandiff     lower       upper    reject\n",
      "----------------------------------------------------------------\n",
      "Moving up  Suburb mix  6203.0392    607.9511   11798.1273  True \n",
      "Moving up  Travelers   10359.9245  4483.9067   16235.9424  True \n",
      "Moving up  Urban hip  -29195.4027  -35843.358 -22547.4474  True \n",
      "Suburb mix Travelers   4156.8853   -1228.574   9542.3446  False \n",
      "Suburb mix Urban hip   -35398.442 -41617.0347 -29179.8492  True \n",
      "Travelers  Urban hip  -39555.3273 -46027.8438 -33082.8107  True \n",
      "----------------------------------------------------------------\n"
     ]
    },
    {
     "data": {
      "image/png": "[encoded data removed]",
      "text/plain": [
       "<matplotlib.figure.Figure at 0x1740f2b0>"
      ]
     },
     "metadata": {},
     "output_type": "display_data"
    }
   ],
   "source": [
    "#Python plot\n",
    "#Visualizing group confidence intervals\n",
    "from statsmodels.stats.multicomp import pairwise_tukeyhsd\n",
    "tukey = pairwise_tukeyhsd(endog=seg_df[\"income\"],     # Data\n",
    "                          groups=seg_df[\"Segment\"],   # Groups\n",
    "                          alpha=0.05)          # Significance level\n",
    "\n",
    "tukey.plot_simultaneous()    # Plot group confidence intervals\n",
    "print(tukey.summary())       # See test summary"
   ]
  },
  {
   "cell_type": "markdown",
   "metadata": {},
   "source": [
    "<font color=green>**Cracking the code**</font>: **statsmodels.stats.multicomp.pairwise_tukeyhsd**\n",
    "<br>Caclulate all pairwise comparisons with TukeyHSD confidence intervals.\n",
    "<br>**Syntax**: $statsmodels.stats.multicomp.pairwise{\\_}tukeyhsd(endog=data,\\,groups=groups,\\,alpha=confidence{\\_}interval)$\n",
    "<br>**Reference**: http://www.statsmodels.org/dev/generated/statsmodels.stats.multicomp.pairwise_tukeyhsd.html"
   ]
  }
 ],
 "metadata": {
  "kernelspec": {
   "display_name": "Python 2",
   "language": "python",
   "name": "python2"
  },
  "language_info": {
   "codemirror_mode": {
    "name": "ipython",
    "version": 2
   },
   "file_extension": ".py",
   "mimetype": "text/x-python",
   "name": "python",
   "nbconvert_exporter": "python",
   "pygments_lexer": "ipython2",
   "version": "2.7.15"
  }
 },
 "nbformat": 4,
 "nbformat_minor": 2
}
