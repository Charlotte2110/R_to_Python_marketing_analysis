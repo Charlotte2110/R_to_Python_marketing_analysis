{
 "cells": [
  {
   "cell_type": "markdown",
   "metadata": {},
   "source": [
    "<h1><center> R to Python<br><br>Marketing Research and Analytics<br><br>CHAPTER 5: Comparing Groups: Tables and Visualizations</center></h1>"
   ]
  },
  {
   "cell_type": "markdown",
   "metadata": {},
   "source": [
    "This tutorial aims at providing the python code for the book *R for Marketing Research and Analytics* (Chapman, Christopher N., McDonnell Feit, Elea). We will follow the chapters of the book and provide a Python version of the R code presented in the book.\n",
    "<br>In this tutorial, we tackle chapter 5 of the book. Please look at the other tutorials for other chapters."
   ]
  },
  {
   "cell_type": "markdown",
   "metadata": {},
   "source": [
    "## STEP 1: Importing the required libraries"
   ]
  },
  {
   "cell_type": "code",
   "execution_count": 2,
   "metadata": {},
   "outputs": [],
   "source": [
    "#Libraries for data analysis and wrangling\n",
    "import pandas as pd\n",
    "import numpy as np\n",
    "import random as rnd\n",
    "import datetime\n",
    "from datetime import date\n",
    "from dateutil.relativedelta import relativedelta\n",
    "import calendar\n",
    "from sklearn.feature_selection import chi2\n",
    "from io import StringIO\n",
    "import scipy as sp\n",
    "from scipy import stats\n",
    "import astropy\n",
    "from astropy import stats\n",
    "from statsmodels.distributions.empirical_distribution import ECDF\n",
    "#Libraries for data visualization\n",
    "import seaborn as sns\n",
    "import matplotlib.pyplot as plt\n",
    "#Below code allows for the graphs to be plotted directly under the coding cell\n",
    "%matplotlib inline \n",
    "from matplotlib.pylab import rcParams\n",
    "rcParams['figure.figsize'] = 11, 7"
   ]
  },
  {
   "cell_type": "markdown",
   "metadata": {},
   "source": [
    "## STEP 2: Creating the dataset for consumer segment data\n",
    "<br>**Description of the dataset**:\n",
    "Data are collected from N=300 respondents on *age*, *gender*, *income*, *number of children*, whether or not they *own or rent* their homes, whether or not they currently *subscribe* to the offered service or not. \n",
    "<br>In this data, each respondent has been assigned to one of four consumer segments:\n",
    "1) Suburb Mix\n",
    "2) Urban Mix\n",
    "3) Travelers\n",
    "4) Moving up\n",
    "<br><br>**Description of the variables**:\n",
    "- *age*: age of the respondent.\n",
    "- *gender*: male or female.\n",
    "- *income*: income of the respondent.\n",
    "- *kids*: number of kids of the respondent.\n",
    "- *ownHome*: whether the respondent own or rent his home.\n",
    "- *subscribe*: whether the respondent currently subscribe to the offered service.\n",
    "- *Segment*: segment to which the respondent belongs."
   ]
  },
  {
   "cell_type": "code",
   "execution_count": 3,
   "metadata": {},
   "outputs": [],
   "source": [
    "#Create an empty dataframe that we will fill afterwards\n",
    "columns_names=[\"age\", \"gender\", \"income\", \"kids\",\"ownHome\", \"subscribe\", \"Segment\"]\n",
    "columns_names_1=[\"age\", \"gender\", \"income\", \"kids\",\"ownHome\", \"subscribe\"]\n",
    "seg_df=pd.DataFrame(columns=columns_names)"
   ]
  },
  {
   "cell_type": "code",
   "execution_count": 4,
   "metadata": {},
   "outputs": [],
   "source": [
    "#Creating the segments: \"Suburb mix\", \"Urban hip\", \"Travelers\", \"Moving up\"\n",
    "segVars=[\"age\", \"gender\", \"income\", \"kids\",\"ownHome\", \"subscribe\"]\n",
    "segVarType=[\"norm\", \"binom\", \"norm\", \"pois\", \"binom\", \"binom\" ]\n",
    "segNames=[\"Suburb mix\", \"Urban hip\", \"Travelers\", \"Moving up\"]\n",
    "segsize=[100, 50, 80, 70]"
   ]
  },
  {
   "cell_type": "code",
   "execution_count": 5,
   "metadata": {},
   "outputs": [],
   "source": [
    "#Create the means of each variable by segment\n",
    "segMeans=np.array([[40, 0.5, 55000, 2, 0.5, 0.1], \n",
    "                   [24, 0.7, 21000, 1, 0.2, 0.2], \n",
    "                   [58, 0.5, 64000, 0, 0.7, 0.05], \n",
    "                   [36, 0.3, 52000, 2, 0.3, 0.2]])"
   ]
  },
  {
   "cell_type": "code",
   "execution_count": 6,
   "metadata": {},
   "outputs": [],
   "source": [
    "#Create the standard deviation of each variable by segment\n",
    "segSDs=np.array([[5, np.nan, 12000, np.nan, np.nan, np.nan],\n",
    "                 [2, np.nan, 5000, np.nan, np.nan, np.nan],\n",
    "                 [8, np.nan, 21000, np.nan, np.nan, np.nan],\n",
    "                 [4, np.nan, 10000, np.nan, np.nan, np.nan]])"
   ]
  },
  {
   "cell_type": "code",
   "execution_count": 7,
   "metadata": {},
   "outputs": [],
   "source": [
    "#Final Segment data generation\n",
    "rnd.seed(12)"
   ]
  },
  {
   "cell_type": "code",
   "execution_count": 8,
   "metadata": {},
   "outputs": [
    {
     "name": "stdout",
     "output_type": "stream",
     "text": [
      "1 Suburb mix\n",
      "2 Urban hip\n",
      "3 Travelers\n",
      "4 Moving up\n"
     ]
    }
   ],
   "source": [
    "#Iterate over segments and create data for each\n",
    "#Print number and segment name\n",
    "for i in range(0, len(segNames)):\n",
    "    print(\"{} {}\".format(i+1, segNames[i]))\n",
    "    #Create an empty matrix to hold this particular segment data\n",
    "    this_seg=pd.DataFrame(columns=columns_names_1)\n",
    "    #Within each segment, iterate over variables and draw appropriate random data\n",
    "    for j in range(0, len(segVars)):\n",
    "        #Iterate over each variable type\n",
    "        if segVarType[j]==\"norm\": #Draw normal random variable\n",
    "            this_seg.iloc[:,j]=np.random.normal(segMeans[i,j], segSDs[i,j], segsize[i])\n",
    "        elif segVarType[j]==\"pois\":#Draw counts\n",
    "            this_seg.iloc[:,j]=np.random.poisson(lam=segMeans[i,j], size=segsize[i])\n",
    "        elif segVarType[j]==\"binom\": #Draw binomials\n",
    "            this_seg.iloc[:,j]=np.random.binomial(1, segMeans[i,j], segsize[i])\n",
    "        else:\n",
    "            print(\"Bad segment data type: {}\".format(segVarType[j]))\n",
    "            break\n",
    "    this_seg[\"Segment\"]=segNames[i]\n",
    "    frames=[seg_df, this_seg]\n",
    "    seg_df=pd.concat(frames)"
   ]
  },
  {
   "cell_type": "code",
   "execution_count": 9,
   "metadata": {},
   "outputs": [
    {
     "data": {
      "text/plain": [
       "age          float64\n",
       "gender        object\n",
       "income       float64\n",
       "kids          object\n",
       "ownHome       object\n",
       "subscribe     object\n",
       "Segment       object\n",
       "dtype: object"
      ]
     },
     "execution_count": 9,
     "metadata": {},
     "output_type": "execute_result"
    }
   ],
   "source": [
    "#Checking types of variables of seg_df dataframe\n",
    "seg_df.dtypes    "
   ]
  },
  {
   "cell_type": "code",
   "execution_count": null,
   "metadata": {},
   "outputs": [],
   "source": [
    "#Replace numbers by labels for categorical variables"
   ]
  },
  {
   "cell_type": "markdown",
   "metadata": {},
   "source": [
    "<font color=red>R code</font>: *Converting variables to categorical: factor()*\n",
    "<br>$factor(seg{\\_}df\\$ownHome,\\,labels=c(\"ownNo\", \"ownYes\"))$"
   ]
  },
  {
   "cell_type": "code",
   "execution_count": 10,
   "metadata": {},
   "outputs": [],
   "source": [
    "#Python code: you need two steps as there does not exist a function like factor() in R.\n",
    "#Put labels instead of numbers for categorical variables\n",
    "seg_df[\"gender\"]=seg_df[\"gender\"].replace({0: \"Female\", 1:\"Male\"})\n",
    "seg_df[\"ownHome\"]=seg_df[\"ownHome\"].replace({0:\"ownNo\", 1:\"ownYes\"})\n",
    "seg_df[\"subscribe\"]=seg_df[\"subscribe\"].replace({0:\"subNo\",1:\"subYes\"})\n",
    "#Changing data types to categorical\n",
    "seg_df[\"gender\"]=seg_df[\"gender\"].astype('category')\n",
    "seg_df[\"ownHome\"]=seg_df[\"ownHome\"].astype('category')\n",
    "seg_df[\"subscribe\"]=seg_df[\"subscribe\"].astype('category')"
   ]
  },
  {
   "cell_type": "code",
   "execution_count": 11,
   "metadata": {},
   "outputs": [
    {
     "data": {
      "text/html": [
       "<div>\n",
       "<style>\n",
       "    .dataframe thead tr:only-child th {\n",
       "        text-align: right;\n",
       "    }\n",
       "\n",
       "    .dataframe thead th {\n",
       "        text-align: left;\n",
       "    }\n",
       "\n",
       "    .dataframe tbody tr th {\n",
       "        vertical-align: top;\n",
       "    }\n",
       "</style>\n",
       "<table border=\"1\" class=\"dataframe\">\n",
       "  <thead>\n",
       "    <tr style=\"text-align: right;\">\n",
       "      <th></th>\n",
       "      <th>age</th>\n",
       "      <th>income</th>\n",
       "    </tr>\n",
       "  </thead>\n",
       "  <tbody>\n",
       "    <tr>\n",
       "      <th>count</th>\n",
       "      <td>300.000000</td>\n",
       "      <td>300.000000</td>\n",
       "    </tr>\n",
       "    <tr>\n",
       "      <th>mean</th>\n",
       "      <td>41.328720</td>\n",
       "      <td>49956.972735</td>\n",
       "    </tr>\n",
       "    <tr>\n",
       "      <th>std</th>\n",
       "      <td>13.294275</td>\n",
       "      <td>19371.881238</td>\n",
       "    </tr>\n",
       "    <tr>\n",
       "      <th>min</th>\n",
       "      <td>19.626641</td>\n",
       "      <td>13901.458840</td>\n",
       "    </tr>\n",
       "    <tr>\n",
       "      <th>25%</th>\n",
       "      <td>32.674609</td>\n",
       "      <td>38977.185851</td>\n",
       "    </tr>\n",
       "    <tr>\n",
       "      <th>50%</th>\n",
       "      <td>38.891085</td>\n",
       "      <td>50365.367962</td>\n",
       "    </tr>\n",
       "    <tr>\n",
       "      <th>75%</th>\n",
       "      <td>48.798944</td>\n",
       "      <td>62430.667260</td>\n",
       "    </tr>\n",
       "    <tr>\n",
       "      <th>max</th>\n",
       "      <td>79.142541</td>\n",
       "      <td>126722.193001</td>\n",
       "    </tr>\n",
       "  </tbody>\n",
       "</table>\n",
       "</div>"
      ],
      "text/plain": [
       "              age         income\n",
       "count  300.000000     300.000000\n",
       "mean    41.328720   49956.972735\n",
       "std     13.294275   19371.881238\n",
       "min     19.626641   13901.458840\n",
       "25%     32.674609   38977.185851\n",
       "50%     38.891085   50365.367962\n",
       "75%     48.798944   62430.667260\n",
       "max     79.142541  126722.193001"
      ]
     },
     "execution_count": 11,
     "metadata": {},
     "output_type": "execute_result"
    }
   ],
   "source": [
    "#Summarize the dataset\n",
    "seg_df.describe()"
   ]
  },
  {
   "cell_type": "code",
   "execution_count": 57,
   "metadata": {},
   "outputs": [],
   "source": [
    "#Export the dataset as csv for later use in subsequent chapters\n",
    "seg_df.to_csv('C:/Users/cdague/Documents/02_Data_science_WORK/01_Data_tutorials/02_Marketing_R_to_Python/seg_df.csv',\n",
    "              index=False)"
   ]
  },
  {
   "cell_type": "markdown",
   "metadata": {},
   "source": [
    "### Finding Descriptives by Group"
   ]
  },
  {
   "cell_type": "markdown",
   "metadata": {},
   "source": [
    "<font color=red>R code</font>: *Data Frame indexing*\n",
    "<br>$mean(seg{\\_}df\\$income[\\,seg{\\_}df\\$Segment == ``Moving\\,up``]\\,)$\n",
    "<br>$by(seg{\\_}df\\$income,\\,seg{\\_}df\\$Segment, \\,mean)$"
   ]
  },
  {
   "cell_type": "code",
   "execution_count": 13,
   "metadata": {},
   "outputs": [
    {
     "data": {
      "text/plain": [
       "Segment\n",
       "False    49946.145812\n",
       "True     49992.546912\n",
       "Name: income, dtype: float64"
      ]
     },
     "execution_count": 13,
     "metadata": {},
     "output_type": "execute_result"
    }
   ],
   "source": [
    "#Python code\n",
    "seg_df[\"income\"].groupby(seg_df[\"Segment\"]==\"Moving up\").mean()"
   ]
  },
  {
   "cell_type": "code",
   "execution_count": 14,
   "metadata": {},
   "outputs": [
    {
     "data": {
      "text/plain": [
       "Segment\n",
       "Moving up    49992.546912\n",
       "Name: income, dtype: float64"
      ]
     },
     "execution_count": 14,
     "metadata": {},
     "output_type": "execute_result"
    }
   ],
   "source": [
    "seg_df[seg_df['Segment']=='Moving up'].groupby('Segment')['income'].mean()"
   ]
  },
  {
   "cell_type": "code",
   "execution_count": 16,
   "metadata": {},
   "outputs": [
    {
     "data": {
      "text/html": [
       "<div>\n",
       "<style>\n",
       "    .dataframe thead tr:only-child th {\n",
       "        text-align: right;\n",
       "    }\n",
       "\n",
       "    .dataframe thead th {\n",
       "        text-align: left;\n",
       "    }\n",
       "\n",
       "    .dataframe tbody tr th {\n",
       "        vertical-align: top;\n",
       "    }\n",
       "</style>\n",
       "<table border=\"1\" class=\"dataframe\">\n",
       "  <thead>\n",
       "    <tr style=\"text-align: right;\">\n",
       "      <th></th>\n",
       "      <th>income</th>\n",
       "    </tr>\n",
       "    <tr>\n",
       "      <th>Segment</th>\n",
       "      <th></th>\n",
       "    </tr>\n",
       "  </thead>\n",
       "  <tbody>\n",
       "    <tr>\n",
       "      <th>Moving up</th>\n",
       "      <td>49992.546912</td>\n",
       "    </tr>\n",
       "    <tr>\n",
       "      <th>Suburb mix</th>\n",
       "      <td>56195.586138</td>\n",
       "    </tr>\n",
       "    <tr>\n",
       "      <th>Travelers</th>\n",
       "      <td>60352.471426</td>\n",
       "    </tr>\n",
       "    <tr>\n",
       "      <th>Urban hip</th>\n",
       "      <td>20797.144176</td>\n",
       "    </tr>\n",
       "  </tbody>\n",
       "</table>\n",
       "</div>"
      ],
      "text/plain": [
       "                  income\n",
       "Segment                 \n",
       "Moving up   49992.546912\n",
       "Suburb mix  56195.586138\n",
       "Travelers   60352.471426\n",
       "Urban hip   20797.144176"
      ]
     },
     "execution_count": 16,
     "metadata": {},
     "output_type": "execute_result"
    }
   ],
   "source": [
    "seg_inc_mean=pd.DataFrame(seg_df.groupby('Segment')['income'].mean())\n",
    "seg_inc_mean"
   ]
  },
  {
   "cell_type": "code",
   "execution_count": 17,
   "metadata": {},
   "outputs": [],
   "source": [
    "#Add income mean by segment to dataframe"
   ]
  },
  {
   "cell_type": "markdown",
   "metadata": {},
   "source": [
    "<font color=red>R code</font>: *Add mean column to dataframe*\n",
    "<br>$seg{\\_}income{\\_}mean <- aggregate(seg{\\_}df$income, list(seg_df$Segment), mean)$\n",
    "<br>$seg{\\_}df\\$segIncome <-seg{\\_}income{\\_}mean[ \\,seg{\\_}df\\$Segment, 2]\\,$"
   ]
  },
  {
   "cell_type": "code",
   "execution_count": 20,
   "metadata": {},
   "outputs": [
    {
     "data": {
      "text/html": [
       "<div>\n",
       "<style>\n",
       "    .dataframe thead tr:only-child th {\n",
       "        text-align: right;\n",
       "    }\n",
       "\n",
       "    .dataframe thead th {\n",
       "        text-align: left;\n",
       "    }\n",
       "\n",
       "    .dataframe tbody tr th {\n",
       "        vertical-align: top;\n",
       "    }\n",
       "</style>\n",
       "<table border=\"1\" class=\"dataframe\">\n",
       "  <thead>\n",
       "    <tr style=\"text-align: right;\">\n",
       "      <th></th>\n",
       "      <th>age</th>\n",
       "      <th>gender</th>\n",
       "      <th>income</th>\n",
       "      <th>kids</th>\n",
       "      <th>ownHome</th>\n",
       "      <th>subscribe</th>\n",
       "      <th>Segment</th>\n",
       "      <th>segIncome</th>\n",
       "    </tr>\n",
       "  </thead>\n",
       "  <tbody>\n",
       "    <tr>\n",
       "      <th>27</th>\n",
       "      <td>39.769571</td>\n",
       "      <td>Female</td>\n",
       "      <td>39211.382948</td>\n",
       "      <td>0</td>\n",
       "      <td>ownNo</td>\n",
       "      <td>subYes</td>\n",
       "      <td>Moving up</td>\n",
       "      <td>49992.546912</td>\n",
       "    </tr>\n",
       "    <tr>\n",
       "      <th>23</th>\n",
       "      <td>43.500168</td>\n",
       "      <td>Male</td>\n",
       "      <td>80510.783687</td>\n",
       "      <td>0</td>\n",
       "      <td>ownYes</td>\n",
       "      <td>subNo</td>\n",
       "      <td>Travelers</td>\n",
       "      <td>60352.471426</td>\n",
       "    </tr>\n",
       "    <tr>\n",
       "      <th>22</th>\n",
       "      <td>25.816440</td>\n",
       "      <td>Female</td>\n",
       "      <td>18412.100738</td>\n",
       "      <td>1</td>\n",
       "      <td>ownNo</td>\n",
       "      <td>subNo</td>\n",
       "      <td>Urban hip</td>\n",
       "      <td>20797.144176</td>\n",
       "    </tr>\n",
       "    <tr>\n",
       "      <th>51</th>\n",
       "      <td>63.570698</td>\n",
       "      <td>Female</td>\n",
       "      <td>80575.811892</td>\n",
       "      <td>0</td>\n",
       "      <td>ownYes</td>\n",
       "      <td>subNo</td>\n",
       "      <td>Travelers</td>\n",
       "      <td>60352.471426</td>\n",
       "    </tr>\n",
       "    <tr>\n",
       "      <th>11</th>\n",
       "      <td>60.494289</td>\n",
       "      <td>Male</td>\n",
       "      <td>61544.306025</td>\n",
       "      <td>0</td>\n",
       "      <td>ownNo</td>\n",
       "      <td>subNo</td>\n",
       "      <td>Travelers</td>\n",
       "      <td>60352.471426</td>\n",
       "    </tr>\n",
       "  </tbody>\n",
       "</table>\n",
       "</div>"
      ],
      "text/plain": [
       "          age  gender        income kids ownHome subscribe    Segment  \\\n",
       "27  39.769571  Female  39211.382948    0   ownNo    subYes  Moving up   \n",
       "23  43.500168    Male  80510.783687    0  ownYes     subNo  Travelers   \n",
       "22  25.816440  Female  18412.100738    1   ownNo     subNo  Urban hip   \n",
       "51  63.570698  Female  80575.811892    0  ownYes     subNo  Travelers   \n",
       "11  60.494289    Male  61544.306025    0   ownNo     subNo  Travelers   \n",
       "\n",
       "       segIncome  \n",
       "27  49992.546912  \n",
       "23  60352.471426  \n",
       "22  20797.144176  \n",
       "51  60352.471426  \n",
       "11  60352.471426  "
      ]
     },
     "execution_count": 20,
     "metadata": {},
     "output_type": "execute_result"
    }
   ],
   "source": [
    "#Python code\n",
    "seg_df['segIncome']=seg_df.groupby('Segment')['income'].transform('mean')\n",
    "seg_df.sample(5)"
   ]
  },
  {
   "cell_type": "markdown",
   "metadata": {},
   "source": [
    "### Descriptives for Two-Way Groups"
   ]
  },
  {
   "cell_type": "markdown",
   "metadata": {},
   "source": [
    "<font color=red>R code</font>: *Aggregation and group by*\n",
    "<br>$aggregate(income\\sim Segment + ownHome,\\,data=seg{\\_}df,\\,mean)$"
   ]
  },
  {
   "cell_type": "code",
   "execution_count": 21,
   "metadata": {},
   "outputs": [
    {
     "data": {
      "text/html": [
       "<div>\n",
       "<style>\n",
       "    .dataframe thead tr:only-child th {\n",
       "        text-align: right;\n",
       "    }\n",
       "\n",
       "    .dataframe thead th {\n",
       "        text-align: left;\n",
       "    }\n",
       "\n",
       "    .dataframe tbody tr th {\n",
       "        vertical-align: top;\n",
       "    }\n",
       "</style>\n",
       "<table border=\"1\" class=\"dataframe\">\n",
       "  <thead>\n",
       "    <tr>\n",
       "      <th></th>\n",
       "      <th></th>\n",
       "      <th colspan=\"3\" halign=\"left\">income</th>\n",
       "    </tr>\n",
       "    <tr>\n",
       "      <th></th>\n",
       "      <th></th>\n",
       "      <th>mean</th>\n",
       "      <th>max</th>\n",
       "      <th>min</th>\n",
       "    </tr>\n",
       "    <tr>\n",
       "      <th>Segment</th>\n",
       "      <th>subscribe</th>\n",
       "      <th></th>\n",
       "      <th></th>\n",
       "      <th></th>\n",
       "    </tr>\n",
       "  </thead>\n",
       "  <tbody>\n",
       "    <tr>\n",
       "      <th rowspan=\"2\" valign=\"top\">Moving up</th>\n",
       "      <th>subNo</th>\n",
       "      <td>49638.446588</td>\n",
       "      <td>74545.906937</td>\n",
       "      <td>32504.260674</td>\n",
       "    </tr>\n",
       "    <tr>\n",
       "      <th>subYes</th>\n",
       "      <td>51096.506746</td>\n",
       "      <td>64907.037996</td>\n",
       "      <td>31244.512731</td>\n",
       "    </tr>\n",
       "    <tr>\n",
       "      <th rowspan=\"2\" valign=\"top\">Suburb mix</th>\n",
       "      <th>subNo</th>\n",
       "      <td>56166.185033</td>\n",
       "      <td>87741.752598</td>\n",
       "      <td>24337.569707</td>\n",
       "    </tr>\n",
       "    <tr>\n",
       "      <th>subYes</th>\n",
       "      <td>56754.207135</td>\n",
       "      <td>76708.935151</td>\n",
       "      <td>34926.880695</td>\n",
       "    </tr>\n",
       "    <tr>\n",
       "      <th rowspan=\"2\" valign=\"top\">Travelers</th>\n",
       "      <th>subNo</th>\n",
       "      <td>59977.157929</td>\n",
       "      <td>126722.193001</td>\n",
       "      <td>14335.347492</td>\n",
       "    </tr>\n",
       "    <tr>\n",
       "      <th>subYes</th>\n",
       "      <td>65982.173890</td>\n",
       "      <td>93352.507071</td>\n",
       "      <td>36115.561805</td>\n",
       "    </tr>\n",
       "    <tr>\n",
       "      <th rowspan=\"2\" valign=\"top\">Urban hip</th>\n",
       "      <th>subNo</th>\n",
       "      <td>20452.665675</td>\n",
       "      <td>30119.948308</td>\n",
       "      <td>14339.830207</td>\n",
       "    </tr>\n",
       "    <tr>\n",
       "      <th>subYes</th>\n",
       "      <td>22366.435124</td>\n",
       "      <td>31113.054056</td>\n",
       "      <td>13901.458840</td>\n",
       "    </tr>\n",
       "  </tbody>\n",
       "</table>\n",
       "</div>"
      ],
      "text/plain": [
       "                            income                             \n",
       "                              mean            max           min\n",
       "Segment    subscribe                                           \n",
       "Moving up  subNo      49638.446588   74545.906937  32504.260674\n",
       "           subYes     51096.506746   64907.037996  31244.512731\n",
       "Suburb mix subNo      56166.185033   87741.752598  24337.569707\n",
       "           subYes     56754.207135   76708.935151  34926.880695\n",
       "Travelers  subNo      59977.157929  126722.193001  14335.347492\n",
       "           subYes     65982.173890   93352.507071  36115.561805\n",
       "Urban hip  subNo      20452.665675   30119.948308  14339.830207\n",
       "           subYes     22366.435124   31113.054056  13901.458840"
      ]
     },
     "execution_count": 21,
     "metadata": {},
     "output_type": "execute_result"
    }
   ],
   "source": [
    "#Aggregate in Python\n",
    "seg_df.groupby([\"Segment\", \"subscribe\"]).agg({'income':[np.mean, max, min]})"
   ]
  },
  {
   "cell_type": "markdown",
   "metadata": {},
   "source": [
    "<font color=green>**Cracking the code**</font>: **$DataFrameGroupBy.agg$**\n",
    "<br>This function is used to aggregate the data. In the above example, we calculate the mean, the max and the min of income depending on two categories. \n",
    "<br>**Syntax**: $DataFrame.groupby('category').agg(function)$\n",
    "<br>**Reference**: http://pandas.pydata.org/pandas-docs/version/0.22/generated/pandas.core.groupby.DataFrameGroupBy.agg.html"
   ]
  },
  {
   "cell_type": "code",
   "execution_count": 22,
   "metadata": {},
   "outputs": [],
   "source": [
    "agg_data=seg_df.groupby([\"Segment\", \"subscribe\"], as_index=False).agg({'income':[np.mean]})"
   ]
  },
  {
   "cell_type": "code",
   "execution_count": 24,
   "metadata": {},
   "outputs": [
    {
     "data": {
      "text/html": [
       "<div>\n",
       "<style>\n",
       "    .dataframe thead tr:only-child th {\n",
       "        text-align: right;\n",
       "    }\n",
       "\n",
       "    .dataframe thead th {\n",
       "        text-align: left;\n",
       "    }\n",
       "\n",
       "    .dataframe tbody tr th {\n",
       "        vertical-align: top;\n",
       "    }\n",
       "</style>\n",
       "<table border=\"1\" class=\"dataframe\">\n",
       "  <thead>\n",
       "    <tr style=\"text-align: right;\">\n",
       "      <th></th>\n",
       "      <th>S e g m e n t</th>\n",
       "      <th>s u b s c r i b e</th>\n",
       "      <th>i n c o m e   m e a n</th>\n",
       "    </tr>\n",
       "  </thead>\n",
       "  <tbody>\n",
       "    <tr>\n",
       "      <th>0</th>\n",
       "      <td>Moving up</td>\n",
       "      <td>subNo</td>\n",
       "      <td>49638.446588</td>\n",
       "    </tr>\n",
       "    <tr>\n",
       "      <th>1</th>\n",
       "      <td>Moving up</td>\n",
       "      <td>subYes</td>\n",
       "      <td>51096.506746</td>\n",
       "    </tr>\n",
       "    <tr>\n",
       "      <th>2</th>\n",
       "      <td>Suburb mix</td>\n",
       "      <td>subNo</td>\n",
       "      <td>56166.185033</td>\n",
       "    </tr>\n",
       "    <tr>\n",
       "      <th>3</th>\n",
       "      <td>Suburb mix</td>\n",
       "      <td>subYes</td>\n",
       "      <td>56754.207135</td>\n",
       "    </tr>\n",
       "    <tr>\n",
       "      <th>4</th>\n",
       "      <td>Travelers</td>\n",
       "      <td>subNo</td>\n",
       "      <td>59977.157929</td>\n",
       "    </tr>\n",
       "  </tbody>\n",
       "</table>\n",
       "</div>"
      ],
      "text/plain": [
       "  S e g m e n t   s u b s c r i b e    i n c o m e   m e a n\n",
       "0       Moving up               subNo           49638.446588\n",
       "1       Moving up              subYes           51096.506746\n",
       "2      Suburb mix               subNo           56166.185033\n",
       "3      Suburb mix              subYes           56754.207135\n",
       "4       Travelers               subNo           59977.157929"
      ]
     },
     "execution_count": 24,
     "metadata": {},
     "output_type": "execute_result"
    }
   ],
   "source": [
    "#Rename the columns in an appropriate manner\n",
    "agg_data.columns = [\" \".join(x) for x in agg_data.columns.ravel()]\n",
    "agg_data.head()"
   ]
  },
  {
   "cell_type": "code",
   "execution_count": 26,
   "metadata": {},
   "outputs": [
    {
     "data": {
      "text/plain": [
       "Segment\n",
       "Moving up     49992.546912\n",
       "Suburb mix    56195.586138\n",
       "Travelers     60352.471426\n",
       "Urban hip     20797.144176\n",
       "Name: income, dtype: float64"
      ]
     },
     "execution_count": 26,
     "metadata": {},
     "output_type": "execute_result"
    }
   ],
   "source": [
    "#Produce series for output\n",
    "data_agg_series=seg_df.groupby(\"Segment\")['income'].mean()\n",
    "data_agg_series"
   ]
  },
  {
   "cell_type": "code",
   "execution_count": 27,
   "metadata": {},
   "outputs": [
    {
     "data": {
      "text/html": [
       "<div>\n",
       "<style>\n",
       "    .dataframe thead tr:only-child th {\n",
       "        text-align: right;\n",
       "    }\n",
       "\n",
       "    .dataframe thead th {\n",
       "        text-align: left;\n",
       "    }\n",
       "\n",
       "    .dataframe tbody tr th {\n",
       "        vertical-align: top;\n",
       "    }\n",
       "</style>\n",
       "<table border=\"1\" class=\"dataframe\">\n",
       "  <thead>\n",
       "    <tr style=\"text-align: right;\">\n",
       "      <th></th>\n",
       "      <th>Segment</th>\n",
       "      <th>income</th>\n",
       "    </tr>\n",
       "  </thead>\n",
       "  <tbody>\n",
       "    <tr>\n",
       "      <th>0</th>\n",
       "      <td>Moving up</td>\n",
       "      <td>49992.546912</td>\n",
       "    </tr>\n",
       "    <tr>\n",
       "      <th>1</th>\n",
       "      <td>Suburb mix</td>\n",
       "      <td>56195.586138</td>\n",
       "    </tr>\n",
       "    <tr>\n",
       "      <th>2</th>\n",
       "      <td>Travelers</td>\n",
       "      <td>60352.471426</td>\n",
       "    </tr>\n",
       "    <tr>\n",
       "      <th>3</th>\n",
       "      <td>Urban hip</td>\n",
       "      <td>20797.144176</td>\n",
       "    </tr>\n",
       "  </tbody>\n",
       "</table>\n",
       "</div>"
      ],
      "text/plain": [
       "      Segment        income\n",
       "0   Moving up  49992.546912\n",
       "1  Suburb mix  56195.586138\n",
       "2   Travelers  60352.471426\n",
       "3   Urban hip  20797.144176"
      ]
     },
     "execution_count": 27,
     "metadata": {},
     "output_type": "execute_result"
    }
   ],
   "source": [
    "#Produce dataframe for output: instead a single [], put double [[]] for the income variable.This produces a DF\n",
    "data_agg_frame=seg_df.groupby(\"Segment\", as_index=False)[['income']].mean()\n",
    "data_agg_frame"
   ]
  },
  {
   "cell_type": "markdown",
   "metadata": {},
   "source": [
    "<font color=red>R code</font>: *Crosstab*\n",
    "<br>$with(seg{\\_}df,\\,table(Segment,\\,ownHome))$"
   ]
  },
  {
   "cell_type": "code",
   "execution_count": 29,
   "metadata": {},
   "outputs": [
    {
     "data": {
      "text/html": [
       "<div>\n",
       "<style>\n",
       "    .dataframe thead tr:only-child th {\n",
       "        text-align: right;\n",
       "    }\n",
       "\n",
       "    .dataframe thead th {\n",
       "        text-align: left;\n",
       "    }\n",
       "\n",
       "    .dataframe tbody tr th {\n",
       "        vertical-align: top;\n",
       "    }\n",
       "</style>\n",
       "<table border=\"1\" class=\"dataframe\">\n",
       "  <thead>\n",
       "    <tr style=\"text-align: right;\">\n",
       "      <th>kids</th>\n",
       "      <th>Segment</th>\n",
       "      <th>0</th>\n",
       "      <th>1</th>\n",
       "      <th>2</th>\n",
       "      <th>3</th>\n",
       "      <th>4</th>\n",
       "      <th>5</th>\n",
       "      <th>7</th>\n",
       "      <th>9</th>\n",
       "    </tr>\n",
       "  </thead>\n",
       "  <tbody>\n",
       "    <tr>\n",
       "      <th>0</th>\n",
       "      <td>Moving up</td>\n",
       "      <td>9</td>\n",
       "      <td>13</td>\n",
       "      <td>24</td>\n",
       "      <td>18</td>\n",
       "      <td>4</td>\n",
       "      <td>2</td>\n",
       "      <td>0</td>\n",
       "      <td>0</td>\n",
       "    </tr>\n",
       "    <tr>\n",
       "      <th>1</th>\n",
       "      <td>Suburb mix</td>\n",
       "      <td>11</td>\n",
       "      <td>30</td>\n",
       "      <td>35</td>\n",
       "      <td>18</td>\n",
       "      <td>2</td>\n",
       "      <td>2</td>\n",
       "      <td>1</td>\n",
       "      <td>1</td>\n",
       "    </tr>\n",
       "    <tr>\n",
       "      <th>2</th>\n",
       "      <td>Travelers</td>\n",
       "      <td>80</td>\n",
       "      <td>0</td>\n",
       "      <td>0</td>\n",
       "      <td>0</td>\n",
       "      <td>0</td>\n",
       "      <td>0</td>\n",
       "      <td>0</td>\n",
       "      <td>0</td>\n",
       "    </tr>\n",
       "    <tr>\n",
       "      <th>3</th>\n",
       "      <td>Urban hip</td>\n",
       "      <td>16</td>\n",
       "      <td>23</td>\n",
       "      <td>9</td>\n",
       "      <td>2</td>\n",
       "      <td>0</td>\n",
       "      <td>0</td>\n",
       "      <td>0</td>\n",
       "      <td>0</td>\n",
       "    </tr>\n",
       "  </tbody>\n",
       "</table>\n",
       "</div>"
      ],
      "text/plain": [
       "kids     Segment   0   1   2   3  4  5  7  9\n",
       "0      Moving up   9  13  24  18  4  2  0  0\n",
       "1     Suburb mix  11  30  35  18  2  2  1  1\n",
       "2      Travelers  80   0   0   0  0  0  0  0\n",
       "3      Urban hip  16  23   9   2  0  0  0  0"
      ]
     },
     "execution_count": 29,
     "metadata": {},
     "output_type": "execute_result"
    }
   ],
   "source": [
    "#Python code: crosstab: kids by segment\n",
    "seg_kids=pd.crosstab(seg_df[\"Segment\"], seg_df[\"kids\"], margins=False)\n",
    "seg_kids.reset_index(inplace=True)\n",
    "seg_kids.rename(columns={'index':'Segment'}, inplace=True)\n",
    "seg_kids"
   ]
  },
  {
   "cell_type": "markdown",
   "metadata": {},
   "source": [
    "<font color=green>**Cracking the code**</font>: **$pd.crosstab$**\n",
    "<br>Compute a simple cross-tabulation of two (or more) factors.\n",
    "<br>**Syntax**: $pd.crosstab(group{\\_}rows, group{\\_}columns,\\,margins=False)$, margins=True adds row/column subtotals\n",
    "<br>**Reference**: http://pandas.pydata.org/pandas-docs/version/0.22/generated/pandas.crosstab.html"
   ]
  },
  {
   "cell_type": "code",
   "execution_count": 30,
   "metadata": {},
   "outputs": [
    {
     "data": {
      "text/html": [
       "<div>\n",
       "<style>\n",
       "    .dataframe thead tr:only-child th {\n",
       "        text-align: right;\n",
       "    }\n",
       "\n",
       "    .dataframe thead th {\n",
       "        text-align: left;\n",
       "    }\n",
       "\n",
       "    .dataframe tbody tr th {\n",
       "        vertical-align: top;\n",
       "    }\n",
       "</style>\n",
       "<table border=\"1\" class=\"dataframe\">\n",
       "  <thead>\n",
       "    <tr style=\"text-align: right;\">\n",
       "      <th></th>\n",
       "      <th>Segment</th>\n",
       "      <th>kids</th>\n",
       "    </tr>\n",
       "  </thead>\n",
       "  <tbody>\n",
       "    <tr>\n",
       "      <th>0</th>\n",
       "      <td>Moving up</td>\n",
       "      <td>141</td>\n",
       "    </tr>\n",
       "    <tr>\n",
       "      <th>1</th>\n",
       "      <td>Suburb mix</td>\n",
       "      <td>188</td>\n",
       "    </tr>\n",
       "    <tr>\n",
       "      <th>2</th>\n",
       "      <td>Travelers</td>\n",
       "      <td>0</td>\n",
       "    </tr>\n",
       "    <tr>\n",
       "      <th>3</th>\n",
       "      <td>Urban hip</td>\n",
       "      <td>47</td>\n",
       "    </tr>\n",
       "  </tbody>\n",
       "</table>\n",
       "</div>"
      ],
      "text/plain": [
       "      Segment  kids\n",
       "0   Moving up   141\n",
       "1  Suburb mix   188\n",
       "2   Travelers     0\n",
       "3   Urban hip    47"
      ]
     },
     "execution_count": 30,
     "metadata": {},
     "output_type": "execute_result"
    }
   ],
   "source": [
    "#total number of kids by segment\n",
    "seg_df.groupby(\"Segment\", as_index=False)[['kids']].sum()"
   ]
  },
  {
   "cell_type": "code",
   "execution_count": null,
   "metadata": {},
   "outputs": [],
   "source": [
    "#Quick overview of the data with crosstabs for categorical data (with subtotals)"
   ]
  },
  {
   "cell_type": "code",
   "execution_count": 31,
   "metadata": {},
   "outputs": [
    {
     "data": {
      "text/html": [
       "<div>\n",
       "<style>\n",
       "    .dataframe thead tr:only-child th {\n",
       "        text-align: right;\n",
       "    }\n",
       "\n",
       "    .dataframe thead th {\n",
       "        text-align: left;\n",
       "    }\n",
       "\n",
       "    .dataframe tbody tr th {\n",
       "        vertical-align: top;\n",
       "    }\n",
       "</style>\n",
       "<table border=\"1\" class=\"dataframe\">\n",
       "  <thead>\n",
       "    <tr style=\"text-align: right;\">\n",
       "      <th>subscribe</th>\n",
       "      <th>subNo</th>\n",
       "      <th>subYes</th>\n",
       "      <th>All</th>\n",
       "    </tr>\n",
       "    <tr>\n",
       "      <th>Segment</th>\n",
       "      <th></th>\n",
       "      <th></th>\n",
       "      <th></th>\n",
       "    </tr>\n",
       "  </thead>\n",
       "  <tbody>\n",
       "    <tr>\n",
       "      <th>Moving up</th>\n",
       "      <td>53</td>\n",
       "      <td>17</td>\n",
       "      <td>70</td>\n",
       "    </tr>\n",
       "    <tr>\n",
       "      <th>Suburb mix</th>\n",
       "      <td>95</td>\n",
       "      <td>5</td>\n",
       "      <td>100</td>\n",
       "    </tr>\n",
       "    <tr>\n",
       "      <th>Travelers</th>\n",
       "      <td>75</td>\n",
       "      <td>5</td>\n",
       "      <td>80</td>\n",
       "    </tr>\n",
       "    <tr>\n",
       "      <th>Urban hip</th>\n",
       "      <td>41</td>\n",
       "      <td>9</td>\n",
       "      <td>50</td>\n",
       "    </tr>\n",
       "    <tr>\n",
       "      <th>All</th>\n",
       "      <td>264</td>\n",
       "      <td>36</td>\n",
       "      <td>300</td>\n",
       "    </tr>\n",
       "  </tbody>\n",
       "</table>\n",
       "</div>"
      ],
      "text/plain": [
       "subscribe   subNo  subYes  All\n",
       "Segment                       \n",
       "Moving up      53      17   70\n",
       "Suburb mix     95       5  100\n",
       "Travelers      75       5   80\n",
       "Urban hip      41       9   50\n",
       "All           264      36  300"
      ]
     },
     "execution_count": 31,
     "metadata": {},
     "output_type": "execute_result"
    }
   ],
   "source": [
    "pd.crosstab(seg_df[\"Segment\"], seg_df[\"subscribe\"], margins=True)"
   ]
  },
  {
   "cell_type": "code",
   "execution_count": 32,
   "metadata": {},
   "outputs": [
    {
     "data": {
      "text/html": [
       "<div>\n",
       "<style>\n",
       "    .dataframe thead tr:only-child th {\n",
       "        text-align: right;\n",
       "    }\n",
       "\n",
       "    .dataframe thead th {\n",
       "        text-align: left;\n",
       "    }\n",
       "\n",
       "    .dataframe tbody tr th {\n",
       "        vertical-align: top;\n",
       "    }\n",
       "</style>\n",
       "<table border=\"1\" class=\"dataframe\">\n",
       "  <thead>\n",
       "    <tr style=\"text-align: right;\">\n",
       "      <th>kids</th>\n",
       "      <th>0</th>\n",
       "      <th>1</th>\n",
       "      <th>2</th>\n",
       "      <th>3</th>\n",
       "      <th>4</th>\n",
       "      <th>5</th>\n",
       "      <th>7</th>\n",
       "      <th>9</th>\n",
       "      <th>All</th>\n",
       "    </tr>\n",
       "    <tr>\n",
       "      <th>Segment</th>\n",
       "      <th></th>\n",
       "      <th></th>\n",
       "      <th></th>\n",
       "      <th></th>\n",
       "      <th></th>\n",
       "      <th></th>\n",
       "      <th></th>\n",
       "      <th></th>\n",
       "      <th></th>\n",
       "    </tr>\n",
       "  </thead>\n",
       "  <tbody>\n",
       "    <tr>\n",
       "      <th>Moving up</th>\n",
       "      <td>9</td>\n",
       "      <td>13</td>\n",
       "      <td>24</td>\n",
       "      <td>18</td>\n",
       "      <td>4</td>\n",
       "      <td>2</td>\n",
       "      <td>0</td>\n",
       "      <td>0</td>\n",
       "      <td>70</td>\n",
       "    </tr>\n",
       "    <tr>\n",
       "      <th>Suburb mix</th>\n",
       "      <td>11</td>\n",
       "      <td>30</td>\n",
       "      <td>35</td>\n",
       "      <td>18</td>\n",
       "      <td>2</td>\n",
       "      <td>2</td>\n",
       "      <td>1</td>\n",
       "      <td>1</td>\n",
       "      <td>100</td>\n",
       "    </tr>\n",
       "    <tr>\n",
       "      <th>Travelers</th>\n",
       "      <td>80</td>\n",
       "      <td>0</td>\n",
       "      <td>0</td>\n",
       "      <td>0</td>\n",
       "      <td>0</td>\n",
       "      <td>0</td>\n",
       "      <td>0</td>\n",
       "      <td>0</td>\n",
       "      <td>80</td>\n",
       "    </tr>\n",
       "    <tr>\n",
       "      <th>Urban hip</th>\n",
       "      <td>16</td>\n",
       "      <td>23</td>\n",
       "      <td>9</td>\n",
       "      <td>2</td>\n",
       "      <td>0</td>\n",
       "      <td>0</td>\n",
       "      <td>0</td>\n",
       "      <td>0</td>\n",
       "      <td>50</td>\n",
       "    </tr>\n",
       "    <tr>\n",
       "      <th>All</th>\n",
       "      <td>116</td>\n",
       "      <td>66</td>\n",
       "      <td>68</td>\n",
       "      <td>38</td>\n",
       "      <td>6</td>\n",
       "      <td>4</td>\n",
       "      <td>1</td>\n",
       "      <td>1</td>\n",
       "      <td>300</td>\n",
       "    </tr>\n",
       "  </tbody>\n",
       "</table>\n",
       "</div>"
      ],
      "text/plain": [
       "kids          0   1   2   3  4  5  7  9  All\n",
       "Segment                                     \n",
       "Moving up     9  13  24  18  4  2  0  0   70\n",
       "Suburb mix   11  30  35  18  2  2  1  1  100\n",
       "Travelers    80   0   0   0  0  0  0  0   80\n",
       "Urban hip    16  23   9   2  0  0  0  0   50\n",
       "All         116  66  68  38  6  4  1  1  300"
      ]
     },
     "execution_count": 32,
     "metadata": {},
     "output_type": "execute_result"
    }
   ],
   "source": [
    "pd.crosstab(seg_df[\"Segment\"], seg_df[\"kids\"], margins=True)"
   ]
  },
  {
   "cell_type": "code",
   "execution_count": 33,
   "metadata": {},
   "outputs": [
    {
     "data": {
      "text/html": [
       "<div>\n",
       "<style>\n",
       "    .dataframe thead tr:only-child th {\n",
       "        text-align: right;\n",
       "    }\n",
       "\n",
       "    .dataframe thead th {\n",
       "        text-align: left;\n",
       "    }\n",
       "\n",
       "    .dataframe tbody tr th {\n",
       "        vertical-align: top;\n",
       "    }\n",
       "</style>\n",
       "<table border=\"1\" class=\"dataframe\">\n",
       "  <thead>\n",
       "    <tr style=\"text-align: right;\">\n",
       "      <th>ownHome</th>\n",
       "      <th>ownNo</th>\n",
       "      <th>ownYes</th>\n",
       "      <th>All</th>\n",
       "    </tr>\n",
       "    <tr>\n",
       "      <th>Segment</th>\n",
       "      <th></th>\n",
       "      <th></th>\n",
       "      <th></th>\n",
       "    </tr>\n",
       "  </thead>\n",
       "  <tbody>\n",
       "    <tr>\n",
       "      <th>Moving up</th>\n",
       "      <td>43</td>\n",
       "      <td>27</td>\n",
       "      <td>70</td>\n",
       "    </tr>\n",
       "    <tr>\n",
       "      <th>Suburb mix</th>\n",
       "      <td>36</td>\n",
       "      <td>64</td>\n",
       "      <td>100</td>\n",
       "    </tr>\n",
       "    <tr>\n",
       "      <th>Travelers</th>\n",
       "      <td>20</td>\n",
       "      <td>60</td>\n",
       "      <td>80</td>\n",
       "    </tr>\n",
       "    <tr>\n",
       "      <th>Urban hip</th>\n",
       "      <td>42</td>\n",
       "      <td>8</td>\n",
       "      <td>50</td>\n",
       "    </tr>\n",
       "    <tr>\n",
       "      <th>All</th>\n",
       "      <td>141</td>\n",
       "      <td>159</td>\n",
       "      <td>300</td>\n",
       "    </tr>\n",
       "  </tbody>\n",
       "</table>\n",
       "</div>"
      ],
      "text/plain": [
       "ownHome     ownNo  ownYes  All\n",
       "Segment                       \n",
       "Moving up      43      27   70\n",
       "Suburb mix     36      64  100\n",
       "Travelers      20      60   80\n",
       "Urban hip      42       8   50\n",
       "All           141     159  300"
      ]
     },
     "execution_count": 33,
     "metadata": {},
     "output_type": "execute_result"
    }
   ],
   "source": [
    "pd.crosstab(seg_df[\"Segment\"], seg_df[\"ownHome\"], margins=True)"
   ]
  },
  {
   "cell_type": "code",
   "execution_count": 34,
   "metadata": {},
   "outputs": [
    {
     "data": {
      "text/html": [
       "<div>\n",
       "<style>\n",
       "    .dataframe thead tr:only-child th {\n",
       "        text-align: right;\n",
       "    }\n",
       "\n",
       "    .dataframe thead th {\n",
       "        text-align: left;\n",
       "    }\n",
       "\n",
       "    .dataframe tbody tr th {\n",
       "        vertical-align: top;\n",
       "    }\n",
       "</style>\n",
       "<table border=\"1\" class=\"dataframe\">\n",
       "  <thead>\n",
       "    <tr style=\"text-align: right;\">\n",
       "      <th>ownHome</th>\n",
       "      <th>ownNo</th>\n",
       "      <th>ownYes</th>\n",
       "    </tr>\n",
       "    <tr>\n",
       "      <th>Segment</th>\n",
       "      <th></th>\n",
       "      <th></th>\n",
       "    </tr>\n",
       "  </thead>\n",
       "  <tbody>\n",
       "    <tr>\n",
       "      <th>Moving up</th>\n",
       "      <td>43</td>\n",
       "      <td>27</td>\n",
       "    </tr>\n",
       "    <tr>\n",
       "      <th>Suburb mix</th>\n",
       "      <td>36</td>\n",
       "      <td>64</td>\n",
       "    </tr>\n",
       "    <tr>\n",
       "      <th>Travelers</th>\n",
       "      <td>20</td>\n",
       "      <td>60</td>\n",
       "    </tr>\n",
       "    <tr>\n",
       "      <th>Urban hip</th>\n",
       "      <td>42</td>\n",
       "      <td>8</td>\n",
       "    </tr>\n",
       "  </tbody>\n",
       "</table>\n",
       "</div>"
      ],
      "text/plain": [
       "ownHome     ownNo  ownYes\n",
       "Segment                  \n",
       "Moving up      43      27\n",
       "Suburb mix     36      64\n",
       "Travelers      20      60\n",
       "Urban hip      42       8"
      ]
     },
     "execution_count": 34,
     "metadata": {},
     "output_type": "execute_result"
    }
   ],
   "source": [
    "#When do not want the totals\n",
    "pd.crosstab(seg_df[\"Segment\"], seg_df[\"ownHome\"], margins=False)"
   ]
  },
  {
   "cell_type": "code",
   "execution_count": 35,
   "metadata": {},
   "outputs": [
    {
     "data": {
      "text/html": [
       "<div>\n",
       "<style>\n",
       "    .dataframe thead tr:only-child th {\n",
       "        text-align: right;\n",
       "    }\n",
       "\n",
       "    .dataframe thead th {\n",
       "        text-align: left;\n",
       "    }\n",
       "\n",
       "    .dataframe tbody tr th {\n",
       "        vertical-align: top;\n",
       "    }\n",
       "</style>\n",
       "<table border=\"1\" class=\"dataframe\">\n",
       "  <thead>\n",
       "    <tr style=\"text-align: right;\">\n",
       "      <th></th>\n",
       "      <th>ownHome</th>\n",
       "      <th>ownNo</th>\n",
       "      <th>ownYes</th>\n",
       "      <th>All</th>\n",
       "    </tr>\n",
       "    <tr>\n",
       "      <th>Segment</th>\n",
       "      <th>subscribe</th>\n",
       "      <th></th>\n",
       "      <th></th>\n",
       "      <th></th>\n",
       "    </tr>\n",
       "  </thead>\n",
       "  <tbody>\n",
       "    <tr>\n",
       "      <th rowspan=\"2\" valign=\"top\">Moving up</th>\n",
       "      <th>subNo</th>\n",
       "      <td>32</td>\n",
       "      <td>21</td>\n",
       "      <td>53</td>\n",
       "    </tr>\n",
       "    <tr>\n",
       "      <th>subYes</th>\n",
       "      <td>11</td>\n",
       "      <td>6</td>\n",
       "      <td>17</td>\n",
       "    </tr>\n",
       "    <tr>\n",
       "      <th rowspan=\"2\" valign=\"top\">Suburb mix</th>\n",
       "      <th>subNo</th>\n",
       "      <td>34</td>\n",
       "      <td>61</td>\n",
       "      <td>95</td>\n",
       "    </tr>\n",
       "    <tr>\n",
       "      <th>subYes</th>\n",
       "      <td>2</td>\n",
       "      <td>3</td>\n",
       "      <td>5</td>\n",
       "    </tr>\n",
       "    <tr>\n",
       "      <th rowspan=\"2\" valign=\"top\">Travelers</th>\n",
       "      <th>subNo</th>\n",
       "      <td>19</td>\n",
       "      <td>56</td>\n",
       "      <td>75</td>\n",
       "    </tr>\n",
       "    <tr>\n",
       "      <th>subYes</th>\n",
       "      <td>1</td>\n",
       "      <td>4</td>\n",
       "      <td>5</td>\n",
       "    </tr>\n",
       "    <tr>\n",
       "      <th rowspan=\"2\" valign=\"top\">Urban hip</th>\n",
       "      <th>subNo</th>\n",
       "      <td>34</td>\n",
       "      <td>7</td>\n",
       "      <td>41</td>\n",
       "    </tr>\n",
       "    <tr>\n",
       "      <th>subYes</th>\n",
       "      <td>8</td>\n",
       "      <td>1</td>\n",
       "      <td>9</td>\n",
       "    </tr>\n",
       "    <tr>\n",
       "      <th>All</th>\n",
       "      <th></th>\n",
       "      <td>141</td>\n",
       "      <td>159</td>\n",
       "      <td>300</td>\n",
       "    </tr>\n",
       "  </tbody>\n",
       "</table>\n",
       "</div>"
      ],
      "text/plain": [
       "ownHome               ownNo  ownYes  All\n",
       "Segment    subscribe                    \n",
       "Moving up  subNo         32      21   53\n",
       "           subYes        11       6   17\n",
       "Suburb mix subNo         34      61   95\n",
       "           subYes         2       3    5\n",
       "Travelers  subNo         19      56   75\n",
       "           subYes         1       4    5\n",
       "Urban hip  subNo         34       7   41\n",
       "           subYes         8       1    9\n",
       "All                     141     159  300"
      ]
     },
     "execution_count": 35,
     "metadata": {},
     "output_type": "execute_result"
    }
   ],
   "source": [
    "#With more than one filter\n",
    "pd.crosstab([seg_df[\"Segment\"], seg_df[\"subscribe\"]], seg_df[\"ownHome\"], margins=True)"
   ]
  },
  {
   "cell_type": "markdown",
   "metadata": {},
   "source": [
    "### Visualization by groups: Frequencies and proportions"
   ]
  },
  {
   "cell_type": "markdown",
   "metadata": {},
   "source": [
    "#### Countplots"
   ]
  },
  {
   "cell_type": "markdown",
   "metadata": {},
   "source": [
    "<font color=red>R code</font>: *Countplot*\n",
    "<br>$histogram(\\sim subscribe \\mid Segment, data=seg{\\_}df,\\,type=``count``)$"
   ]
  },
  {
   "cell_type": "code",
   "execution_count": 36,
   "metadata": {},
   "outputs": [
    {
     "data": {
      "text/plain": [
       "<matplotlib.axes._subplots.AxesSubplot at 0x14154cc0>"
      ]
     },
     "execution_count": 36,
     "metadata": {},
     "output_type": "execute_result"
    },
    {
     "data": {
      "image/png": "[encoded data removed]",
      "text/plain": [
       "<matplotlib.figure.Figure at 0x1414f828>"
      ]
     },
     "metadata": {},
     "output_type": "display_data"
    }
   ],
   "source": [
    "#Python code\n",
    "sns.countplot(x=\"subscribe\",\n",
    "              data=seg_df,\n",
    "              hue=\"Segment\",\n",
    "              palette='Greens_d',\n",
    "              orient=\"h\"\n",
    "              )"
   ]
  },
  {
   "cell_type": "code",
   "execution_count": 37,
   "metadata": {},
   "outputs": [
    {
     "data": {
      "text/plain": [
       "<matplotlib.axes._subplots.AxesSubplot at 0x1414f2b0>"
      ]
     },
     "execution_count": 37,
     "metadata": {},
     "output_type": "execute_result"
    },
    {
     "data": {
      "image/png": "[encoded data removed]",
      "text/plain": [
       "<matplotlib.figure.Figure at 0x14133400>"
      ]
     },
     "metadata": {},
     "output_type": "display_data"
    }
   ],
   "source": [
    "sns.countplot(x=\"Segment\",\n",
    "              data=seg_df,\n",
    "              hue=\"ownHome\",\n",
    "              palette='Greens_d',\n",
    "              orient=\"h\"\n",
    "              )"
   ]
  },
  {
   "cell_type": "code",
   "execution_count": 39,
   "metadata": {},
   "outputs": [
    {
     "data": {
      "text/plain": [
       "<matplotlib.axes._subplots.AxesSubplot at 0x175309e8>"
      ]
     },
     "execution_count": 39,
     "metadata": {},
     "output_type": "execute_result"
    },
    {
     "data": {
      "image/png": "[encoded data removed]",
      "text/plain": [
       "<matplotlib.figure.Figure at 0x14133a90>"
      ]
     },
     "metadata": {},
     "output_type": "display_data"
    }
   ],
   "source": [
    "sns.countplot(x='kids', data=seg_df, palette=\"Greens_d\")"
   ]
  },
  {
   "cell_type": "code",
   "execution_count": 40,
   "metadata": {},
   "outputs": [
    {
     "data": {
      "text/plain": [
       "<matplotlib.axes._subplots.AxesSubplot at 0x175c24e0>"
      ]
     },
     "execution_count": 40,
     "metadata": {},
     "output_type": "execute_result"
    },
    {
     "data": {
      "image/png": "[encoded data removed]",
      "text/plain": [
       "<matplotlib.figure.Figure at 0x17514f28>"
      ]
     },
     "metadata": {},
     "output_type": "display_data"
    }
   ],
   "source": [
    "sns.countplot(x='gender', data=seg_df, palette=\"Greens_d\")"
   ]
  },
  {
   "cell_type": "markdown",
   "metadata": {},
   "source": [
    "#### Factorplot"
   ]
  },
  {
   "cell_type": "code",
   "execution_count": 38,
   "metadata": {},
   "outputs": [
    {
     "data": {
      "text/plain": [
       "<seaborn.axisgrid.FacetGrid at 0x12dca978>"
      ]
     },
     "execution_count": 38,
     "metadata": {},
     "output_type": "execute_result"
    },
    {
     "data": {
      "image/png": "[encoded data removed]",
      "text/plain": [
       "<matplotlib.figure.Figure at 0x141f6128>"
      ]
     },
     "metadata": {},
     "output_type": "display_data"
    }
   ],
   "source": [
    "#Python factor plot\n",
    "sns.factorplot(\"ownHome\", col=\"Segment\",\n",
    "               data=seg_df,\n",
    "               kind='count')"
   ]
  },
  {
   "cell_type": "markdown",
   "metadata": {},
   "source": [
    "<font color=green>**Cracking the code**</font>: **$sns.factorplot$**\n",
    "<br>Draw a categorical plot onto a FacetGrid. The default plot is a point plot.\n",
    "<br>**Syntax**: $sns.factorplot(x,col, data, kind)$\n",
    "<br>**Reference**: https://seaborn.pydata.org/generated/seaborn.factorplot.html "
   ]
  },
  {
   "cell_type": "markdown",
   "metadata": {},
   "source": [
    "### Visualization by groups: continuous variables"
   ]
  },
  {
   "cell_type": "markdown",
   "metadata": {},
   "source": [
    "#### Barplot"
   ]
  },
  {
   "cell_type": "markdown",
   "metadata": {},
   "source": [
    "<font color=red>R code</font>: *Barplot*\n",
    "<br>$seg{\\_}income{\\_}agg<-aggregate(income\\sim Segment + ownHome, data=seg{\\_}df,\\,mean)$\n",
    "<br>$barchart(income\\sim Segment,\\,data=seg{\\_}income{\\_}agg,\\,groups=ownHome)$"
   ]
  },
  {
   "cell_type": "code",
   "execution_count": 41,
   "metadata": {},
   "outputs": [],
   "source": [
    "#Python code\n",
    "sns.set(style=\"ticks\", color_codes=True)"
   ]
  },
  {
   "cell_type": "code",
   "execution_count": 42,
   "metadata": {},
   "outputs": [
    {
     "data": {
      "text/plain": [
       "<matplotlib.axes._subplots.AxesSubplot at 0x1765f390>"
      ]
     },
     "execution_count": 42,
     "metadata": {},
     "output_type": "execute_result"
    },
    {
     "data": {
      "image/png": "[encoded data removed]",
      "text/plain": [
       "<matplotlib.figure.Figure at 0x141f60b8>"
      ]
     },
     "metadata": {},
     "output_type": "display_data"
    }
   ],
   "source": [
    "#Python : barplot\n",
    "sns.barplot(x='Segment', y='income',\n",
    "            data=seg_df,\n",
    "            hue='ownHome',\n",
    "            color=\"crimson\")"
   ]
  },
  {
   "cell_type": "code",
   "execution_count": 43,
   "metadata": {},
   "outputs": [
    {
     "data": {
      "text/plain": [
       "<matplotlib.axes._subplots.AxesSubplot at 0x175a90f0>"
      ]
     },
     "execution_count": 43,
     "metadata": {},
     "output_type": "execute_result"
    },
    {
     "data": {
      "image/png": "[encoded data removed]",
      "text/plain": [
       "<matplotlib.figure.Figure at 0x14133208>"
      ]
     },
     "metadata": {},
     "output_type": "display_data"
    }
   ],
   "source": [
    "sns.barplot(x='Segment', y='income',\n",
    "            data=seg_df,\n",
    "            hue='gender'\n",
    "            )"
   ]
  },
  {
   "cell_type": "markdown",
   "metadata": {},
   "source": [
    "<font color=green>**Cracking the code**</font>: **$sns.barplot$**\n",
    "<br>Represents an estimate of central tendency for a numeric variable with the height of each rectangle.\n",
    "<br>**Syntax**: $sns.barplot(x,data, hue, orient)$\n",
    "<br>**Reference**: https://seaborn.pydata.org/generated/seaborn.barplot.html"
   ]
  },
  {
   "cell_type": "code",
   "execution_count": 49,
   "metadata": {},
   "outputs": [
    {
     "data": {
      "image/png": "[encoded data removed]",
      "text/plain": [
       "<matplotlib.figure.Figure at 0x188f42b0>"
      ]
     },
     "metadata": {},
     "output_type": "display_data"
    }
   ],
   "source": [
    "#Make a complicated graph combining matplotlib and seaborn\n",
    "g=sns.factorplot(x=\"Segment\", y=\"income\", \n",
    "               hue=\"gender\",\n",
    "               col=\"subscribe\", \n",
    "               data=seg_df, \n",
    "               kind=\"bar\",\n",
    "               legend=False)\n",
    "g.despine(left=True)\n",
    "plt.legend(loc=\"upper left\")\n",
    "plt.show()"
   ]
  },
  {
   "cell_type": "markdown",
   "metadata": {},
   "source": [
    "<font color=green>**Cracking the code**</font>: **$sns.despine$**\n",
    "<br>Remove the top and right spines from plot(s).\n",
    "<br>**Syntax**: $sns.despine(fig,ax, position)$\n",
    "<br>**Reference**: https://seaborn.pydata.org/generated/seaborn.despine.html"
   ]
  },
  {
   "cell_type": "markdown",
   "metadata": {},
   "source": [
    "#### Boxplot"
   ]
  },
  {
   "cell_type": "markdown",
   "metadata": {},
   "source": [
    "<font color=red>R code</font>: *Boxplot*\n",
    "<br>$boxplot(income \\sim Segment,\\,data=seg{\\_}df,\\,yaxt=''n'',\\,ylab=''Income(\\$k)'')$"
   ]
  },
  {
   "cell_type": "code",
   "execution_count": null,
   "metadata": {},
   "outputs": [],
   "source": [
    "#Python code: Boxplot"
   ]
  },
  {
   "cell_type": "code",
   "execution_count": 45,
   "metadata": {},
   "outputs": [
    {
     "data": {
      "text/plain": [
       "<matplotlib.axes._subplots.AxesSubplot at 0x17958a20>"
      ]
     },
     "execution_count": 45,
     "metadata": {},
     "output_type": "execute_result"
    },
    {
     "data": {
      "image/png": "[encoded data removed]",
      "text/plain": [
       "<matplotlib.figure.Figure at 0x173357b8>"
      ]
     },
     "metadata": {},
     "output_type": "display_data"
    }
   ],
   "source": [
    "sns.boxplot(x=\"Segment\", y=\"income\",\n",
    "            data=seg_df,\n",
    "            color=\"aquamarine\")"
   ]
  },
  {
   "cell_type": "code",
   "execution_count": 46,
   "metadata": {},
   "outputs": [
    {
     "data": {
      "text/plain": [
       "<matplotlib.axes._subplots.AxesSubplot at 0x17f28400>"
      ]
     },
     "execution_count": 46,
     "metadata": {},
     "output_type": "execute_result"
    },
    {
     "data": {
      "image/png": "[encoded data removed]",
      "text/plain": [
       "<matplotlib.figure.Figure at 0x179584a8>"
      ]
     },
     "metadata": {},
     "output_type": "display_data"
    }
   ],
   "source": [
    "sns.boxplot(x=\"Segment\", y=\"income\",\n",
    "            data=seg_df,\n",
    "            hue='ownHome',\n",
    "            palette=\"RdBu\")"
   ]
  },
  {
   "cell_type": "code",
   "execution_count": 47,
   "metadata": {},
   "outputs": [
    {
     "data": {
      "text/plain": [
       "<matplotlib.axes._subplots.AxesSubplot at 0x181d9278>"
      ]
     },
     "execution_count": 47,
     "metadata": {},
     "output_type": "execute_result"
    },
    {
     "data": {
      "image/png": "[encoded data removed]",
      "text/plain": [
       "<matplotlib.figure.Figure at 0x17ebbbe0>"
      ]
     },
     "metadata": {},
     "output_type": "display_data"
    }
   ],
   "source": [
    "sns.boxplot(x=\"Segment\", y=\"income\",\n",
    "            data=seg_df,\n",
    "            hue='gender',\n",
    "            palette='muted'\n",
    "            )"
   ]
  },
  {
   "cell_type": "markdown",
   "metadata": {},
   "source": [
    "<font color=green>**Cracking the code**</font>: **$sns.boxplot$**\n",
    "<br>Draw a box-plot to show distribution with respect to categories. A Boxplot (or box-and-whisker plot) shows the distribution of quantitative data in a way that facilitates comparisons between variables or across levels of categorical variable. Below is a schema explaining what is represented on the boxplot.\n",
    "<img src=\"boxplot.png\" width=\"300\">\n",
    "<br>**Syntax**: $sns.boxplot(x, data, hue, orient)$\n",
    "<br>**Reference**: https://seaborn.pydata.org/generated/seaborn.boxplot.html"
   ]
  },
  {
   "cell_type": "markdown",
   "metadata": {},
   "source": [
    "#### Swarmplot"
   ]
  },
  {
   "cell_type": "code",
   "execution_count": 48,
   "metadata": {},
   "outputs": [
    {
     "data": {
      "text/plain": [
       "<matplotlib.axes._subplots.AxesSubplot at 0x189cf4e0>"
      ]
     },
     "execution_count": 48,
     "metadata": {},
     "output_type": "execute_result"
    },
    {
     "data": {
      "image/png": "[encoded data removed]",
      "text/plain": [
       "<matplotlib.figure.Figure at 0x17de6518>"
      ]
     },
     "metadata": {},
     "output_type": "display_data"
    }
   ],
   "source": [
    "#Python swarmplot\n",
    "sns.swarmplot(x=\"Segment\", y=\"income\",\n",
    "            data=seg_df,\n",
    "            hue='ownHome',\n",
    "            palette=\"RdBu\")"
   ]
  },
  {
   "cell_type": "markdown",
   "metadata": {},
   "source": [
    "<font color=green>**Cracking the code**</font>: **$sns.swarmplot$**\n",
    "<br>Draw a categorical scatterplot with non-overlapping points. \n",
    "<br>**Syntax**: $sns.swarmplot(x, data, hue, orient)$\n",
    "<br>**Reference**: https://seaborn.pydata.org/generated/seaborn.swarmplot.html"
   ]
  },
  {
   "cell_type": "markdown",
   "metadata": {},
   "source": [
    "#### Stacked column chart"
   ]
  },
  {
   "cell_type": "code",
   "execution_count": 55,
   "metadata": {},
   "outputs": [
    {
     "data": {
      "text/plain": [
       "<matplotlib.axes._subplots.AxesSubplot at 0x17c650b8>"
      ]
     },
     "execution_count": 55,
     "metadata": {},
     "output_type": "execute_result"
    },
    {
     "data": {
      "image/png": "[encoded data removed]",
      "text/plain": [
       "<matplotlib.figure.Figure at 0x1a329da0>"
      ]
     },
     "metadata": {},
     "output_type": "display_data"
    }
   ],
   "source": [
    "#Python code\n",
    "var=seg_df.groupby(['Segment', 'gender'])['income'].sum()\n",
    "var.unstack().plot(kind='bar',\n",
    "                   stacked=True,\n",
    "                   color=[\"darkred\", \"teal\"],\n",
    "                   grid=False\n",
    "                   )"
   ]
  },
  {
   "cell_type": "markdown",
   "metadata": {},
   "source": [
    "#### Scatterplot"
   ]
  },
  {
   "cell_type": "code",
   "execution_count": 51,
   "metadata": {},
   "outputs": [
    {
     "data": {
      "image/png": "[encoded data removed]",
      "text/plain": [
       "<matplotlib.figure.Figure at 0x18e7d470>"
      ]
     },
     "metadata": {},
     "output_type": "display_data"
    }
   ],
   "source": [
    "#Python code\n",
    "fig=sns.jointplot(x='age',\n",
    "                  y='income',\n",
    "                  data=seg_df)"
   ]
  },
  {
   "cell_type": "markdown",
   "metadata": {},
   "source": [
    "<font color=green>**Cracking the code**</font>: **$sns.jointplot$**\n",
    "<br>Draw a plot of two variables with bivariate and univariate graphs\n",
    "<br>**Syntax**: $sns.jointplot(x, y, data, kind)$\n",
    "<br>**Reference**: https://seaborn.pydata.org/generated/seaborn.jointplot.html"
   ]
  },
  {
   "cell_type": "markdown",
   "metadata": {},
   "source": [
    "#### Density plot"
   ]
  },
  {
   "cell_type": "code",
   "execution_count": 52,
   "metadata": {},
   "outputs": [
    {
     "data": {
      "text/plain": [
       "<matplotlib.axes._subplots.AxesSubplot at 0x1a028588>"
      ]
     },
     "execution_count": 52,
     "metadata": {},
     "output_type": "execute_result"
    },
    {
     "data": {
      "image/png": "[encoded data removed]",
      "text/plain": [
       "<matplotlib.figure.Figure at 0x19fbb710>"
      ]
     },
     "metadata": {},
     "output_type": "display_data"
    }
   ],
   "source": [
    "#Python code\n",
    "sns.kdeplot(seg_df[\"age\"], seg_df[\"income\"])"
   ]
  },
  {
   "cell_type": "markdown",
   "metadata": {},
   "source": [
    "<font color=green>**Cracking the code**</font>: **$sns.kdeplot$**\n",
    "<br>Fit and plot a univariate or bivariate kernel density estimate.\n",
    "<br>**Syntax**: $sns.kdeplot(data,\\,data2)$\n",
    "<br>**Reference**: https://seaborn.pydata.org/generated/seaborn.kdeplot.html"
   ]
  },
  {
   "cell_type": "markdown",
   "metadata": {},
   "source": [
    "#### Distribution plot"
   ]
  },
  {
   "cell_type": "code",
   "execution_count": 53,
   "metadata": {},
   "outputs": [
    {
     "data": {
      "text/plain": [
       "<matplotlib.axes._subplots.AxesSubplot at 0x19fc7908>"
      ]
     },
     "execution_count": 53,
     "metadata": {},
     "output_type": "execute_result"
    },
    {
     "data": {
      "image/png": "[encoded data removed]",
      "text/plain": [
       "<matplotlib.figure.Figure at 0x1a028240>"
      ]
     },
     "metadata": {},
     "output_type": "display_data"
    }
   ],
   "source": [
    "#Python code\n",
    "sns.distplot(seg_df[\"income\"])"
   ]
  },
  {
   "cell_type": "markdown",
   "metadata": {},
   "source": [
    "<font color=green>**Cracking the code**</font>: **$sns.distplot$**\n",
    "<br>Flexibily plot a univariate distribution of observations.\n",
    "<br>**Syntax**: $sns.distplot(data,\\,bins,\\,hist,\\,kde,\\,color)$\n",
    "<br>**Reference**: https://seaborn.pydata.org/generated/seaborn.distplot.html"
   ]
  }
 ],
 "metadata": {
  "kernelspec": {
   "display_name": "Python 2",
   "language": "python",
   "name": "python2"
  },
  "language_info": {
   "codemirror_mode": {
    "name": "ipython",
    "version": 2
   },
   "file_extension": ".py",
   "mimetype": "text/x-python",
   "name": "python",
   "nbconvert_exporter": "python",
   "pygments_lexer": "ipython2",
   "version": "2.7.15"
  }
 },
 "nbformat": 4,
 "nbformat_minor": 2
}
